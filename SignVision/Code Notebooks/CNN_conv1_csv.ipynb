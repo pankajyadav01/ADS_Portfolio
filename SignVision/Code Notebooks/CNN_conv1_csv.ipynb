{
  "nbformat": 4,
  "nbformat_minor": 0,
  "metadata": {
    "colab": {
      "provenance": []
    },
    "kernelspec": {
      "name": "python3",
      "display_name": "Python 3"
    },
    "language_info": {
      "name": "python"
    },
    "accelerator": "GPU",
    "gpuClass": "standard"
  },
  "cells": [
    {
      "cell_type": "code",
      "execution_count": null,
      "metadata": {
        "colab": {
          "base_uri": "https://localhost:8080/"
        },
        "id": "SGYjPhct5mnQ",
        "outputId": "7d9a0e54-e225-4159-d135-f5e675875a19"
      },
      "outputs": [
        {
          "output_type": "stream",
          "name": "stdout",
          "text": [
            "Mounted at /content/drive\n"
          ]
        }
      ],
      "source": [
        "from google.colab import drive\n",
        "drive.mount('/content/drive')"
      ]
    },
    {
      "cell_type": "code",
      "source": [
        "import pandas as pd\n",
        "import numpy as np\n",
        "import matplotlib.pyplot as plt\n",
        "from sklearn.model_selection import train_test_split\n",
        "from sklearn.preprocessing import LabelEncoder\n",
        "import tensorflow as tf\n",
        "from tensorflow.keras.models import Sequential\n",
        "from tensorflow.keras.layers import Conv2D, MaxPooling2D, Flatten, Dense, BatchNormalization\n",
        "from sklearn.metrics import classification_report, confusion_matrix"
      ],
      "metadata": {
        "id": "bMqwWN6m5pNj"
      },
      "execution_count": 2,
      "outputs": []
    },
    {
      "cell_type": "code",
      "source": [
        "base_dir = \"drive/MyDrive/IST707/Project/\"\n",
        "target_dir = base_dir + \"ASL_Dataset\"\n",
        "\n",
        "dF_file = \"procesed_data_w_imgdata.csv\"\n",
        "dataset_path = base_dir + dF_file"
      ],
      "metadata": {
        "id": "LQ97eX7H5pP3"
      },
      "execution_count": 3,
      "outputs": []
    },
    {
      "cell_type": "code",
      "source": [
        "df = pd.read_csv(base_dir + \"procesed_imgdata_32x32.csv\")"
      ],
      "metadata": {
        "colab": {
          "base_uri": "https://localhost:8080/"
        },
        "id": "G1gdxLbg5pSS",
        "outputId": "ad158511-6795-43bb-cd52-617380372dd6"
      },
      "execution_count": 4,
      "outputs": [
        {
          "output_type": "stream",
          "name": "stderr",
          "text": [
            "<ipython-input-4-c9cf85d25ea8>:1: DtypeWarning: Columns (1024) have mixed types. Specify dtype option on import or set low_memory=False.\n",
            "  df = pd.read_csv(base_dir + \"procesed_imgdata_32x32.csv\")\n"
          ]
        }
      ]
    },
    {
      "cell_type": "code",
      "source": [
        "df.head()"
      ],
      "metadata": {
        "colab": {
          "base_uri": "https://localhost:8080/",
          "height": 236
        },
        "id": "yntSukVY5pUq",
        "outputId": "2bd383d3-52c3-4dad-bc72-df2bb25a99fb"
      },
      "execution_count": 5,
      "outputs": [
        {
          "output_type": "execute_result",
          "data": {
            "text/plain": [
              "    pixel_0   pixel_1   pixel_2   pixel_3   pixel_4   pixel_5   pixel_6  \\\n",
              "0  0.478431  0.435294  0.462745  0.537255  0.631373  0.670588  0.654902   \n",
              "1  0.474510  0.439216  0.447059  0.533333  0.627451  0.670588  0.654902   \n",
              "2  0.474510  0.427451  0.396078  0.356863  0.321569  0.290196  0.262745   \n",
              "3  0.466667  0.411765  0.384314  0.341176  0.298039  0.203922  0.152941   \n",
              "4  0.454902  0.407843  0.388235  0.341176  0.309804  0.282353  0.254902   \n",
              "\n",
              "    pixel_7   pixel_8   pixel_9  ...  pixel_1017  pixel_1018  pixel_1019  \\\n",
              "0  0.639216  0.619608  0.592157  ...    0.419608    0.400000    0.407843   \n",
              "1  0.639216  0.627451  0.596078  ...    0.407843    0.415686    0.415686   \n",
              "2  0.247059  0.231373  0.215686  ...    0.211765    0.180392    0.172549   \n",
              "3  0.231373  0.223529  0.203922  ...    0.568627    0.576471    0.576471   \n",
              "4  0.243137  0.219608  0.207843  ...    0.537255    0.552941    0.556863   \n",
              "\n",
              "   pixel_1020  pixel_1021  pixel_1022  pixel_1023  labels  isSign  labelsEnc  \n",
              "0    0.403922    0.403922    0.400000    0.392157       u       1         33  \n",
              "1    0.411765    0.403922    0.403922    0.407843       u       1         33  \n",
              "2    0.168627    0.156863    0.274510    0.568627       u       1         33  \n",
              "3    0.576471    0.572549    0.580392    0.588235       u       1         33  \n",
              "4    0.549020    0.545098    0.549020    0.556863       u       1         33  \n",
              "\n",
              "[5 rows x 1027 columns]"
            ],
            "text/html": [
              "\n",
              "  <div id=\"df-15304481-9693-4474-9487-2efdd1941f58\">\n",
              "    <div class=\"colab-df-container\">\n",
              "      <div>\n",
              "<style scoped>\n",
              "    .dataframe tbody tr th:only-of-type {\n",
              "        vertical-align: middle;\n",
              "    }\n",
              "\n",
              "    .dataframe tbody tr th {\n",
              "        vertical-align: top;\n",
              "    }\n",
              "\n",
              "    .dataframe thead th {\n",
              "        text-align: right;\n",
              "    }\n",
              "</style>\n",
              "<table border=\"1\" class=\"dataframe\">\n",
              "  <thead>\n",
              "    <tr style=\"text-align: right;\">\n",
              "      <th></th>\n",
              "      <th>pixel_0</th>\n",
              "      <th>pixel_1</th>\n",
              "      <th>pixel_2</th>\n",
              "      <th>pixel_3</th>\n",
              "      <th>pixel_4</th>\n",
              "      <th>pixel_5</th>\n",
              "      <th>pixel_6</th>\n",
              "      <th>pixel_7</th>\n",
              "      <th>pixel_8</th>\n",
              "      <th>pixel_9</th>\n",
              "      <th>...</th>\n",
              "      <th>pixel_1017</th>\n",
              "      <th>pixel_1018</th>\n",
              "      <th>pixel_1019</th>\n",
              "      <th>pixel_1020</th>\n",
              "      <th>pixel_1021</th>\n",
              "      <th>pixel_1022</th>\n",
              "      <th>pixel_1023</th>\n",
              "      <th>labels</th>\n",
              "      <th>isSign</th>\n",
              "      <th>labelsEnc</th>\n",
              "    </tr>\n",
              "  </thead>\n",
              "  <tbody>\n",
              "    <tr>\n",
              "      <th>0</th>\n",
              "      <td>0.478431</td>\n",
              "      <td>0.435294</td>\n",
              "      <td>0.462745</td>\n",
              "      <td>0.537255</td>\n",
              "      <td>0.631373</td>\n",
              "      <td>0.670588</td>\n",
              "      <td>0.654902</td>\n",
              "      <td>0.639216</td>\n",
              "      <td>0.619608</td>\n",
              "      <td>0.592157</td>\n",
              "      <td>...</td>\n",
              "      <td>0.419608</td>\n",
              "      <td>0.400000</td>\n",
              "      <td>0.407843</td>\n",
              "      <td>0.403922</td>\n",
              "      <td>0.403922</td>\n",
              "      <td>0.400000</td>\n",
              "      <td>0.392157</td>\n",
              "      <td>u</td>\n",
              "      <td>1</td>\n",
              "      <td>33</td>\n",
              "    </tr>\n",
              "    <tr>\n",
              "      <th>1</th>\n",
              "      <td>0.474510</td>\n",
              "      <td>0.439216</td>\n",
              "      <td>0.447059</td>\n",
              "      <td>0.533333</td>\n",
              "      <td>0.627451</td>\n",
              "      <td>0.670588</td>\n",
              "      <td>0.654902</td>\n",
              "      <td>0.639216</td>\n",
              "      <td>0.627451</td>\n",
              "      <td>0.596078</td>\n",
              "      <td>...</td>\n",
              "      <td>0.407843</td>\n",
              "      <td>0.415686</td>\n",
              "      <td>0.415686</td>\n",
              "      <td>0.411765</td>\n",
              "      <td>0.403922</td>\n",
              "      <td>0.403922</td>\n",
              "      <td>0.407843</td>\n",
              "      <td>u</td>\n",
              "      <td>1</td>\n",
              "      <td>33</td>\n",
              "    </tr>\n",
              "    <tr>\n",
              "      <th>2</th>\n",
              "      <td>0.474510</td>\n",
              "      <td>0.427451</td>\n",
              "      <td>0.396078</td>\n",
              "      <td>0.356863</td>\n",
              "      <td>0.321569</td>\n",
              "      <td>0.290196</td>\n",
              "      <td>0.262745</td>\n",
              "      <td>0.247059</td>\n",
              "      <td>0.231373</td>\n",
              "      <td>0.215686</td>\n",
              "      <td>...</td>\n",
              "      <td>0.211765</td>\n",
              "      <td>0.180392</td>\n",
              "      <td>0.172549</td>\n",
              "      <td>0.168627</td>\n",
              "      <td>0.156863</td>\n",
              "      <td>0.274510</td>\n",
              "      <td>0.568627</td>\n",
              "      <td>u</td>\n",
              "      <td>1</td>\n",
              "      <td>33</td>\n",
              "    </tr>\n",
              "    <tr>\n",
              "      <th>3</th>\n",
              "      <td>0.466667</td>\n",
              "      <td>0.411765</td>\n",
              "      <td>0.384314</td>\n",
              "      <td>0.341176</td>\n",
              "      <td>0.298039</td>\n",
              "      <td>0.203922</td>\n",
              "      <td>0.152941</td>\n",
              "      <td>0.231373</td>\n",
              "      <td>0.223529</td>\n",
              "      <td>0.203922</td>\n",
              "      <td>...</td>\n",
              "      <td>0.568627</td>\n",
              "      <td>0.576471</td>\n",
              "      <td>0.576471</td>\n",
              "      <td>0.576471</td>\n",
              "      <td>0.572549</td>\n",
              "      <td>0.580392</td>\n",
              "      <td>0.588235</td>\n",
              "      <td>u</td>\n",
              "      <td>1</td>\n",
              "      <td>33</td>\n",
              "    </tr>\n",
              "    <tr>\n",
              "      <th>4</th>\n",
              "      <td>0.454902</td>\n",
              "      <td>0.407843</td>\n",
              "      <td>0.388235</td>\n",
              "      <td>0.341176</td>\n",
              "      <td>0.309804</td>\n",
              "      <td>0.282353</td>\n",
              "      <td>0.254902</td>\n",
              "      <td>0.243137</td>\n",
              "      <td>0.219608</td>\n",
              "      <td>0.207843</td>\n",
              "      <td>...</td>\n",
              "      <td>0.537255</td>\n",
              "      <td>0.552941</td>\n",
              "      <td>0.556863</td>\n",
              "      <td>0.549020</td>\n",
              "      <td>0.545098</td>\n",
              "      <td>0.549020</td>\n",
              "      <td>0.556863</td>\n",
              "      <td>u</td>\n",
              "      <td>1</td>\n",
              "      <td>33</td>\n",
              "    </tr>\n",
              "  </tbody>\n",
              "</table>\n",
              "<p>5 rows × 1027 columns</p>\n",
              "</div>\n",
              "      <button class=\"colab-df-convert\" onclick=\"convertToInteractive('df-15304481-9693-4474-9487-2efdd1941f58')\"\n",
              "              title=\"Convert this dataframe to an interactive table.\"\n",
              "              style=\"display:none;\">\n",
              "        \n",
              "  <svg xmlns=\"http://www.w3.org/2000/svg\" height=\"24px\"viewBox=\"0 0 24 24\"\n",
              "       width=\"24px\">\n",
              "    <path d=\"M0 0h24v24H0V0z\" fill=\"none\"/>\n",
              "    <path d=\"M18.56 5.44l.94 2.06.94-2.06 2.06-.94-2.06-.94-.94-2.06-.94 2.06-2.06.94zm-11 1L8.5 8.5l.94-2.06 2.06-.94-2.06-.94L8.5 2.5l-.94 2.06-2.06.94zm10 10l.94 2.06.94-2.06 2.06-.94-2.06-.94-.94-2.06-.94 2.06-2.06.94z\"/><path d=\"M17.41 7.96l-1.37-1.37c-.4-.4-.92-.59-1.43-.59-.52 0-1.04.2-1.43.59L10.3 9.45l-7.72 7.72c-.78.78-.78 2.05 0 2.83L4 21.41c.39.39.9.59 1.41.59.51 0 1.02-.2 1.41-.59l7.78-7.78 2.81-2.81c.8-.78.8-2.07 0-2.86zM5.41 20L4 18.59l7.72-7.72 1.47 1.35L5.41 20z\"/>\n",
              "  </svg>\n",
              "      </button>\n",
              "      \n",
              "  <style>\n",
              "    .colab-df-container {\n",
              "      display:flex;\n",
              "      flex-wrap:wrap;\n",
              "      gap: 12px;\n",
              "    }\n",
              "\n",
              "    .colab-df-convert {\n",
              "      background-color: #E8F0FE;\n",
              "      border: none;\n",
              "      border-radius: 50%;\n",
              "      cursor: pointer;\n",
              "      display: none;\n",
              "      fill: #1967D2;\n",
              "      height: 32px;\n",
              "      padding: 0 0 0 0;\n",
              "      width: 32px;\n",
              "    }\n",
              "\n",
              "    .colab-df-convert:hover {\n",
              "      background-color: #E2EBFA;\n",
              "      box-shadow: 0px 1px 2px rgba(60, 64, 67, 0.3), 0px 1px 3px 1px rgba(60, 64, 67, 0.15);\n",
              "      fill: #174EA6;\n",
              "    }\n",
              "\n",
              "    [theme=dark] .colab-df-convert {\n",
              "      background-color: #3B4455;\n",
              "      fill: #D2E3FC;\n",
              "    }\n",
              "\n",
              "    [theme=dark] .colab-df-convert:hover {\n",
              "      background-color: #434B5C;\n",
              "      box-shadow: 0px 1px 3px 1px rgba(0, 0, 0, 0.15);\n",
              "      filter: drop-shadow(0px 1px 2px rgba(0, 0, 0, 0.3));\n",
              "      fill: #FFFFFF;\n",
              "    }\n",
              "  </style>\n",
              "\n",
              "      <script>\n",
              "        const buttonEl =\n",
              "          document.querySelector('#df-15304481-9693-4474-9487-2efdd1941f58 button.colab-df-convert');\n",
              "        buttonEl.style.display =\n",
              "          google.colab.kernel.accessAllowed ? 'block' : 'none';\n",
              "\n",
              "        async function convertToInteractive(key) {\n",
              "          const element = document.querySelector('#df-15304481-9693-4474-9487-2efdd1941f58');\n",
              "          const dataTable =\n",
              "            await google.colab.kernel.invokeFunction('convertToInteractive',\n",
              "                                                     [key], {});\n",
              "          if (!dataTable) return;\n",
              "\n",
              "          const docLinkHtml = 'Like what you see? Visit the ' +\n",
              "            '<a target=\"_blank\" href=https://colab.research.google.com/notebooks/data_table.ipynb>data table notebook</a>'\n",
              "            + ' to learn more about interactive tables.';\n",
              "          element.innerHTML = '';\n",
              "          dataTable['output_type'] = 'display_data';\n",
              "          await google.colab.output.renderOutput(dataTable, element);\n",
              "          const docLink = document.createElement('div');\n",
              "          docLink.innerHTML = docLinkHtml;\n",
              "          element.appendChild(docLink);\n",
              "        }\n",
              "      </script>\n",
              "    </div>\n",
              "  </div>\n",
              "  "
            ]
          },
          "metadata": {},
          "execution_count": 5
        }
      ]
    },
    {
      "cell_type": "code",
      "source": [
        "X = df.iloc[:, :-3].copy()\n",
        "y = df[\"labelsEnc\"]"
      ],
      "metadata": {
        "id": "P8Q8prLC5pW9"
      },
      "execution_count": 6,
      "outputs": []
    },
    {
      "cell_type": "code",
      "source": [
        "X.head()"
      ],
      "metadata": {
        "colab": {
          "base_uri": "https://localhost:8080/",
          "height": 236
        },
        "id": "08lWnin99aal",
        "outputId": "cb8e354e-6ebe-49fe-fc26-3c40bfc57648"
      },
      "execution_count": 7,
      "outputs": [
        {
          "output_type": "execute_result",
          "data": {
            "text/plain": [
              "    pixel_0   pixel_1   pixel_2   pixel_3   pixel_4   pixel_5   pixel_6  \\\n",
              "0  0.478431  0.435294  0.462745  0.537255  0.631373  0.670588  0.654902   \n",
              "1  0.474510  0.439216  0.447059  0.533333  0.627451  0.670588  0.654902   \n",
              "2  0.474510  0.427451  0.396078  0.356863  0.321569  0.290196  0.262745   \n",
              "3  0.466667  0.411765  0.384314  0.341176  0.298039  0.203922  0.152941   \n",
              "4  0.454902  0.407843  0.388235  0.341176  0.309804  0.282353  0.254902   \n",
              "\n",
              "    pixel_7   pixel_8   pixel_9  ...  pixel_1014  pixel_1015  pixel_1016  \\\n",
              "0  0.639216  0.619608  0.592157  ...    0.439216    0.392157    0.435294   \n",
              "1  0.639216  0.627451  0.596078  ...    0.411765    0.415686    0.411765   \n",
              "2  0.247059  0.231373  0.215686  ...    0.529412    0.282353    0.227451   \n",
              "3  0.231373  0.223529  0.203922  ...    0.537255    0.541176    0.556863   \n",
              "4  0.243137  0.219608  0.207843  ...    0.133333    0.168627    0.525490   \n",
              "\n",
              "   pixel_1017  pixel_1018  pixel_1019  pixel_1020  pixel_1021  pixel_1022  \\\n",
              "0    0.419608    0.400000    0.407843    0.403922    0.403922    0.400000   \n",
              "1    0.407843    0.415686    0.415686    0.411765    0.403922    0.403922   \n",
              "2    0.211765    0.180392    0.172549    0.168627    0.156863    0.274510   \n",
              "3    0.568627    0.576471    0.576471    0.576471    0.572549    0.580392   \n",
              "4    0.537255    0.552941    0.556863    0.549020    0.545098    0.549020   \n",
              "\n",
              "   pixel_1023  \n",
              "0    0.392157  \n",
              "1    0.407843  \n",
              "2    0.568627  \n",
              "3    0.588235  \n",
              "4    0.556863  \n",
              "\n",
              "[5 rows x 1024 columns]"
            ],
            "text/html": [
              "\n",
              "  <div id=\"df-663fdaee-5c9a-43b0-8fb3-a10a64cfc6ee\">\n",
              "    <div class=\"colab-df-container\">\n",
              "      <div>\n",
              "<style scoped>\n",
              "    .dataframe tbody tr th:only-of-type {\n",
              "        vertical-align: middle;\n",
              "    }\n",
              "\n",
              "    .dataframe tbody tr th {\n",
              "        vertical-align: top;\n",
              "    }\n",
              "\n",
              "    .dataframe thead th {\n",
              "        text-align: right;\n",
              "    }\n",
              "</style>\n",
              "<table border=\"1\" class=\"dataframe\">\n",
              "  <thead>\n",
              "    <tr style=\"text-align: right;\">\n",
              "      <th></th>\n",
              "      <th>pixel_0</th>\n",
              "      <th>pixel_1</th>\n",
              "      <th>pixel_2</th>\n",
              "      <th>pixel_3</th>\n",
              "      <th>pixel_4</th>\n",
              "      <th>pixel_5</th>\n",
              "      <th>pixel_6</th>\n",
              "      <th>pixel_7</th>\n",
              "      <th>pixel_8</th>\n",
              "      <th>pixel_9</th>\n",
              "      <th>...</th>\n",
              "      <th>pixel_1014</th>\n",
              "      <th>pixel_1015</th>\n",
              "      <th>pixel_1016</th>\n",
              "      <th>pixel_1017</th>\n",
              "      <th>pixel_1018</th>\n",
              "      <th>pixel_1019</th>\n",
              "      <th>pixel_1020</th>\n",
              "      <th>pixel_1021</th>\n",
              "      <th>pixel_1022</th>\n",
              "      <th>pixel_1023</th>\n",
              "    </tr>\n",
              "  </thead>\n",
              "  <tbody>\n",
              "    <tr>\n",
              "      <th>0</th>\n",
              "      <td>0.478431</td>\n",
              "      <td>0.435294</td>\n",
              "      <td>0.462745</td>\n",
              "      <td>0.537255</td>\n",
              "      <td>0.631373</td>\n",
              "      <td>0.670588</td>\n",
              "      <td>0.654902</td>\n",
              "      <td>0.639216</td>\n",
              "      <td>0.619608</td>\n",
              "      <td>0.592157</td>\n",
              "      <td>...</td>\n",
              "      <td>0.439216</td>\n",
              "      <td>0.392157</td>\n",
              "      <td>0.435294</td>\n",
              "      <td>0.419608</td>\n",
              "      <td>0.400000</td>\n",
              "      <td>0.407843</td>\n",
              "      <td>0.403922</td>\n",
              "      <td>0.403922</td>\n",
              "      <td>0.400000</td>\n",
              "      <td>0.392157</td>\n",
              "    </tr>\n",
              "    <tr>\n",
              "      <th>1</th>\n",
              "      <td>0.474510</td>\n",
              "      <td>0.439216</td>\n",
              "      <td>0.447059</td>\n",
              "      <td>0.533333</td>\n",
              "      <td>0.627451</td>\n",
              "      <td>0.670588</td>\n",
              "      <td>0.654902</td>\n",
              "      <td>0.639216</td>\n",
              "      <td>0.627451</td>\n",
              "      <td>0.596078</td>\n",
              "      <td>...</td>\n",
              "      <td>0.411765</td>\n",
              "      <td>0.415686</td>\n",
              "      <td>0.411765</td>\n",
              "      <td>0.407843</td>\n",
              "      <td>0.415686</td>\n",
              "      <td>0.415686</td>\n",
              "      <td>0.411765</td>\n",
              "      <td>0.403922</td>\n",
              "      <td>0.403922</td>\n",
              "      <td>0.407843</td>\n",
              "    </tr>\n",
              "    <tr>\n",
              "      <th>2</th>\n",
              "      <td>0.474510</td>\n",
              "      <td>0.427451</td>\n",
              "      <td>0.396078</td>\n",
              "      <td>0.356863</td>\n",
              "      <td>0.321569</td>\n",
              "      <td>0.290196</td>\n",
              "      <td>0.262745</td>\n",
              "      <td>0.247059</td>\n",
              "      <td>0.231373</td>\n",
              "      <td>0.215686</td>\n",
              "      <td>...</td>\n",
              "      <td>0.529412</td>\n",
              "      <td>0.282353</td>\n",
              "      <td>0.227451</td>\n",
              "      <td>0.211765</td>\n",
              "      <td>0.180392</td>\n",
              "      <td>0.172549</td>\n",
              "      <td>0.168627</td>\n",
              "      <td>0.156863</td>\n",
              "      <td>0.274510</td>\n",
              "      <td>0.568627</td>\n",
              "    </tr>\n",
              "    <tr>\n",
              "      <th>3</th>\n",
              "      <td>0.466667</td>\n",
              "      <td>0.411765</td>\n",
              "      <td>0.384314</td>\n",
              "      <td>0.341176</td>\n",
              "      <td>0.298039</td>\n",
              "      <td>0.203922</td>\n",
              "      <td>0.152941</td>\n",
              "      <td>0.231373</td>\n",
              "      <td>0.223529</td>\n",
              "      <td>0.203922</td>\n",
              "      <td>...</td>\n",
              "      <td>0.537255</td>\n",
              "      <td>0.541176</td>\n",
              "      <td>0.556863</td>\n",
              "      <td>0.568627</td>\n",
              "      <td>0.576471</td>\n",
              "      <td>0.576471</td>\n",
              "      <td>0.576471</td>\n",
              "      <td>0.572549</td>\n",
              "      <td>0.580392</td>\n",
              "      <td>0.588235</td>\n",
              "    </tr>\n",
              "    <tr>\n",
              "      <th>4</th>\n",
              "      <td>0.454902</td>\n",
              "      <td>0.407843</td>\n",
              "      <td>0.388235</td>\n",
              "      <td>0.341176</td>\n",
              "      <td>0.309804</td>\n",
              "      <td>0.282353</td>\n",
              "      <td>0.254902</td>\n",
              "      <td>0.243137</td>\n",
              "      <td>0.219608</td>\n",
              "      <td>0.207843</td>\n",
              "      <td>...</td>\n",
              "      <td>0.133333</td>\n",
              "      <td>0.168627</td>\n",
              "      <td>0.525490</td>\n",
              "      <td>0.537255</td>\n",
              "      <td>0.552941</td>\n",
              "      <td>0.556863</td>\n",
              "      <td>0.549020</td>\n",
              "      <td>0.545098</td>\n",
              "      <td>0.549020</td>\n",
              "      <td>0.556863</td>\n",
              "    </tr>\n",
              "  </tbody>\n",
              "</table>\n",
              "<p>5 rows × 1024 columns</p>\n",
              "</div>\n",
              "      <button class=\"colab-df-convert\" onclick=\"convertToInteractive('df-663fdaee-5c9a-43b0-8fb3-a10a64cfc6ee')\"\n",
              "              title=\"Convert this dataframe to an interactive table.\"\n",
              "              style=\"display:none;\">\n",
              "        \n",
              "  <svg xmlns=\"http://www.w3.org/2000/svg\" height=\"24px\"viewBox=\"0 0 24 24\"\n",
              "       width=\"24px\">\n",
              "    <path d=\"M0 0h24v24H0V0z\" fill=\"none\"/>\n",
              "    <path d=\"M18.56 5.44l.94 2.06.94-2.06 2.06-.94-2.06-.94-.94-2.06-.94 2.06-2.06.94zm-11 1L8.5 8.5l.94-2.06 2.06-.94-2.06-.94L8.5 2.5l-.94 2.06-2.06.94zm10 10l.94 2.06.94-2.06 2.06-.94-2.06-.94-.94-2.06-.94 2.06-2.06.94z\"/><path d=\"M17.41 7.96l-1.37-1.37c-.4-.4-.92-.59-1.43-.59-.52 0-1.04.2-1.43.59L10.3 9.45l-7.72 7.72c-.78.78-.78 2.05 0 2.83L4 21.41c.39.39.9.59 1.41.59.51 0 1.02-.2 1.41-.59l7.78-7.78 2.81-2.81c.8-.78.8-2.07 0-2.86zM5.41 20L4 18.59l7.72-7.72 1.47 1.35L5.41 20z\"/>\n",
              "  </svg>\n",
              "      </button>\n",
              "      \n",
              "  <style>\n",
              "    .colab-df-container {\n",
              "      display:flex;\n",
              "      flex-wrap:wrap;\n",
              "      gap: 12px;\n",
              "    }\n",
              "\n",
              "    .colab-df-convert {\n",
              "      background-color: #E8F0FE;\n",
              "      border: none;\n",
              "      border-radius: 50%;\n",
              "      cursor: pointer;\n",
              "      display: none;\n",
              "      fill: #1967D2;\n",
              "      height: 32px;\n",
              "      padding: 0 0 0 0;\n",
              "      width: 32px;\n",
              "    }\n",
              "\n",
              "    .colab-df-convert:hover {\n",
              "      background-color: #E2EBFA;\n",
              "      box-shadow: 0px 1px 2px rgba(60, 64, 67, 0.3), 0px 1px 3px 1px rgba(60, 64, 67, 0.15);\n",
              "      fill: #174EA6;\n",
              "    }\n",
              "\n",
              "    [theme=dark] .colab-df-convert {\n",
              "      background-color: #3B4455;\n",
              "      fill: #D2E3FC;\n",
              "    }\n",
              "\n",
              "    [theme=dark] .colab-df-convert:hover {\n",
              "      background-color: #434B5C;\n",
              "      box-shadow: 0px 1px 3px 1px rgba(0, 0, 0, 0.15);\n",
              "      filter: drop-shadow(0px 1px 2px rgba(0, 0, 0, 0.3));\n",
              "      fill: #FFFFFF;\n",
              "    }\n",
              "  </style>\n",
              "\n",
              "      <script>\n",
              "        const buttonEl =\n",
              "          document.querySelector('#df-663fdaee-5c9a-43b0-8fb3-a10a64cfc6ee button.colab-df-convert');\n",
              "        buttonEl.style.display =\n",
              "          google.colab.kernel.accessAllowed ? 'block' : 'none';\n",
              "\n",
              "        async function convertToInteractive(key) {\n",
              "          const element = document.querySelector('#df-663fdaee-5c9a-43b0-8fb3-a10a64cfc6ee');\n",
              "          const dataTable =\n",
              "            await google.colab.kernel.invokeFunction('convertToInteractive',\n",
              "                                                     [key], {});\n",
              "          if (!dataTable) return;\n",
              "\n",
              "          const docLinkHtml = 'Like what you see? Visit the ' +\n",
              "            '<a target=\"_blank\" href=https://colab.research.google.com/notebooks/data_table.ipynb>data table notebook</a>'\n",
              "            + ' to learn more about interactive tables.';\n",
              "          element.innerHTML = '';\n",
              "          dataTable['output_type'] = 'display_data';\n",
              "          await google.colab.output.renderOutput(dataTable, element);\n",
              "          const docLink = document.createElement('div');\n",
              "          docLink.innerHTML = docLinkHtml;\n",
              "          element.appendChild(docLink);\n",
              "        }\n",
              "      </script>\n",
              "    </div>\n",
              "  </div>\n",
              "  "
            ]
          },
          "metadata": {},
          "execution_count": 7
        }
      ]
    },
    {
      "cell_type": "code",
      "source": [],
      "metadata": {
        "id": "nGHVZwGJ9lz8"
      },
      "execution_count": 7,
      "outputs": []
    },
    {
      "cell_type": "code",
      "source": [
        "X = np.reshape(X.values, (-1, 32, 32, 1))"
      ],
      "metadata": {
        "id": "2cjs-jEl5pZb"
      },
      "execution_count": 8,
      "outputs": []
    },
    {
      "cell_type": "code",
      "source": [
        "train_data, test_data, train_labels, test_labels = train_test_split(X, y, test_size=0.2, random_state=42)\n",
        "train_data, val_data, train_labels, val_labels = train_test_split(train_data, train_labels, test_size=0.2, random_state=42)"
      ],
      "metadata": {
        "id": "vpv0u7AQ5pb0"
      },
      "execution_count": 9,
      "outputs": []
    },
    {
      "cell_type": "code",
      "source": [
        "model = Sequential([\n",
        "    Conv2D(16, (3, 3), activation='relu', input_shape=(32, 32, 1)),\n",
        "    BatchNormalization(),\n",
        "    MaxPooling2D((2, 2)),\n",
        "    Flatten(),\n",
        "    Dense(64, activation='relu'),\n",
        "    Dense(39, activation='softmax')\n",
        "])"
      ],
      "metadata": {
        "id": "QG_PkhUx5peQ"
      },
      "execution_count": 10,
      "outputs": []
    },
    {
      "cell_type": "code",
      "source": [
        "model.compile(optimizer='adam',\n",
        "              loss='sparse_categorical_crossentropy',\n",
        "              metrics=['accuracy'])"
      ],
      "metadata": {
        "id": "PmCVabK15pgZ"
      },
      "execution_count": 11,
      "outputs": []
    },
    {
      "cell_type": "code",
      "source": [
        "model.summary()"
      ],
      "metadata": {
        "colab": {
          "base_uri": "https://localhost:8080/"
        },
        "id": "85XdSRi39tAp",
        "outputId": "9718a5e3-dd1b-4799-e804-c334883d56e6"
      },
      "execution_count": 12,
      "outputs": [
        {
          "output_type": "stream",
          "name": "stdout",
          "text": [
            "Model: \"sequential\"\n",
            "_________________________________________________________________\n",
            " Layer (type)                Output Shape              Param #   \n",
            "=================================================================\n",
            " conv2d (Conv2D)             (None, 30, 30, 16)        160       \n",
            "                                                                 \n",
            " batch_normalization (BatchN  (None, 30, 30, 16)       64        \n",
            " ormalization)                                                   \n",
            "                                                                 \n",
            " max_pooling2d (MaxPooling2D  (None, 15, 15, 16)       0         \n",
            " )                                                               \n",
            "                                                                 \n",
            " flatten (Flatten)           (None, 3600)              0         \n",
            "                                                                 \n",
            " dense (Dense)               (None, 64)                230464    \n",
            "                                                                 \n",
            " dense_1 (Dense)             (None, 39)                2535      \n",
            "                                                                 \n",
            "=================================================================\n",
            "Total params: 233,223\n",
            "Trainable params: 233,191\n",
            "Non-trainable params: 32\n",
            "_________________________________________________________________\n"
          ]
        }
      ]
    },
    {
      "cell_type": "code",
      "source": [
        "epochs = 25\n",
        "history = model.fit(train_data, train_labels, batch_size=32, epochs=epochs, validation_data=(val_data, val_labels))"
      ],
      "metadata": {
        "colab": {
          "base_uri": "https://localhost:8080/"
        },
        "id": "2C7RLfft5pi6",
        "outputId": "8286196d-e800-42d8-9290-306903a18867"
      },
      "execution_count": 13,
      "outputs": [
        {
          "output_type": "stream",
          "name": "stdout",
          "text": [
            "Epoch 1/25\n",
            "1225/1225 [==============================] - 15s 4ms/step - loss: 0.5404 - accuracy: 0.8442 - val_loss: 0.1622 - val_accuracy: 0.9440\n",
            "Epoch 2/25\n",
            "1225/1225 [==============================] - 6s 5ms/step - loss: 0.0989 - accuracy: 0.9679 - val_loss: 0.2085 - val_accuracy: 0.9308\n",
            "Epoch 3/25\n",
            "1225/1225 [==============================] - 6s 5ms/step - loss: 0.0631 - accuracy: 0.9800 - val_loss: 0.1400 - val_accuracy: 0.9588\n",
            "Epoch 4/25\n",
            "1225/1225 [==============================] - 5s 4ms/step - loss: 0.0489 - accuracy: 0.9840 - val_loss: 0.0714 - val_accuracy: 0.9798\n",
            "Epoch 5/25\n",
            "1225/1225 [==============================] - 7s 5ms/step - loss: 0.0379 - accuracy: 0.9880 - val_loss: 0.5977 - val_accuracy: 0.8566\n",
            "Epoch 6/25\n",
            "1225/1225 [==============================] - 5s 4ms/step - loss: 0.0299 - accuracy: 0.9909 - val_loss: 0.0773 - val_accuracy: 0.9784\n",
            "Epoch 7/25\n",
            "1225/1225 [==============================] - 6s 5ms/step - loss: 0.0260 - accuracy: 0.9918 - val_loss: 0.1678 - val_accuracy: 0.9531\n",
            "Epoch 8/25\n",
            "1225/1225 [==============================] - 7s 5ms/step - loss: 0.0294 - accuracy: 0.9911 - val_loss: 0.4454 - val_accuracy: 0.8981\n",
            "Epoch 9/25\n",
            "1225/1225 [==============================] - 5s 4ms/step - loss: 0.0257 - accuracy: 0.9931 - val_loss: 0.0940 - val_accuracy: 0.9773\n",
            "Epoch 10/25\n",
            "1225/1225 [==============================] - 6s 5ms/step - loss: 0.0129 - accuracy: 0.9960 - val_loss: 0.0717 - val_accuracy: 0.9847\n",
            "Epoch 11/25\n",
            "1225/1225 [==============================] - 5s 4ms/step - loss: 0.0228 - accuracy: 0.9935 - val_loss: 0.0848 - val_accuracy: 0.9781\n",
            "Epoch 12/25\n",
            "1225/1225 [==============================] - 6s 5ms/step - loss: 0.0184 - accuracy: 0.9948 - val_loss: 0.1049 - val_accuracy: 0.9767\n",
            "Epoch 13/25\n",
            "1225/1225 [==============================] - 5s 4ms/step - loss: 0.0145 - accuracy: 0.9958 - val_loss: 0.1118 - val_accuracy: 0.9767\n",
            "Epoch 14/25\n",
            "1225/1225 [==============================] - 5s 4ms/step - loss: 0.0202 - accuracy: 0.9939 - val_loss: 0.0995 - val_accuracy: 0.9825\n",
            "Epoch 15/25\n",
            "1225/1225 [==============================] - 6s 5ms/step - loss: 0.0095 - accuracy: 0.9970 - val_loss: 0.1167 - val_accuracy: 0.9770\n",
            "Epoch 16/25\n",
            "1225/1225 [==============================] - 5s 4ms/step - loss: 0.0170 - accuracy: 0.9947 - val_loss: 0.0808 - val_accuracy: 0.9873\n",
            "Epoch 17/25\n",
            "1225/1225 [==============================] - 6s 5ms/step - loss: 0.0186 - accuracy: 0.9947 - val_loss: 0.1598 - val_accuracy: 0.9715\n",
            "Epoch 18/25\n",
            "1225/1225 [==============================] - 5s 4ms/step - loss: 0.0121 - accuracy: 0.9965 - val_loss: 0.2009 - val_accuracy: 0.9598\n",
            "Epoch 19/25\n",
            "1225/1225 [==============================] - 5s 4ms/step - loss: 0.0118 - accuracy: 0.9967 - val_loss: 0.0709 - val_accuracy: 0.9889\n",
            "Epoch 20/25\n",
            "1225/1225 [==============================] - 6s 5ms/step - loss: 0.0131 - accuracy: 0.9966 - val_loss: 0.0919 - val_accuracy: 0.9849\n",
            "Epoch 21/25\n",
            "1225/1225 [==============================] - 5s 4ms/step - loss: 0.0135 - accuracy: 0.9967 - val_loss: 0.1874 - val_accuracy: 0.9667\n",
            "Epoch 22/25\n",
            "1225/1225 [==============================] - 6s 5ms/step - loss: 0.0097 - accuracy: 0.9972 - val_loss: 0.1560 - val_accuracy: 0.9749\n",
            "Epoch 23/25\n",
            "1225/1225 [==============================] - 5s 4ms/step - loss: 0.0058 - accuracy: 0.9987 - val_loss: 0.0780 - val_accuracy: 0.9879\n",
            "Epoch 24/25\n",
            "1225/1225 [==============================] - 6s 5ms/step - loss: 0.0201 - accuracy: 0.9952 - val_loss: 0.1034 - val_accuracy: 0.9851\n",
            "Epoch 25/25\n",
            "1225/1225 [==============================] - 6s 5ms/step - loss: 0.0077 - accuracy: 0.9980 - val_loss: 0.0786 - val_accuracy: 0.9872\n"
          ]
        }
      ]
    },
    {
      "cell_type": "code",
      "source": [
        "test_loss, test_acc = model.evaluate(test_data, test_labels)\n",
        "print('Test accuracy:', test_acc)"
      ],
      "metadata": {
        "colab": {
          "base_uri": "https://localhost:8080/"
        },
        "id": "YKbVQKqk6z_r",
        "outputId": "4ad10622-7b9a-40d0-ee34-b4de1c52003e"
      },
      "execution_count": 14,
      "outputs": [
        {
          "output_type": "stream",
          "name": "stdout",
          "text": [
            "383/383 [==============================] - 1s 3ms/step - loss: 0.1191 - accuracy: 0.9826\n",
            "Test accuracy: 0.9826065897941589\n"
          ]
        }
      ]
    },
    {
      "cell_type": "code",
      "source": [
        "model.save(base_dir + 'Models/cnn_1conv_e25_v1.h5')"
      ],
      "metadata": {
        "id": "QldDDOY_94fI"
      },
      "execution_count": 15,
      "outputs": []
    },
    {
      "cell_type": "code",
      "source": [
        "first = True # First training values\n",
        "if first:\n",
        "  acc = history.history['accuracy']\n",
        "  val_acc = history.history['val_accuracy']\n",
        "  loss = history.history['loss']\n",
        "  val_loss = history.history['val_loss']\n",
        "else:\n",
        "  acc = acc + history.history['accuracy']\n",
        "  val_acc = val_acc + history.history['val_accuracy']\n",
        "  loss = loss + history.history['loss']\n",
        "  val_loss = val_loss + history.history['val_loss']"
      ],
      "metadata": {
        "id": "8UlejcbH-3_r"
      },
      "execution_count": 16,
      "outputs": []
    },
    {
      "cell_type": "code",
      "source": [
        "plt.plot(acc)\n",
        "plt.plot(val_acc)\n",
        "plt.title('Model Accuracy')\n",
        "plt.ylabel('Accuracy')\n",
        "plt.xlabel('Epoch')\n",
        "plt.legend(['train', 'val'], loc='upper left')\n",
        "plt.show()"
      ],
      "metadata": {
        "colab": {
          "base_uri": "https://localhost:8080/",
          "height": 472
        },
        "id": "13xLro0B8YkS",
        "outputId": "9b8bfb2b-cd4c-4470-8650-6a38c78167df"
      },
      "execution_count": 17,
      "outputs": [
        {
          "output_type": "display_data",
          "data": {
            "text/plain": [
              "<Figure size 640x480 with 1 Axes>"
            ],
            "image/png": "[encoded data removed]"
          },
          "metadata": {}
        }
      ]
    },
    {
      "cell_type": "code",
      "source": [
        "plt.plot(loss)\n",
        "plt.plot(val_loss)\n",
        "plt.title('Model Loss')\n",
        "plt.ylabel('Loss')  \n",
        "plt.xlabel('Epoch')\n",
        "plt.legend(['train', 'val'], loc='upper left')\n",
        "plt.show()"
      ],
      "metadata": {
        "colab": {
          "base_uri": "https://localhost:8080/",
          "height": 472
        },
        "id": "QCbmRq6w8Yhy",
        "outputId": "ea1620d0-ef4f-4fd0-c3fb-ba8202e194ea"
      },
      "execution_count": 18,
      "outputs": [
        {
          "output_type": "display_data",
          "data": {
            "text/plain": [
              "<Figure size 640x480 with 1 Axes>"
            ],
            "image/png": "[encoded data removed]"
          },
          "metadata": {}
        }
      ]
    },
    {
      "cell_type": "code",
      "source": [
        "predictions = model.predict(test_data)"
      ],
      "metadata": {
        "colab": {
          "base_uri": "https://localhost:8080/"
        },
        "id": "QDpgr8VK60CG",
        "outputId": "354d5fb9-8f34-4cb5-d81c-f076709bb2ac"
      },
      "execution_count": 19,
      "outputs": [
        {
          "output_type": "stream",
          "name": "stdout",
          "text": [
            "383/383 [==============================] - 1s 2ms/step\n"
          ]
        }
      ]
    },
    {
      "cell_type": "code",
      "source": [
        "y_pred = np.argmax(predictions, axis=1)"
      ],
      "metadata": {
        "id": "Z1v7k22260Eg"
      },
      "execution_count": 20,
      "outputs": []
    },
    {
      "cell_type": "code",
      "source": [
        "print('Predicted labels:', y_pred[:10])"
      ],
      "metadata": {
        "colab": {
          "base_uri": "https://localhost:8080/"
        },
        "id": "PEK02ilm60Gt",
        "outputId": "036bba45-c293-4e00-cdd7-2f3a9835fa1a"
      },
      "execution_count": 21,
      "outputs": [
        {
          "output_type": "stream",
          "name": "stdout",
          "text": [
            "Predicted labels: [ 2 18 10  0 34 30 16  6  5 32]\n"
          ]
        }
      ]
    },
    {
      "cell_type": "code",
      "source": [
        "cm = tf.math.confusion_matrix(test_labels, y_pred)\n",
        "print('Confusion matrix:\\n', cm)"
      ],
      "metadata": {
        "colab": {
          "base_uri": "https://localhost:8080/"
        },
        "id": "sXC7pCJ68ocY",
        "outputId": "d13f70e4-0399-4150-9665-52557a9ca793"
      },
      "execution_count": 22,
      "outputs": [
        {
          "output_type": "stream",
          "name": "stdout",
          "text": [
            "Confusion matrix:\n",
            " tf.Tensor(\n",
            "[[310   0   0 ...   0   0   0]\n",
            " [  0 305   0 ...   0   0   0]\n",
            " [  0   0 314 ...   0   0   0]\n",
            " ...\n",
            " [  0   0   0 ... 297   0   0]\n",
            " [  0   0   0 ...   0 281   0]\n",
            " [  0   0   0 ...   0   0 322]], shape=(39, 39), dtype=int32)\n"
          ]
        }
      ]
    },
    {
      "cell_type": "code",
      "source": [
        "plt.imshow(cm, cmap=plt.cm.Blues)\n",
        "plt.title('Confusion Matrix')\n",
        "plt.colorbar()\n",
        "plt.xticks(np.arange(39))\n",
        "plt.yticks(np.arange(39))\n",
        "plt.xlabel('Predicted Label')\n",
        "plt.ylabel('True Label')\n",
        "plt.show()"
      ],
      "metadata": {
        "colab": {
          "base_uri": "https://localhost:8080/",
          "height": 472
        },
        "id": "pmmyAHd660JM",
        "outputId": "c0a6b6d9-9fab-4703-92c4-18496c909558"
      },
      "execution_count": 24,
      "outputs": [
        {
          "output_type": "display_data",
          "data": {
            "text/plain": [
              "<Figure size 640x480 with 2 Axes>"
            ],
            "image/png": "[encoded data removed]"
          },
          "metadata": {}
        }
      ]
    },
    {
      "cell_type": "code",
      "source": [
        "from sklearn.metrics import classification_report\n",
        "print('Classification report:\\n', classification_report(test_labels, y_pred))"
      ],
      "metadata": {
        "colab": {
          "base_uri": "https://localhost:8080/"
        },
        "id": "-a0XNbns60Ny",
        "outputId": "4beda079-b99f-44b4-c3c5-f185ece92fdf"
      },
      "execution_count": 25,
      "outputs": [
        {
          "output_type": "stream",
          "name": "stdout",
          "text": [
            "Classification report:\n",
            "               precision    recall  f1-score   support\n",
            "\n",
            "           0       1.00      1.00      1.00       310\n",
            "           1       1.00      1.00      1.00       306\n",
            "           2       1.00      1.00      1.00       315\n",
            "           3       1.00      1.00      1.00       306\n",
            "           4       1.00      0.98      0.99       311\n",
            "           5       0.99      1.00      0.99       290\n",
            "           6       0.99      1.00      0.99       334\n",
            "           7       1.00      1.00      1.00       336\n",
            "           8       1.00      1.00      1.00       307\n",
            "           9       1.00      1.00      1.00       318\n",
            "          10       0.97      0.94      0.96       311\n",
            "          11       0.92      0.98      0.95       296\n",
            "          12       0.97      0.95      0.96       319\n",
            "          13       0.95      0.96      0.96       324\n",
            "          14       0.90      0.96      0.93       333\n",
            "          15       0.95      0.90      0.93       316\n",
            "          16       0.99      0.94      0.97       308\n",
            "          17       0.96      0.93      0.94       292\n",
            "          18       0.96      0.95      0.96       321\n",
            "          19       1.00      1.00      1.00       304\n",
            "          20       0.98      1.00      0.99       320\n",
            "          21       1.00      1.00      1.00       315\n",
            "          22       1.00      1.00      1.00       320\n",
            "          23       1.00      0.99      0.99       319\n",
            "          24       1.00      1.00      1.00       311\n",
            "          25       0.99      1.00      1.00       334\n",
            "          26       0.98      0.99      0.99       319\n",
            "          27       0.99      1.00      1.00       313\n",
            "          28       1.00      1.00      1.00       314\n",
            "          29       1.00      0.99      0.99       313\n",
            "          30       0.98      1.00      0.99       322\n",
            "          31       0.93      0.95      0.94       322\n",
            "          32       0.99      1.00      1.00       310\n",
            "          33       0.96      0.99      0.97       315\n",
            "          34       0.99      0.98      0.98       318\n",
            "          35       1.00      0.99      1.00       315\n",
            "          36       0.99      0.99      0.99       301\n",
            "          37       0.99      0.99      0.99       285\n",
            "          38       1.00      1.00      1.00       323\n",
            "\n",
            "    accuracy                           0.98     12246\n",
            "   macro avg       0.98      0.98      0.98     12246\n",
            "weighted avg       0.98      0.98      0.98     12246\n",
            "\n"
          ]
        }
      ]
    },
    {
      "cell_type": "code",
      "source": [
        "import json\n",
        "with open(base_dir + 'index_labels.json', 'r') as f:\n",
        "    data_dict = json.load(f)"
      ],
      "metadata": {
        "id": "b7RONmAKCb1g"
      },
      "execution_count": 26,
      "outputs": []
    },
    {
      "cell_type": "code",
      "source": [
        "data_dict"
      ],
      "metadata": {
        "colab": {
          "base_uri": "https://localhost:8080/"
        },
        "id": "GKdAHauRCpTs",
        "outputId": "9633889c-a9fd-4986-879c-a767a7c01419"
      },
      "execution_count": 27,
      "outputs": [
        {
          "output_type": "execute_result",
          "data": {
            "text/plain": [
              "{'0': '0',\n",
              " '1': '1',\n",
              " '2': '2',\n",
              " '3': '3',\n",
              " '4': '4',\n",
              " '5': '5',\n",
              " '6': '6',\n",
              " '7': '7',\n",
              " '8': '8',\n",
              " '9': '9',\n",
              " '10': 'a',\n",
              " '11': 'b',\n",
              " '12': 'c',\n",
              " '13': 'd',\n",
              " '14': 'del',\n",
              " '15': 'e',\n",
              " '16': 'f',\n",
              " '17': 'g',\n",
              " '18': 'h',\n",
              " '19': 'i',\n",
              " '20': 'j',\n",
              " '21': 'k',\n",
              " '22': 'l',\n",
              " '23': 'm',\n",
              " '24': 'n',\n",
              " '25': 'nothing',\n",
              " '26': 'o',\n",
              " '27': 'p',\n",
              " '28': 'q',\n",
              " '29': 'r',\n",
              " '30': 's',\n",
              " '31': 'space',\n",
              " '32': 't',\n",
              " '33': 'u',\n",
              " '34': 'v',\n",
              " '35': 'w',\n",
              " '36': 'x',\n",
              " '37': 'y',\n",
              " '38': 'z'}"
            ]
          },
          "metadata": {},
          "execution_count": 27
        }
      ]
    },
    {
      "cell_type": "code",
      "source": [
        "fig, axes = plt.subplots(nrows=3, ncols=5, figsize=(10, 6), subplot_kw={'xticks': [], 'yticks': []})\n",
        "true = list(test_labels)\n",
        "for i, ax in enumerate(axes.flat):\n",
        "    ax.imshow(test_data[i, :, :, 0], cmap='gray')\n",
        "    ax.set_title(f'True: {data_dict[str(true[i])]}; Pred: {data_dict[str(np.argmax(predictions[i]))]}')\n",
        "# plt.show()\n"
      ],
      "metadata": {
        "colab": {
          "base_uri": "https://localhost:8080/",
          "height": 519
        },
        "id": "5MtrZsrz60T5",
        "outputId": "e06fdfb5-e7bf-4bc8-9a1f-26dded0d5080"
      },
      "execution_count": 28,
      "outputs": [
        {
          "output_type": "display_data",
          "data": {
            "text/plain": [
              "<Figure size 1000x600 with 15 Axes>"
            ],
            "image/png": "[encoded data removed]"
          },
          "metadata": {}
        }
      ]
    },
    {
      "cell_type": "code",
      "source": [
        "data_dict[str(np.argmax(predictions[i]))]"
      ],
      "metadata": {
        "colab": {
          "base_uri": "https://localhost:8080/",
          "height": 36
        },
        "id": "JEm7kvOcDj6Q",
        "outputId": "6a773988-6e9e-4e58-bb8f-6c49d22d6568"
      },
      "execution_count": 29,
      "outputs": [
        {
          "output_type": "execute_result",
          "data": {
            "text/plain": [
              "'c'"
            ],
            "application/vnd.google.colaboratory.intrinsic+json": {
              "type": "string"
            }
          },
          "metadata": {},
          "execution_count": 29
        }
      ]
    },
    {
      "cell_type": "code",
      "source": [
        "\n"
      ],
      "metadata": {
        "id": "95VIi8x67NBw"
      },
      "execution_count": null,
      "outputs": []
    }
  ]
}