{
  "nbformat": 4,
  "nbformat_minor": 0,
  "metadata": {
    "colab": {
      "provenance": []
    },
    "kernelspec": {
      "name": "python3",
      "display_name": "Python 3"
    },
    "language_info": {
      "name": "python"
    },
    "accelerator": "GPU",
    "gpuClass": "standard"
  },
  "cells": [
    {
      "cell_type": "code",
      "execution_count": null,
      "metadata": {
        "colab": {
          "base_uri": "https://localhost:8080/"
        },
        "id": "SGYjPhct5mnQ",
        "outputId": "7fbc0652-13cc-4bcd-9759-d6beeef1d86f"
      },
      "outputs": [
        {
          "output_type": "stream",
          "name": "stdout",
          "text": [
            "Mounted at /content/drive\n"
          ]
        }
      ],
      "source": [
        "from google.colab import drive\n",
        "drive.mount('/content/drive')"
      ]
    },
    {
      "cell_type": "code",
      "source": [
        "import pandas as pd\n",
        "import numpy as np\n",
        "import matplotlib.pyplot as plt\n",
        "from sklearn.model_selection import train_test_split\n",
        "from sklearn.preprocessing import LabelEncoder\n",
        "import tensorflow as tf\n",
        "from tensorflow.keras.models import Sequential\n",
        "from tensorflow.keras.layers import Conv2D, MaxPooling2D, Flatten, Dense, BatchNormalization\n",
        "from sklearn.metrics import classification_report, confusion_matrix"
      ],
      "metadata": {
        "id": "bMqwWN6m5pNj"
      },
      "execution_count": null,
      "outputs": []
    },
    {
      "cell_type": "code",
      "source": [
        "base_dir = \"drive/MyDrive/IST707/Project/\"\n",
        "target_dir = base_dir + \"ASL_Dataset\"\n",
        "\n",
        "dF_file = \"procesed_data_w_imgdata.csv\"\n",
        "dataset_path = base_dir + dF_file"
      ],
      "metadata": {
        "id": "LQ97eX7H5pP3"
      },
      "execution_count": null,
      "outputs": []
    },
    {
      "cell_type": "code",
      "source": [
        "df = pd.read_csv(base_dir + \"procesed_imgdata_32x32.csv\")"
      ],
      "metadata": {
        "colab": {
          "base_uri": "https://localhost:8080/"
        },
        "id": "G1gdxLbg5pSS",
        "outputId": "c12e7507-28b4-43f5-dca1-43faedaefc1f"
      },
      "execution_count": null,
      "outputs": [
        {
          "output_type": "stream",
          "name": "stderr",
          "text": [
            "<ipython-input-6-c9cf85d25ea8>:1: DtypeWarning: Columns (1024) have mixed types. Specify dtype option on import or set low_memory=False.\n",
            "  df = pd.read_csv(base_dir + \"procesed_imgdata_32x32.csv\")\n"
          ]
        }
      ]
    },
    {
      "cell_type": "code",
      "source": [
        "df.head()"
      ],
      "metadata": {
        "colab": {
          "base_uri": "https://localhost:8080/",
          "height": 236
        },
        "id": "yntSukVY5pUq",
        "outputId": "5f2488f7-b6ed-4e51-b942-f5b20c6a57d1"
      },
      "execution_count": null,
      "outputs": [
        {
          "output_type": "execute_result",
          "data": {
            "text/plain": [
              "    pixel_0   pixel_1   pixel_2   pixel_3   pixel_4   pixel_5   pixel_6  \\\n",
              "0  0.478431  0.435294  0.462745  0.537255  0.631373  0.670588  0.654902   \n",
              "1  0.474510  0.439216  0.447059  0.533333  0.627451  0.670588  0.654902   \n",
              "2  0.474510  0.427451  0.396078  0.356863  0.321569  0.290196  0.262745   \n",
              "3  0.466667  0.411765  0.384314  0.341176  0.298039  0.203922  0.152941   \n",
              "4  0.454902  0.407843  0.388235  0.341176  0.309804  0.282353  0.254902   \n",
              "\n",
              "    pixel_7   pixel_8   pixel_9  ...  pixel_1017  pixel_1018  pixel_1019  \\\n",
              "0  0.639216  0.619608  0.592157  ...    0.419608    0.400000    0.407843   \n",
              "1  0.639216  0.627451  0.596078  ...    0.407843    0.415686    0.415686   \n",
              "2  0.247059  0.231373  0.215686  ...    0.211765    0.180392    0.172549   \n",
              "3  0.231373  0.223529  0.203922  ...    0.568627    0.576471    0.576471   \n",
              "4  0.243137  0.219608  0.207843  ...    0.537255    0.552941    0.556863   \n",
              "\n",
              "   pixel_1020  pixel_1021  pixel_1022  pixel_1023  labels  isSign  labelsEnc  \n",
              "0    0.403922    0.403922    0.400000    0.392157       u       1         33  \n",
              "1    0.411765    0.403922    0.403922    0.407843       u       1         33  \n",
              "2    0.168627    0.156863    0.274510    0.568627       u       1         33  \n",
              "3    0.576471    0.572549    0.580392    0.588235       u       1         33  \n",
              "4    0.549020    0.545098    0.549020    0.556863       u       1         33  \n",
              "\n",
              "[5 rows x 1027 columns]"
            ],
            "text/html": [
              "\n",
              "  <div id=\"df-ea4d9813-1dfe-49ae-9a52-35618f3e5050\">\n",
              "    <div class=\"colab-df-container\">\n",
              "      <div>\n",
              "<style scoped>\n",
              "    .dataframe tbody tr th:only-of-type {\n",
              "        vertical-align: middle;\n",
              "    }\n",
              "\n",
              "    .dataframe tbody tr th {\n",
              "        vertical-align: top;\n",
              "    }\n",
              "\n",
              "    .dataframe thead th {\n",
              "        text-align: right;\n",
              "    }\n",
              "</style>\n",
              "<table border=\"1\" class=\"dataframe\">\n",
              "  <thead>\n",
              "    <tr style=\"text-align: right;\">\n",
              "      <th></th>\n",
              "      <th>pixel_0</th>\n",
              "      <th>pixel_1</th>\n",
              "      <th>pixel_2</th>\n",
              "      <th>pixel_3</th>\n",
              "      <th>pixel_4</th>\n",
              "      <th>pixel_5</th>\n",
              "      <th>pixel_6</th>\n",
              "      <th>pixel_7</th>\n",
              "      <th>pixel_8</th>\n",
              "      <th>pixel_9</th>\n",
              "      <th>...</th>\n",
              "      <th>pixel_1017</th>\n",
              "      <th>pixel_1018</th>\n",
              "      <th>pixel_1019</th>\n",
              "      <th>pixel_1020</th>\n",
              "      <th>pixel_1021</th>\n",
              "      <th>pixel_1022</th>\n",
              "      <th>pixel_1023</th>\n",
              "      <th>labels</th>\n",
              "      <th>isSign</th>\n",
              "      <th>labelsEnc</th>\n",
              "    </tr>\n",
              "  </thead>\n",
              "  <tbody>\n",
              "    <tr>\n",
              "      <th>0</th>\n",
              "      <td>0.478431</td>\n",
              "      <td>0.435294</td>\n",
              "      <td>0.462745</td>\n",
              "      <td>0.537255</td>\n",
              "      <td>0.631373</td>\n",
              "      <td>0.670588</td>\n",
              "      <td>0.654902</td>\n",
              "      <td>0.639216</td>\n",
              "      <td>0.619608</td>\n",
              "      <td>0.592157</td>\n",
              "      <td>...</td>\n",
              "      <td>0.419608</td>\n",
              "      <td>0.400000</td>\n",
              "      <td>0.407843</td>\n",
              "      <td>0.403922</td>\n",
              "      <td>0.403922</td>\n",
              "      <td>0.400000</td>\n",
              "      <td>0.392157</td>\n",
              "      <td>u</td>\n",
              "      <td>1</td>\n",
              "      <td>33</td>\n",
              "    </tr>\n",
              "    <tr>\n",
              "      <th>1</th>\n",
              "      <td>0.474510</td>\n",
              "      <td>0.439216</td>\n",
              "      <td>0.447059</td>\n",
              "      <td>0.533333</td>\n",
              "      <td>0.627451</td>\n",
              "      <td>0.670588</td>\n",
              "      <td>0.654902</td>\n",
              "      <td>0.639216</td>\n",
              "      <td>0.627451</td>\n",
              "      <td>0.596078</td>\n",
              "      <td>...</td>\n",
              "      <td>0.407843</td>\n",
              "      <td>0.415686</td>\n",
              "      <td>0.415686</td>\n",
              "      <td>0.411765</td>\n",
              "      <td>0.403922</td>\n",
              "      <td>0.403922</td>\n",
              "      <td>0.407843</td>\n",
              "      <td>u</td>\n",
              "      <td>1</td>\n",
              "      <td>33</td>\n",
              "    </tr>\n",
              "    <tr>\n",
              "      <th>2</th>\n",
              "      <td>0.474510</td>\n",
              "      <td>0.427451</td>\n",
              "      <td>0.396078</td>\n",
              "      <td>0.356863</td>\n",
              "      <td>0.321569</td>\n",
              "      <td>0.290196</td>\n",
              "      <td>0.262745</td>\n",
              "      <td>0.247059</td>\n",
              "      <td>0.231373</td>\n",
              "      <td>0.215686</td>\n",
              "      <td>...</td>\n",
              "      <td>0.211765</td>\n",
              "      <td>0.180392</td>\n",
              "      <td>0.172549</td>\n",
              "      <td>0.168627</td>\n",
              "      <td>0.156863</td>\n",
              "      <td>0.274510</td>\n",
              "      <td>0.568627</td>\n",
              "      <td>u</td>\n",
              "      <td>1</td>\n",
              "      <td>33</td>\n",
              "    </tr>\n",
              "    <tr>\n",
              "      <th>3</th>\n",
              "      <td>0.466667</td>\n",
              "      <td>0.411765</td>\n",
              "      <td>0.384314</td>\n",
              "      <td>0.341176</td>\n",
              "      <td>0.298039</td>\n",
              "      <td>0.203922</td>\n",
              "      <td>0.152941</td>\n",
              "      <td>0.231373</td>\n",
              "      <td>0.223529</td>\n",
              "      <td>0.203922</td>\n",
              "      <td>...</td>\n",
              "      <td>0.568627</td>\n",
              "      <td>0.576471</td>\n",
              "      <td>0.576471</td>\n",
              "      <td>0.576471</td>\n",
              "      <td>0.572549</td>\n",
              "      <td>0.580392</td>\n",
              "      <td>0.588235</td>\n",
              "      <td>u</td>\n",
              "      <td>1</td>\n",
              "      <td>33</td>\n",
              "    </tr>\n",
              "    <tr>\n",
              "      <th>4</th>\n",
              "      <td>0.454902</td>\n",
              "      <td>0.407843</td>\n",
              "      <td>0.388235</td>\n",
              "      <td>0.341176</td>\n",
              "      <td>0.309804</td>\n",
              "      <td>0.282353</td>\n",
              "      <td>0.254902</td>\n",
              "      <td>0.243137</td>\n",
              "      <td>0.219608</td>\n",
              "      <td>0.207843</td>\n",
              "      <td>...</td>\n",
              "      <td>0.537255</td>\n",
              "      <td>0.552941</td>\n",
              "      <td>0.556863</td>\n",
              "      <td>0.549020</td>\n",
              "      <td>0.545098</td>\n",
              "      <td>0.549020</td>\n",
              "      <td>0.556863</td>\n",
              "      <td>u</td>\n",
              "      <td>1</td>\n",
              "      <td>33</td>\n",
              "    </tr>\n",
              "  </tbody>\n",
              "</table>\n",
              "<p>5 rows × 1027 columns</p>\n",
              "</div>\n",
              "      <button class=\"colab-df-convert\" onclick=\"convertToInteractive('df-ea4d9813-1dfe-49ae-9a52-35618f3e5050')\"\n",
              "              title=\"Convert this dataframe to an interactive table.\"\n",
              "              style=\"display:none;\">\n",
              "        \n",
              "  <svg xmlns=\"http://www.w3.org/2000/svg\" height=\"24px\"viewBox=\"0 0 24 24\"\n",
              "       width=\"24px\">\n",
              "    <path d=\"M0 0h24v24H0V0z\" fill=\"none\"/>\n",
              "    <path d=\"M18.56 5.44l.94 2.06.94-2.06 2.06-.94-2.06-.94-.94-2.06-.94 2.06-2.06.94zm-11 1L8.5 8.5l.94-2.06 2.06-.94-2.06-.94L8.5 2.5l-.94 2.06-2.06.94zm10 10l.94 2.06.94-2.06 2.06-.94-2.06-.94-.94-2.06-.94 2.06-2.06.94z\"/><path d=\"M17.41 7.96l-1.37-1.37c-.4-.4-.92-.59-1.43-.59-.52 0-1.04.2-1.43.59L10.3 9.45l-7.72 7.72c-.78.78-.78 2.05 0 2.83L4 21.41c.39.39.9.59 1.41.59.51 0 1.02-.2 1.41-.59l7.78-7.78 2.81-2.81c.8-.78.8-2.07 0-2.86zM5.41 20L4 18.59l7.72-7.72 1.47 1.35L5.41 20z\"/>\n",
              "  </svg>\n",
              "      </button>\n",
              "      \n",
              "  <style>\n",
              "    .colab-df-container {\n",
              "      display:flex;\n",
              "      flex-wrap:wrap;\n",
              "      gap: 12px;\n",
              "    }\n",
              "\n",
              "    .colab-df-convert {\n",
              "      background-color: #E8F0FE;\n",
              "      border: none;\n",
              "      border-radius: 50%;\n",
              "      cursor: pointer;\n",
              "      display: none;\n",
              "      fill: #1967D2;\n",
              "      height: 32px;\n",
              "      padding: 0 0 0 0;\n",
              "      width: 32px;\n",
              "    }\n",
              "\n",
              "    .colab-df-convert:hover {\n",
              "      background-color: #E2EBFA;\n",
              "      box-shadow: 0px 1px 2px rgba(60, 64, 67, 0.3), 0px 1px 3px 1px rgba(60, 64, 67, 0.15);\n",
              "      fill: #174EA6;\n",
              "    }\n",
              "\n",
              "    [theme=dark] .colab-df-convert {\n",
              "      background-color: #3B4455;\n",
              "      fill: #D2E3FC;\n",
              "    }\n",
              "\n",
              "    [theme=dark] .colab-df-convert:hover {\n",
              "      background-color: #434B5C;\n",
              "      box-shadow: 0px 1px 3px 1px rgba(0, 0, 0, 0.15);\n",
              "      filter: drop-shadow(0px 1px 2px rgba(0, 0, 0, 0.3));\n",
              "      fill: #FFFFFF;\n",
              "    }\n",
              "  </style>\n",
              "\n",
              "      <script>\n",
              "        const buttonEl =\n",
              "          document.querySelector('#df-ea4d9813-1dfe-49ae-9a52-35618f3e5050 button.colab-df-convert');\n",
              "        buttonEl.style.display =\n",
              "          google.colab.kernel.accessAllowed ? 'block' : 'none';\n",
              "\n",
              "        async function convertToInteractive(key) {\n",
              "          const element = document.querySelector('#df-ea4d9813-1dfe-49ae-9a52-35618f3e5050');\n",
              "          const dataTable =\n",
              "            await google.colab.kernel.invokeFunction('convertToInteractive',\n",
              "                                                     [key], {});\n",
              "          if (!dataTable) return;\n",
              "\n",
              "          const docLinkHtml = 'Like what you see? Visit the ' +\n",
              "            '<a target=\"_blank\" href=https://colab.research.google.com/notebooks/data_table.ipynb>data table notebook</a>'\n",
              "            + ' to learn more about interactive tables.';\n",
              "          element.innerHTML = '';\n",
              "          dataTable['output_type'] = 'display_data';\n",
              "          await google.colab.output.renderOutput(dataTable, element);\n",
              "          const docLink = document.createElement('div');\n",
              "          docLink.innerHTML = docLinkHtml;\n",
              "          element.appendChild(docLink);\n",
              "        }\n",
              "      </script>\n",
              "    </div>\n",
              "  </div>\n",
              "  "
            ]
          },
          "metadata": {},
          "execution_count": 7
        }
      ]
    },
    {
      "cell_type": "code",
      "source": [
        "X = df.iloc[:, :-3].copy()\n",
        "y = df[\"labelsEnc\"]"
      ],
      "metadata": {
        "id": "P8Q8prLC5pW9"
      },
      "execution_count": null,
      "outputs": []
    },
    {
      "cell_type": "code",
      "source": [
        "X.head()"
      ],
      "metadata": {
        "colab": {
          "base_uri": "https://localhost:8080/",
          "height": 236
        },
        "id": "08lWnin99aal",
        "outputId": "e92ce67b-2946-4495-9433-c5e066b85ecd"
      },
      "execution_count": null,
      "outputs": [
        {
          "output_type": "execute_result",
          "data": {
            "text/plain": [
              "    pixel_0   pixel_1   pixel_2   pixel_3   pixel_4   pixel_5   pixel_6  \\\n",
              "0  0.478431  0.435294  0.462745  0.537255  0.631373  0.670588  0.654902   \n",
              "1  0.474510  0.439216  0.447059  0.533333  0.627451  0.670588  0.654902   \n",
              "2  0.474510  0.427451  0.396078  0.356863  0.321569  0.290196  0.262745   \n",
              "3  0.466667  0.411765  0.384314  0.341176  0.298039  0.203922  0.152941   \n",
              "4  0.454902  0.407843  0.388235  0.341176  0.309804  0.282353  0.254902   \n",
              "\n",
              "    pixel_7   pixel_8   pixel_9  ...  pixel_1014  pixel_1015  pixel_1016  \\\n",
              "0  0.639216  0.619608  0.592157  ...    0.439216    0.392157    0.435294   \n",
              "1  0.639216  0.627451  0.596078  ...    0.411765    0.415686    0.411765   \n",
              "2  0.247059  0.231373  0.215686  ...    0.529412    0.282353    0.227451   \n",
              "3  0.231373  0.223529  0.203922  ...    0.537255    0.541176    0.556863   \n",
              "4  0.243137  0.219608  0.207843  ...    0.133333    0.168627    0.525490   \n",
              "\n",
              "   pixel_1017  pixel_1018  pixel_1019  pixel_1020  pixel_1021  pixel_1022  \\\n",
              "0    0.419608    0.400000    0.407843    0.403922    0.403922    0.400000   \n",
              "1    0.407843    0.415686    0.415686    0.411765    0.403922    0.403922   \n",
              "2    0.211765    0.180392    0.172549    0.168627    0.156863    0.274510   \n",
              "3    0.568627    0.576471    0.576471    0.576471    0.572549    0.580392   \n",
              "4    0.537255    0.552941    0.556863    0.549020    0.545098    0.549020   \n",
              "\n",
              "   pixel_1023  \n",
              "0    0.392157  \n",
              "1    0.407843  \n",
              "2    0.568627  \n",
              "3    0.588235  \n",
              "4    0.556863  \n",
              "\n",
              "[5 rows x 1024 columns]"
            ],
            "text/html": [
              "\n",
              "  <div id=\"df-8d40a95e-8ddd-4857-9498-347b9045db91\">\n",
              "    <div class=\"colab-df-container\">\n",
              "      <div>\n",
              "<style scoped>\n",
              "    .dataframe tbody tr th:only-of-type {\n",
              "        vertical-align: middle;\n",
              "    }\n",
              "\n",
              "    .dataframe tbody tr th {\n",
              "        vertical-align: top;\n",
              "    }\n",
              "\n",
              "    .dataframe thead th {\n",
              "        text-align: right;\n",
              "    }\n",
              "</style>\n",
              "<table border=\"1\" class=\"dataframe\">\n",
              "  <thead>\n",
              "    <tr style=\"text-align: right;\">\n",
              "      <th></th>\n",
              "      <th>pixel_0</th>\n",
              "      <th>pixel_1</th>\n",
              "      <th>pixel_2</th>\n",
              "      <th>pixel_3</th>\n",
              "      <th>pixel_4</th>\n",
              "      <th>pixel_5</th>\n",
              "      <th>pixel_6</th>\n",
              "      <th>pixel_7</th>\n",
              "      <th>pixel_8</th>\n",
              "      <th>pixel_9</th>\n",
              "      <th>...</th>\n",
              "      <th>pixel_1014</th>\n",
              "      <th>pixel_1015</th>\n",
              "      <th>pixel_1016</th>\n",
              "      <th>pixel_1017</th>\n",
              "      <th>pixel_1018</th>\n",
              "      <th>pixel_1019</th>\n",
              "      <th>pixel_1020</th>\n",
              "      <th>pixel_1021</th>\n",
              "      <th>pixel_1022</th>\n",
              "      <th>pixel_1023</th>\n",
              "    </tr>\n",
              "  </thead>\n",
              "  <tbody>\n",
              "    <tr>\n",
              "      <th>0</th>\n",
              "      <td>0.478431</td>\n",
              "      <td>0.435294</td>\n",
              "      <td>0.462745</td>\n",
              "      <td>0.537255</td>\n",
              "      <td>0.631373</td>\n",
              "      <td>0.670588</td>\n",
              "      <td>0.654902</td>\n",
              "      <td>0.639216</td>\n",
              "      <td>0.619608</td>\n",
              "      <td>0.592157</td>\n",
              "      <td>...</td>\n",
              "      <td>0.439216</td>\n",
              "      <td>0.392157</td>\n",
              "      <td>0.435294</td>\n",
              "      <td>0.419608</td>\n",
              "      <td>0.400000</td>\n",
              "      <td>0.407843</td>\n",
              "      <td>0.403922</td>\n",
              "      <td>0.403922</td>\n",
              "      <td>0.400000</td>\n",
              "      <td>0.392157</td>\n",
              "    </tr>\n",
              "    <tr>\n",
              "      <th>1</th>\n",
              "      <td>0.474510</td>\n",
              "      <td>0.439216</td>\n",
              "      <td>0.447059</td>\n",
              "      <td>0.533333</td>\n",
              "      <td>0.627451</td>\n",
              "      <td>0.670588</td>\n",
              "      <td>0.654902</td>\n",
              "      <td>0.639216</td>\n",
              "      <td>0.627451</td>\n",
              "      <td>0.596078</td>\n",
              "      <td>...</td>\n",
              "      <td>0.411765</td>\n",
              "      <td>0.415686</td>\n",
              "      <td>0.411765</td>\n",
              "      <td>0.407843</td>\n",
              "      <td>0.415686</td>\n",
              "      <td>0.415686</td>\n",
              "      <td>0.411765</td>\n",
              "      <td>0.403922</td>\n",
              "      <td>0.403922</td>\n",
              "      <td>0.407843</td>\n",
              "    </tr>\n",
              "    <tr>\n",
              "      <th>2</th>\n",
              "      <td>0.474510</td>\n",
              "      <td>0.427451</td>\n",
              "      <td>0.396078</td>\n",
              "      <td>0.356863</td>\n",
              "      <td>0.321569</td>\n",
              "      <td>0.290196</td>\n",
              "      <td>0.262745</td>\n",
              "      <td>0.247059</td>\n",
              "      <td>0.231373</td>\n",
              "      <td>0.215686</td>\n",
              "      <td>...</td>\n",
              "      <td>0.529412</td>\n",
              "      <td>0.282353</td>\n",
              "      <td>0.227451</td>\n",
              "      <td>0.211765</td>\n",
              "      <td>0.180392</td>\n",
              "      <td>0.172549</td>\n",
              "      <td>0.168627</td>\n",
              "      <td>0.156863</td>\n",
              "      <td>0.274510</td>\n",
              "      <td>0.568627</td>\n",
              "    </tr>\n",
              "    <tr>\n",
              "      <th>3</th>\n",
              "      <td>0.466667</td>\n",
              "      <td>0.411765</td>\n",
              "      <td>0.384314</td>\n",
              "      <td>0.341176</td>\n",
              "      <td>0.298039</td>\n",
              "      <td>0.203922</td>\n",
              "      <td>0.152941</td>\n",
              "      <td>0.231373</td>\n",
              "      <td>0.223529</td>\n",
              "      <td>0.203922</td>\n",
              "      <td>...</td>\n",
              "      <td>0.537255</td>\n",
              "      <td>0.541176</td>\n",
              "      <td>0.556863</td>\n",
              "      <td>0.568627</td>\n",
              "      <td>0.576471</td>\n",
              "      <td>0.576471</td>\n",
              "      <td>0.576471</td>\n",
              "      <td>0.572549</td>\n",
              "      <td>0.580392</td>\n",
              "      <td>0.588235</td>\n",
              "    </tr>\n",
              "    <tr>\n",
              "      <th>4</th>\n",
              "      <td>0.454902</td>\n",
              "      <td>0.407843</td>\n",
              "      <td>0.388235</td>\n",
              "      <td>0.341176</td>\n",
              "      <td>0.309804</td>\n",
              "      <td>0.282353</td>\n",
              "      <td>0.254902</td>\n",
              "      <td>0.243137</td>\n",
              "      <td>0.219608</td>\n",
              "      <td>0.207843</td>\n",
              "      <td>...</td>\n",
              "      <td>0.133333</td>\n",
              "      <td>0.168627</td>\n",
              "      <td>0.525490</td>\n",
              "      <td>0.537255</td>\n",
              "      <td>0.552941</td>\n",
              "      <td>0.556863</td>\n",
              "      <td>0.549020</td>\n",
              "      <td>0.545098</td>\n",
              "      <td>0.549020</td>\n",
              "      <td>0.556863</td>\n",
              "    </tr>\n",
              "  </tbody>\n",
              "</table>\n",
              "<p>5 rows × 1024 columns</p>\n",
              "</div>\n",
              "      <button class=\"colab-df-convert\" onclick=\"convertToInteractive('df-8d40a95e-8ddd-4857-9498-347b9045db91')\"\n",
              "              title=\"Convert this dataframe to an interactive table.\"\n",
              "              style=\"display:none;\">\n",
              "        \n",
              "  <svg xmlns=\"http://www.w3.org/2000/svg\" height=\"24px\"viewBox=\"0 0 24 24\"\n",
              "       width=\"24px\">\n",
              "    <path d=\"M0 0h24v24H0V0z\" fill=\"none\"/>\n",
              "    <path d=\"M18.56 5.44l.94 2.06.94-2.06 2.06-.94-2.06-.94-.94-2.06-.94 2.06-2.06.94zm-11 1L8.5 8.5l.94-2.06 2.06-.94-2.06-.94L8.5 2.5l-.94 2.06-2.06.94zm10 10l.94 2.06.94-2.06 2.06-.94-2.06-.94-.94-2.06-.94 2.06-2.06.94z\"/><path d=\"M17.41 7.96l-1.37-1.37c-.4-.4-.92-.59-1.43-.59-.52 0-1.04.2-1.43.59L10.3 9.45l-7.72 7.72c-.78.78-.78 2.05 0 2.83L4 21.41c.39.39.9.59 1.41.59.51 0 1.02-.2 1.41-.59l7.78-7.78 2.81-2.81c.8-.78.8-2.07 0-2.86zM5.41 20L4 18.59l7.72-7.72 1.47 1.35L5.41 20z\"/>\n",
              "  </svg>\n",
              "      </button>\n",
              "      \n",
              "  <style>\n",
              "    .colab-df-container {\n",
              "      display:flex;\n",
              "      flex-wrap:wrap;\n",
              "      gap: 12px;\n",
              "    }\n",
              "\n",
              "    .colab-df-convert {\n",
              "      background-color: #E8F0FE;\n",
              "      border: none;\n",
              "      border-radius: 50%;\n",
              "      cursor: pointer;\n",
              "      display: none;\n",
              "      fill: #1967D2;\n",
              "      height: 32px;\n",
              "      padding: 0 0 0 0;\n",
              "      width: 32px;\n",
              "    }\n",
              "\n",
              "    .colab-df-convert:hover {\n",
              "      background-color: #E2EBFA;\n",
              "      box-shadow: 0px 1px 2px rgba(60, 64, 67, 0.3), 0px 1px 3px 1px rgba(60, 64, 67, 0.15);\n",
              "      fill: #174EA6;\n",
              "    }\n",
              "\n",
              "    [theme=dark] .colab-df-convert {\n",
              "      background-color: #3B4455;\n",
              "      fill: #D2E3FC;\n",
              "    }\n",
              "\n",
              "    [theme=dark] .colab-df-convert:hover {\n",
              "      background-color: #434B5C;\n",
              "      box-shadow: 0px 1px 3px 1px rgba(0, 0, 0, 0.15);\n",
              "      filter: drop-shadow(0px 1px 2px rgba(0, 0, 0, 0.3));\n",
              "      fill: #FFFFFF;\n",
              "    }\n",
              "  </style>\n",
              "\n",
              "      <script>\n",
              "        const buttonEl =\n",
              "          document.querySelector('#df-8d40a95e-8ddd-4857-9498-347b9045db91 button.colab-df-convert');\n",
              "        buttonEl.style.display =\n",
              "          google.colab.kernel.accessAllowed ? 'block' : 'none';\n",
              "\n",
              "        async function convertToInteractive(key) {\n",
              "          const element = document.querySelector('#df-8d40a95e-8ddd-4857-9498-347b9045db91');\n",
              "          const dataTable =\n",
              "            await google.colab.kernel.invokeFunction('convertToInteractive',\n",
              "                                                     [key], {});\n",
              "          if (!dataTable) return;\n",
              "\n",
              "          const docLinkHtml = 'Like what you see? Visit the ' +\n",
              "            '<a target=\"_blank\" href=https://colab.research.google.com/notebooks/data_table.ipynb>data table notebook</a>'\n",
              "            + ' to learn more about interactive tables.';\n",
              "          element.innerHTML = '';\n",
              "          dataTable['output_type'] = 'display_data';\n",
              "          await google.colab.output.renderOutput(dataTable, element);\n",
              "          const docLink = document.createElement('div');\n",
              "          docLink.innerHTML = docLinkHtml;\n",
              "          element.appendChild(docLink);\n",
              "        }\n",
              "      </script>\n",
              "    </div>\n",
              "  </div>\n",
              "  "
            ]
          },
          "metadata": {},
          "execution_count": 9
        }
      ]
    },
    {
      "cell_type": "code",
      "source": [],
      "metadata": {
        "id": "nGHVZwGJ9lz8"
      },
      "execution_count": null,
      "outputs": []
    },
    {
      "cell_type": "code",
      "source": [
        "X = np.reshape(X.values, (-1, 32, 32, 1))"
      ],
      "metadata": {
        "id": "2cjs-jEl5pZb"
      },
      "execution_count": null,
      "outputs": []
    },
    {
      "cell_type": "code",
      "source": [
        "train_data, test_data, train_labels, test_labels = train_test_split(X, y, test_size=0.2, random_state=42)\n",
        "train_data, val_data, train_labels, val_labels = train_test_split(train_data, train_labels, test_size=0.2, random_state=42)"
      ],
      "metadata": {
        "id": "vpv0u7AQ5pb0"
      },
      "execution_count": null,
      "outputs": []
    },
    {
      "cell_type": "code",
      "source": [
        "model = Sequential([\n",
        "    Conv2D(32, (3, 3), activation='relu', input_shape=(32, 32, 1)),\n",
        "    MaxPooling2D((2, 2)),\n",
        "    Conv2D(64, (3, 3), activation='relu'),\n",
        "    MaxPooling2D((2, 2)),\n",
        "    Conv2D(128, (3, 3), activation='relu'),\n",
        "    BatchNormalization(),\n",
        "    Flatten(),\n",
        "    Dense(128, activation='relu'),\n",
        "    Dense(39, activation='softmax')\n",
        "])"
      ],
      "metadata": {
        "id": "QG_PkhUx5peQ"
      },
      "execution_count": null,
      "outputs": []
    },
    {
      "cell_type": "code",
      "source": [
        "model.compile(optimizer='adam',\n",
        "              loss='sparse_categorical_crossentropy',\n",
        "              metrics=['accuracy'])"
      ],
      "metadata": {
        "id": "PmCVabK15pgZ"
      },
      "execution_count": null,
      "outputs": []
    },
    {
      "cell_type": "code",
      "source": [
        "model.summary()"
      ],
      "metadata": {
        "colab": {
          "base_uri": "https://localhost:8080/"
        },
        "id": "85XdSRi39tAp",
        "outputId": "adcce0e5-b93a-46a7-cd1b-ebdadc504ce3"
      },
      "execution_count": null,
      "outputs": [
        {
          "output_type": "stream",
          "name": "stdout",
          "text": [
            "Model: \"sequential\"\n",
            "_________________________________________________________________\n",
            " Layer (type)                Output Shape              Param #   \n",
            "=================================================================\n",
            " conv2d (Conv2D)             (None, 30, 30, 32)        320       \n",
            "                                                                 \n",
            " max_pooling2d (MaxPooling2D  (None, 15, 15, 32)       0         \n",
            " )                                                               \n",
            "                                                                 \n",
            " conv2d_1 (Conv2D)           (None, 13, 13, 64)        18496     \n",
            "                                                                 \n",
            " max_pooling2d_1 (MaxPooling  (None, 6, 6, 64)         0         \n",
            " 2D)                                                             \n",
            "                                                                 \n",
            " conv2d_2 (Conv2D)           (None, 4, 4, 128)         73856     \n",
            "                                                                 \n",
            " batch_normalization (BatchN  (None, 4, 4, 128)        512       \n",
            " ormalization)                                                   \n",
            "                                                                 \n",
            " flatten (Flatten)           (None, 2048)              0         \n",
            "                                                                 \n",
            " dense (Dense)               (None, 128)               262272    \n",
            "                                                                 \n",
            " dense_1 (Dense)             (None, 39)                5031      \n",
            "                                                                 \n",
            "=================================================================\n",
            "Total params: 360,487\n",
            "Trainable params: 360,231\n",
            "Non-trainable params: 256\n",
            "_________________________________________________________________\n"
          ]
        }
      ]
    },
    {
      "cell_type": "code",
      "source": [
        "epochs = 10\n",
        "history = model.fit(train_data, train_labels, batch_size=32, epochs=epochs, validation_data=(val_data, val_labels))"
      ],
      "metadata": {
        "colab": {
          "base_uri": "https://localhost:8080/"
        },
        "id": "2C7RLfft5pi6",
        "outputId": "1a72e448-ed8c-4ed6-d5f6-2a863bcaf037"
      },
      "execution_count": null,
      "outputs": [
        {
          "output_type": "stream",
          "name": "stdout",
          "text": [
            "Epoch 1/10\n",
            "1225/1225 [==============================] - 73s 59ms/step - loss: 0.0224 - accuracy: 0.9942 - val_loss: 0.0664 - val_accuracy: 0.9809\n",
            "Epoch 2/10\n",
            "1225/1225 [==============================] - 73s 60ms/step - loss: 0.0255 - accuracy: 0.9932 - val_loss: 0.0316 - val_accuracy: 0.9928\n",
            "Epoch 3/10\n",
            "1225/1225 [==============================] - 73s 59ms/step - loss: 0.0158 - accuracy: 0.9956 - val_loss: 0.0372 - val_accuracy: 0.9914\n",
            "Epoch 4/10\n",
            "1225/1225 [==============================] - 73s 60ms/step - loss: 0.0185 - accuracy: 0.9946 - val_loss: 0.0394 - val_accuracy: 0.9905\n",
            "Epoch 5/10\n",
            "1225/1225 [==============================] - 74s 61ms/step - loss: 0.0176 - accuracy: 0.9953 - val_loss: 0.0393 - val_accuracy: 0.9904\n",
            "Epoch 6/10\n",
            "1225/1225 [==============================] - 78s 64ms/step - loss: 0.0137 - accuracy: 0.9962 - val_loss: 0.0452 - val_accuracy: 0.9894\n",
            "Epoch 7/10\n",
            "1225/1225 [==============================] - 74s 60ms/step - loss: 0.0125 - accuracy: 0.9963 - val_loss: 0.0465 - val_accuracy: 0.9919\n",
            "Epoch 8/10\n",
            "1225/1225 [==============================] - 74s 60ms/step - loss: 0.0232 - accuracy: 0.9946 - val_loss: 0.0235 - val_accuracy: 0.9948\n",
            "Epoch 9/10\n",
            "1225/1225 [==============================] - 78s 63ms/step - loss: 0.0106 - accuracy: 0.9973 - val_loss: 0.0926 - val_accuracy: 0.9859\n",
            "Epoch 10/10\n",
            "1225/1225 [==============================] - 75s 61ms/step - loss: 0.0107 - accuracy: 0.9971 - val_loss: 0.0579 - val_accuracy: 0.9897\n"
          ]
        }
      ]
    },
    {
      "cell_type": "code",
      "source": [
        "test_loss, test_acc = model.evaluate(test_data, test_labels)\n",
        "print('Test accuracy:', test_acc)"
      ],
      "metadata": {
        "colab": {
          "base_uri": "https://localhost:8080/"
        },
        "id": "YKbVQKqk6z_r",
        "outputId": "a6d4748e-6ff3-4311-f804-04a8888e20eb"
      },
      "execution_count": null,
      "outputs": [
        {
          "output_type": "stream",
          "name": "stdout",
          "text": [
            "383/383 [==============================] - 7s 18ms/step - loss: 0.0642 - accuracy: 0.9857\n",
            "Test accuracy: 0.9857096076011658\n"
          ]
        }
      ]
    },
    {
      "cell_type": "code",
      "source": [
        "model.save(base_dir + 'Models/cnn_3conv_e20_v2.h5')"
      ],
      "metadata": {
        "id": "QldDDOY_94fI"
      },
      "execution_count": null,
      "outputs": []
    },
    {
      "cell_type": "code",
      "source": [
        "first = False # First training values\n",
        "if first:\n",
        "  acc = history.history['accuracy']\n",
        "  val_acc = history.history['val_accuracy']\n",
        "  loss = history.history['loss']\n",
        "  val_loss = history.history['val_loss']\n",
        "else:\n",
        "  acc = acc + history.history['accuracy']\n",
        "  val_acc = val_acc + history.history['val_accuracy']\n",
        "  loss = loss + history.history['loss']\n",
        "  val_loss = val_loss + history.history['val_loss']"
      ],
      "metadata": {
        "id": "8UlejcbH-3_r"
      },
      "execution_count": null,
      "outputs": []
    },
    {
      "cell_type": "code",
      "source": [
        "plt.plot(acc)\n",
        "plt.plot(val_acc)\n",
        "plt.title('Model Accuracy')\n",
        "plt.ylabel('Accuracy')\n",
        "plt.xlabel('Epoch')\n",
        "plt.legend(['train', 'val'], loc='upper left')\n",
        "plt.show()"
      ],
      "metadata": {
        "colab": {
          "base_uri": "https://localhost:8080/",
          "height": 472
        },
        "id": "13xLro0B8YkS",
        "outputId": "e1c172c8-70ae-4625-f595-06f347d677fa"
      },
      "execution_count": null,
      "outputs": [
        {
          "output_type": "display_data",
          "data": {
            "text/plain": [
              "<Figure size 640x480 with 1 Axes>"
            ],
            "image/png": "[encoded data removed]"
          },
          "metadata": {}
        }
      ]
    },
    {
      "cell_type": "code",
      "source": [
        "plt.plot(loss)\n",
        "plt.plot(val_loss)\n",
        "plt.title('Model Loss')\n",
        "plt.ylabel('Loss')  \n",
        "plt.xlabel('Epoch')\n",
        "plt.legend(['train', 'val'], loc='upper left')\n",
        "plt.show()"
      ],
      "metadata": {
        "colab": {
          "base_uri": "https://localhost:8080/",
          "height": 472
        },
        "id": "QCbmRq6w8Yhy",
        "outputId": "5f9ef41f-9131-41f7-dede-36119d9d8455"
      },
      "execution_count": null,
      "outputs": [
        {
          "output_type": "display_data",
          "data": {
            "text/plain": [
              "<Figure size 640x480 with 1 Axes>"
            ],
            "image/png": "[encoded data removed]"
          },
          "metadata": {}
        }
      ]
    },
    {
      "cell_type": "code",
      "source": [
        "predictions = model.predict(test_data)"
      ],
      "metadata": {
        "colab": {
          "base_uri": "https://localhost:8080/"
        },
        "id": "QDpgr8VK60CG",
        "outputId": "dcdfd2de-49a3-4c0c-c704-194ba57f634d"
      },
      "execution_count": null,
      "outputs": [
        {
          "output_type": "stream",
          "name": "stdout",
          "text": [
            "383/383 [==============================] - 8s 20ms/step\n"
          ]
        }
      ]
    },
    {
      "cell_type": "code",
      "source": [
        "y_pred = np.argmax(predictions, axis=1)"
      ],
      "metadata": {
        "id": "Z1v7k22260Eg"
      },
      "execution_count": null,
      "outputs": []
    },
    {
      "cell_type": "code",
      "source": [
        "print('Predicted labels:', y_pred[:10])"
      ],
      "metadata": {
        "colab": {
          "base_uri": "https://localhost:8080/"
        },
        "id": "PEK02ilm60Gt",
        "outputId": "614319e0-285f-4ac8-f88c-42d6470e1077"
      },
      "execution_count": null,
      "outputs": [
        {
          "output_type": "stream",
          "name": "stdout",
          "text": [
            "Predicted labels: [ 2 18 10  0 34 26 16  6  5 35]\n"
          ]
        }
      ]
    },
    {
      "cell_type": "code",
      "source": [
        "cm = tf.math.confusion_matrix(test_labels, y_pred)\n",
        "print('Confusion matrix:\\n', cm)"
      ],
      "metadata": {
        "colab": {
          "base_uri": "https://localhost:8080/"
        },
        "id": "sXC7pCJ68ocY",
        "outputId": "ed929e08-3e19-4252-93cb-8e3215984131"
      },
      "execution_count": null,
      "outputs": [
        {
          "output_type": "stream",
          "name": "stdout",
          "text": [
            "Confusion matrix:\n",
            " tf.Tensor(\n",
            "[[309   0   0 ...   0   0   0]\n",
            " [  0 302   0 ...   1   0   0]\n",
            " [  0   0 314 ...   0   0   1]\n",
            " ...\n",
            " [  0   0   0 ... 301   0   0]\n",
            " [  0   0   0 ...   0 283   0]\n",
            " [  0   0   0 ...   0   0 318]], shape=(39, 39), dtype=int32)\n"
          ]
        }
      ]
    },
    {
      "cell_type": "code",
      "source": [
        "plt.imshow(cm, cmap=plt.cm.Blues)\n",
        "plt.title('Confusion Matrix')\n",
        "plt.colorbar()\n",
        "plt.xticks(np.arange(39))\n",
        "plt.yticks(np.arange(39))\n",
        "plt.xlabel('Predicted Label')\n",
        "plt.ylabel('True Label')\n",
        "for i in range(39):\n",
        "    for j in range(39):\n",
        "        plt.text(j, i, cm[i, j], ha='center', va='center')\n",
        "plt.show()"
      ],
      "metadata": {
        "colab": {
          "base_uri": "https://localhost:8080/",
          "height": 818
        },
        "id": "pmmyAHd660JM",
        "outputId": "a7e18629-12fe-4cb3-f4dc-afa21dc01220"
      },
      "execution_count": null,
      "outputs": [
        {
          "output_type": "error",
          "ename": "TypeError",
          "evalue": "ignored",
          "traceback": [
            "\u001b[0;31m---------------------------------------------------------------------------\u001b[0m",
            "\u001b[0;31mTypeError\u001b[0m                                 Traceback (most recent call last)",
            "\u001b[0;32m<ipython-input-66-0f783f303081>\u001b[0m in \u001b[0;36m<cell line: 8>\u001b[0;34m()\u001b[0m\n\u001b[1;32m      8\u001b[0m \u001b[0;32mfor\u001b[0m \u001b[0mi\u001b[0m \u001b[0;32min\u001b[0m \u001b[0mrange\u001b[0m\u001b[0;34m(\u001b[0m\u001b[0;36m39\u001b[0m\u001b[0;34m)\u001b[0m\u001b[0;34m:\u001b[0m\u001b[0;34m\u001b[0m\u001b[0;34m\u001b[0m\u001b[0m\n\u001b[1;32m      9\u001b[0m     \u001b[0;32mfor\u001b[0m \u001b[0mj\u001b[0m \u001b[0;32min\u001b[0m \u001b[0mrange\u001b[0m\u001b[0;34m(\u001b[0m\u001b[0;36m39\u001b[0m\u001b[0;34m)\u001b[0m\u001b[0;34m:\u001b[0m\u001b[0;34m\u001b[0m\u001b[0;34m\u001b[0m\u001b[0m\n\u001b[0;32m---> 10\u001b[0;31m         \u001b[0mplt\u001b[0m\u001b[0;34m.\u001b[0m\u001b[0mtext\u001b[0m\u001b[0;34m(\u001b[0m\u001b[0mj\u001b[0m\u001b[0;34m,\u001b[0m \u001b[0mi\u001b[0m\u001b[0;34m,\u001b[0m \u001b[0mcm\u001b[0m\u001b[0;34m[\u001b[0m\u001b[0mi\u001b[0m\u001b[0;34m,\u001b[0m \u001b[0mj\u001b[0m\u001b[0;34m]\u001b[0m\u001b[0;34m,\u001b[0m \u001b[0mha\u001b[0m\u001b[0;34m=\u001b[0m\u001b[0;34m'center'\u001b[0m\u001b[0;34m,\u001b[0m \u001b[0mva\u001b[0m\u001b[0;34m=\u001b[0m\u001b[0;34m'center'\u001b[0m\u001b[0;34m)\u001b[0m\u001b[0;34m\u001b[0m\u001b[0;34m\u001b[0m\u001b[0m\n\u001b[0m\u001b[1;32m     11\u001b[0m \u001b[0mplt\u001b[0m\u001b[0;34m.\u001b[0m\u001b[0mshow\u001b[0m\u001b[0;34m(\u001b[0m\u001b[0;34m)\u001b[0m\u001b[0;34m\u001b[0m\u001b[0;34m\u001b[0m\u001b[0m\n",
            "\u001b[0;32m/usr/local/lib/python3.9/dist-packages/matplotlib/pyplot.py\u001b[0m in \u001b[0;36mtext\u001b[0;34m(x, y, s, fontdict, **kwargs)\u001b[0m\n\u001b[1;32m   2983\u001b[0m \u001b[0;34m@\u001b[0m\u001b[0m_copy_docstring_and_deprecators\u001b[0m\u001b[0;34m(\u001b[0m\u001b[0mAxes\u001b[0m\u001b[0;34m.\u001b[0m\u001b[0mtext\u001b[0m\u001b[0;34m)\u001b[0m\u001b[0;34m\u001b[0m\u001b[0;34m\u001b[0m\u001b[0m\n\u001b[1;32m   2984\u001b[0m \u001b[0;32mdef\u001b[0m \u001b[0mtext\u001b[0m\u001b[0;34m(\u001b[0m\u001b[0mx\u001b[0m\u001b[0;34m,\u001b[0m \u001b[0my\u001b[0m\u001b[0;34m,\u001b[0m \u001b[0ms\u001b[0m\u001b[0;34m,\u001b[0m \u001b[0mfontdict\u001b[0m\u001b[0;34m=\u001b[0m\u001b[0;32mNone\u001b[0m\u001b[0;34m,\u001b[0m \u001b[0;34m**\u001b[0m\u001b[0mkwargs\u001b[0m\u001b[0;34m)\u001b[0m\u001b[0;34m:\u001b[0m\u001b[0;34m\u001b[0m\u001b[0;34m\u001b[0m\u001b[0m\n\u001b[0;32m-> 2985\u001b[0;31m     \u001b[0;32mreturn\u001b[0m \u001b[0mgca\u001b[0m\u001b[0;34m(\u001b[0m\u001b[0;34m)\u001b[0m\u001b[0;34m.\u001b[0m\u001b[0mtext\u001b[0m\u001b[0;34m(\u001b[0m\u001b[0mx\u001b[0m\u001b[0;34m,\u001b[0m \u001b[0my\u001b[0m\u001b[0;34m,\u001b[0m \u001b[0ms\u001b[0m\u001b[0;34m,\u001b[0m \u001b[0mfontdict\u001b[0m\u001b[0;34m=\u001b[0m\u001b[0mfontdict\u001b[0m\u001b[0;34m,\u001b[0m \u001b[0;34m**\u001b[0m\u001b[0mkwargs\u001b[0m\u001b[0;34m)\u001b[0m\u001b[0;34m\u001b[0m\u001b[0;34m\u001b[0m\u001b[0m\n\u001b[0m\u001b[1;32m   2986\u001b[0m \u001b[0;34m\u001b[0m\u001b[0m\n\u001b[1;32m   2987\u001b[0m \u001b[0;34m\u001b[0m\u001b[0m\n",
            "\u001b[0;32m/usr/local/lib/python3.9/dist-packages/matplotlib/axes/_axes.py\u001b[0m in \u001b[0;36mtext\u001b[0;34m(self, x, y, s, fontdict, **kwargs)\u001b[0m\n\u001b[1;32m    687\u001b[0m             \u001b[0;34m**\u001b[0m\u001b[0mkwargs\u001b[0m\u001b[0;34m,\u001b[0m\u001b[0;34m\u001b[0m\u001b[0;34m\u001b[0m\u001b[0m\n\u001b[1;32m    688\u001b[0m         }\n\u001b[0;32m--> 689\u001b[0;31m         \u001b[0mt\u001b[0m \u001b[0;34m=\u001b[0m \u001b[0mmtext\u001b[0m\u001b[0;34m.\u001b[0m\u001b[0mText\u001b[0m\u001b[0;34m(\u001b[0m\u001b[0mx\u001b[0m\u001b[0;34m,\u001b[0m \u001b[0my\u001b[0m\u001b[0;34m,\u001b[0m \u001b[0mtext\u001b[0m\u001b[0;34m=\u001b[0m\u001b[0ms\u001b[0m\u001b[0;34m,\u001b[0m \u001b[0;34m**\u001b[0m\u001b[0meffective_kwargs\u001b[0m\u001b[0;34m)\u001b[0m\u001b[0;34m\u001b[0m\u001b[0;34m\u001b[0m\u001b[0m\n\u001b[0m\u001b[1;32m    690\u001b[0m         \u001b[0mt\u001b[0m\u001b[0;34m.\u001b[0m\u001b[0mset_clip_path\u001b[0m\u001b[0;34m(\u001b[0m\u001b[0mself\u001b[0m\u001b[0;34m.\u001b[0m\u001b[0mpatch\u001b[0m\u001b[0;34m)\u001b[0m\u001b[0;34m\u001b[0m\u001b[0;34m\u001b[0m\u001b[0m\n\u001b[1;32m    691\u001b[0m         \u001b[0mself\u001b[0m\u001b[0;34m.\u001b[0m\u001b[0m_add_text\u001b[0m\u001b[0;34m(\u001b[0m\u001b[0mt\u001b[0m\u001b[0;34m)\u001b[0m\u001b[0;34m\u001b[0m\u001b[0;34m\u001b[0m\u001b[0m\n",
            "\u001b[0;32m/usr/local/lib/python3.9/dist-packages/matplotlib/_api/deprecation.py\u001b[0m in \u001b[0;36mwrapper\u001b[0;34m(*args, **kwargs)\u001b[0m\n\u001b[1;32m    452\u001b[0m                 \u001b[0;34m\"parameter will become keyword-only %(removal)s.\"\u001b[0m\u001b[0;34m,\u001b[0m\u001b[0;34m\u001b[0m\u001b[0;34m\u001b[0m\u001b[0m\n\u001b[1;32m    453\u001b[0m                 name=name, obj_type=f\"parameter of {func.__name__}()\")\n\u001b[0;32m--> 454\u001b[0;31m         \u001b[0;32mreturn\u001b[0m \u001b[0mfunc\u001b[0m\u001b[0;34m(\u001b[0m\u001b[0;34m*\u001b[0m\u001b[0margs\u001b[0m\u001b[0;34m,\u001b[0m \u001b[0;34m**\u001b[0m\u001b[0mkwargs\u001b[0m\u001b[0;34m)\u001b[0m\u001b[0;34m\u001b[0m\u001b[0;34m\u001b[0m\u001b[0m\n\u001b[0m\u001b[1;32m    455\u001b[0m \u001b[0;34m\u001b[0m\u001b[0m\n\u001b[1;32m    456\u001b[0m     \u001b[0;31m# Don't modify *func*'s signature, as boilerplate.py needs it.\u001b[0m\u001b[0;34m\u001b[0m\u001b[0;34m\u001b[0m\u001b[0m\n",
            "\u001b[0;32m/usr/local/lib/python3.9/dist-packages/matplotlib/text.py\u001b[0m in \u001b[0;36m__init__\u001b[0;34m(self, x, y, text, color, verticalalignment, horizontalalignment, multialignment, fontproperties, rotation, linespacing, rotation_mode, usetex, wrap, transform_rotates_text, parse_math, **kwargs)\u001b[0m\n\u001b[1;32m    166\u001b[0m         \u001b[0mself\u001b[0m\u001b[0;34m.\u001b[0m\u001b[0m_x\u001b[0m\u001b[0;34m,\u001b[0m \u001b[0mself\u001b[0m\u001b[0;34m.\u001b[0m\u001b[0m_y\u001b[0m \u001b[0;34m=\u001b[0m \u001b[0mx\u001b[0m\u001b[0;34m,\u001b[0m \u001b[0my\u001b[0m\u001b[0;34m\u001b[0m\u001b[0;34m\u001b[0m\u001b[0m\n\u001b[1;32m    167\u001b[0m         \u001b[0mself\u001b[0m\u001b[0;34m.\u001b[0m\u001b[0m_text\u001b[0m \u001b[0;34m=\u001b[0m \u001b[0;34m''\u001b[0m\u001b[0;34m\u001b[0m\u001b[0;34m\u001b[0m\u001b[0m\n\u001b[0;32m--> 168\u001b[0;31m         self._reset_visual_defaults(\n\u001b[0m\u001b[1;32m    169\u001b[0m             \u001b[0mtext\u001b[0m\u001b[0;34m=\u001b[0m\u001b[0mtext\u001b[0m\u001b[0;34m,\u001b[0m\u001b[0;34m\u001b[0m\u001b[0;34m\u001b[0m\u001b[0m\n\u001b[1;32m    170\u001b[0m             \u001b[0mcolor\u001b[0m\u001b[0;34m=\u001b[0m\u001b[0mcolor\u001b[0m\u001b[0;34m,\u001b[0m\u001b[0;34m\u001b[0m\u001b[0;34m\u001b[0m\u001b[0m\n",
            "\u001b[0;32m/usr/local/lib/python3.9/dist-packages/matplotlib/text.py\u001b[0m in \u001b[0;36m_reset_visual_defaults\u001b[0;34m(self, text, color, fontproperties, usetex, parse_math, wrap, verticalalignment, horizontalalignment, multialignment, rotation, transform_rotates_text, linespacing, rotation_mode)\u001b[0m\n\u001b[1;32m    199\u001b[0m         \u001b[0mrotation_mode\u001b[0m\u001b[0;34m=\u001b[0m\u001b[0;32mNone\u001b[0m\u001b[0;34m,\u001b[0m\u001b[0;34m\u001b[0m\u001b[0;34m\u001b[0m\u001b[0m\n\u001b[1;32m    200\u001b[0m     ):\n\u001b[0;32m--> 201\u001b[0;31m         \u001b[0mself\u001b[0m\u001b[0;34m.\u001b[0m\u001b[0mset_text\u001b[0m\u001b[0;34m(\u001b[0m\u001b[0mtext\u001b[0m\u001b[0;34m)\u001b[0m\u001b[0;34m\u001b[0m\u001b[0;34m\u001b[0m\u001b[0m\n\u001b[0m\u001b[1;32m    202\u001b[0m         self.set_color(\n\u001b[1;32m    203\u001b[0m             color if color is not None else mpl.rcParams[\"text.color\"])\n",
            "\u001b[0;32m/usr/local/lib/python3.9/dist-packages/matplotlib/text.py\u001b[0m in \u001b[0;36mset_text\u001b[0;34m(self, s)\u001b[0m\n\u001b[1;32m   1277\u001b[0m         \u001b[0;32mif\u001b[0m \u001b[0ms\u001b[0m \u001b[0;32mis\u001b[0m \u001b[0;32mNone\u001b[0m\u001b[0;34m:\u001b[0m\u001b[0;34m\u001b[0m\u001b[0;34m\u001b[0m\u001b[0m\n\u001b[1;32m   1278\u001b[0m             \u001b[0ms\u001b[0m \u001b[0;34m=\u001b[0m \u001b[0;34m''\u001b[0m\u001b[0;34m\u001b[0m\u001b[0;34m\u001b[0m\u001b[0m\n\u001b[0;32m-> 1279\u001b[0;31m         \u001b[0;32mif\u001b[0m \u001b[0ms\u001b[0m \u001b[0;34m!=\u001b[0m \u001b[0mself\u001b[0m\u001b[0;34m.\u001b[0m\u001b[0m_text\u001b[0m\u001b[0;34m:\u001b[0m\u001b[0;34m\u001b[0m\u001b[0;34m\u001b[0m\u001b[0m\n\u001b[0m\u001b[1;32m   1280\u001b[0m             \u001b[0mself\u001b[0m\u001b[0;34m.\u001b[0m\u001b[0m_text\u001b[0m \u001b[0;34m=\u001b[0m \u001b[0mstr\u001b[0m\u001b[0;34m(\u001b[0m\u001b[0ms\u001b[0m\u001b[0;34m)\u001b[0m\u001b[0;34m\u001b[0m\u001b[0;34m\u001b[0m\u001b[0m\n\u001b[1;32m   1281\u001b[0m             \u001b[0mself\u001b[0m\u001b[0;34m.\u001b[0m\u001b[0mstale\u001b[0m \u001b[0;34m=\u001b[0m \u001b[0;32mTrue\u001b[0m\u001b[0;34m\u001b[0m\u001b[0;34m\u001b[0m\u001b[0m\n",
            "\u001b[0;32m/usr/local/lib/python3.9/dist-packages/tensorflow/python/util/traceback_utils.py\u001b[0m in \u001b[0;36merror_handler\u001b[0;34m(*args, **kwargs)\u001b[0m\n\u001b[1;32m    151\u001b[0m     \u001b[0;32mexcept\u001b[0m \u001b[0mException\u001b[0m \u001b[0;32mas\u001b[0m \u001b[0me\u001b[0m\u001b[0;34m:\u001b[0m\u001b[0;34m\u001b[0m\u001b[0;34m\u001b[0m\u001b[0m\n\u001b[1;32m    152\u001b[0m       \u001b[0mfiltered_tb\u001b[0m \u001b[0;34m=\u001b[0m \u001b[0m_process_traceback_frames\u001b[0m\u001b[0;34m(\u001b[0m\u001b[0me\u001b[0m\u001b[0;34m.\u001b[0m\u001b[0m__traceback__\u001b[0m\u001b[0;34m)\u001b[0m\u001b[0;34m\u001b[0m\u001b[0;34m\u001b[0m\u001b[0m\n\u001b[0;32m--> 153\u001b[0;31m       \u001b[0;32mraise\u001b[0m \u001b[0me\u001b[0m\u001b[0;34m.\u001b[0m\u001b[0mwith_traceback\u001b[0m\u001b[0;34m(\u001b[0m\u001b[0mfiltered_tb\u001b[0m\u001b[0;34m)\u001b[0m \u001b[0;32mfrom\u001b[0m \u001b[0;32mNone\u001b[0m\u001b[0;34m\u001b[0m\u001b[0;34m\u001b[0m\u001b[0m\n\u001b[0m\u001b[1;32m    154\u001b[0m     \u001b[0;32mfinally\u001b[0m\u001b[0;34m:\u001b[0m\u001b[0;34m\u001b[0m\u001b[0;34m\u001b[0m\u001b[0m\n\u001b[1;32m    155\u001b[0m       \u001b[0;32mdel\u001b[0m \u001b[0mfiltered_tb\u001b[0m\u001b[0;34m\u001b[0m\u001b[0;34m\u001b[0m\u001b[0m\n",
            "\u001b[0;32m/usr/local/lib/python3.9/dist-packages/tensorflow/python/framework/constant_op.py\u001b[0m in \u001b[0;36mconvert_to_eager_tensor\u001b[0;34m(value, ctx, dtype)\u001b[0m\n\u001b[1;32m    101\u001b[0m       \u001b[0mdtype\u001b[0m \u001b[0;34m=\u001b[0m \u001b[0mdtypes\u001b[0m\u001b[0;34m.\u001b[0m\u001b[0mas_dtype\u001b[0m\u001b[0;34m(\u001b[0m\u001b[0mdtype\u001b[0m\u001b[0;34m)\u001b[0m\u001b[0;34m.\u001b[0m\u001b[0mas_datatype_enum\u001b[0m\u001b[0;34m\u001b[0m\u001b[0;34m\u001b[0m\u001b[0m\n\u001b[1;32m    102\u001b[0m   \u001b[0mctx\u001b[0m\u001b[0;34m.\u001b[0m\u001b[0mensure_initialized\u001b[0m\u001b[0;34m(\u001b[0m\u001b[0;34m)\u001b[0m\u001b[0;34m\u001b[0m\u001b[0;34m\u001b[0m\u001b[0m\n\u001b[0;32m--> 103\u001b[0;31m   \u001b[0;32mreturn\u001b[0m \u001b[0mops\u001b[0m\u001b[0;34m.\u001b[0m\u001b[0mEagerTensor\u001b[0m\u001b[0;34m(\u001b[0m\u001b[0mvalue\u001b[0m\u001b[0;34m,\u001b[0m \u001b[0mctx\u001b[0m\u001b[0;34m.\u001b[0m\u001b[0mdevice_name\u001b[0m\u001b[0;34m,\u001b[0m \u001b[0mdtype\u001b[0m\u001b[0;34m)\u001b[0m\u001b[0;34m\u001b[0m\u001b[0;34m\u001b[0m\u001b[0m\n\u001b[0m\u001b[1;32m    104\u001b[0m \u001b[0;34m\u001b[0m\u001b[0m\n\u001b[1;32m    105\u001b[0m \u001b[0;34m\u001b[0m\u001b[0m\n",
            "\u001b[0;31mTypeError\u001b[0m: Cannot convert '' to EagerTensor of dtype int32"
          ]
        },
        {
          "output_type": "display_data",
          "data": {
            "text/plain": [
              "<Figure size 640x480 with 2 Axes>"
            ],
            "image/png": "[encoded data removed]"
          },
          "metadata": {}
        }
      ]
    },
    {
      "cell_type": "code",
      "source": [
        "from sklearn.metrics import classification_report\n",
        "print('Classification report:\\n', classification_report(test_labels, y_pred))"
      ],
      "metadata": {
        "colab": {
          "base_uri": "https://localhost:8080/"
        },
        "id": "-a0XNbns60Ny",
        "outputId": "b6e4bb22-2baa-46d0-b401-7387a46d04b7"
      },
      "execution_count": null,
      "outputs": [
        {
          "output_type": "stream",
          "name": "stdout",
          "text": [
            "Classification report:\n",
            "               precision    recall  f1-score   support\n",
            "\n",
            "           0       0.99      1.00      0.99       310\n",
            "           1       1.00      0.99      0.99       306\n",
            "           2       1.00      1.00      1.00       315\n",
            "           3       1.00      1.00      1.00       306\n",
            "           4       1.00      0.99      1.00       311\n",
            "           5       1.00      1.00      1.00       290\n",
            "           6       0.99      0.99      0.99       334\n",
            "           7       1.00      1.00      1.00       336\n",
            "           8       1.00      1.00      1.00       307\n",
            "           9       1.00      1.00      1.00       318\n",
            "          10       0.95      0.98      0.97       311\n",
            "          11       0.97      0.97      0.97       296\n",
            "          12       1.00      0.97      0.99       319\n",
            "          13       0.99      0.96      0.97       324\n",
            "          14       1.00      0.95      0.97       333\n",
            "          15       0.98      0.92      0.95       316\n",
            "          16       1.00      0.99      0.99       308\n",
            "          17       0.93      0.97      0.95       292\n",
            "          18       0.97      0.96      0.96       321\n",
            "          19       0.97      0.97      0.97       304\n",
            "          20       0.96      1.00      0.98       320\n",
            "          21       0.93      1.00      0.96       315\n",
            "          22       1.00      1.00      1.00       320\n",
            "          23       0.96      1.00      0.98       319\n",
            "          24       1.00      1.00      1.00       311\n",
            "          25       1.00      1.00      1.00       334\n",
            "          26       0.99      0.99      0.99       319\n",
            "          27       1.00      0.99      1.00       313\n",
            "          28       0.99      1.00      1.00       314\n",
            "          29       0.98      1.00      0.99       313\n",
            "          30       1.00      0.98      0.99       322\n",
            "          31       0.97      0.98      0.97       322\n",
            "          32       0.98      0.99      0.99       310\n",
            "          33       1.00      0.98      0.99       315\n",
            "          34       1.00      0.97      0.98       318\n",
            "          35       0.97      0.97      0.97       315\n",
            "          36       1.00      1.00      1.00       301\n",
            "          37       0.99      0.99      0.99       285\n",
            "          38       1.00      0.98      0.99       323\n",
            "\n",
            "    accuracy                           0.99     12246\n",
            "   macro avg       0.99      0.99      0.99     12246\n",
            "weighted avg       0.99      0.99      0.99     12246\n",
            "\n"
          ]
        }
      ]
    },
    {
      "cell_type": "code",
      "source": [
        "import json\n",
        "with open(base_dir + 'index_labels.json', 'r') as f:\n",
        "    data_dict = json.load(f)"
      ],
      "metadata": {
        "id": "b7RONmAKCb1g"
      },
      "execution_count": null,
      "outputs": []
    },
    {
      "cell_type": "code",
      "source": [
        "data_dict"
      ],
      "metadata": {
        "colab": {
          "base_uri": "https://localhost:8080/"
        },
        "id": "GKdAHauRCpTs",
        "outputId": "dd406c13-7b81-476e-eadd-dbd304b567f1"
      },
      "execution_count": null,
      "outputs": [
        {
          "output_type": "execute_result",
          "data": {
            "text/plain": [
              "{'0': '0',\n",
              " '1': '1',\n",
              " '2': '2',\n",
              " '3': '3',\n",
              " '4': '4',\n",
              " '5': '5',\n",
              " '6': '6',\n",
              " '7': '7',\n",
              " '8': '8',\n",
              " '9': '9',\n",
              " '10': 'a',\n",
              " '11': 'b',\n",
              " '12': 'c',\n",
              " '13': 'd',\n",
              " '14': 'del',\n",
              " '15': 'e',\n",
              " '16': 'f',\n",
              " '17': 'g',\n",
              " '18': 'h',\n",
              " '19': 'i',\n",
              " '20': 'j',\n",
              " '21': 'k',\n",
              " '22': 'l',\n",
              " '23': 'm',\n",
              " '24': 'n',\n",
              " '25': 'nothing',\n",
              " '26': 'o',\n",
              " '27': 'p',\n",
              " '28': 'q',\n",
              " '29': 'r',\n",
              " '30': 's',\n",
              " '31': 'space',\n",
              " '32': 't',\n",
              " '33': 'u',\n",
              " '34': 'v',\n",
              " '35': 'w',\n",
              " '36': 'x',\n",
              " '37': 'y',\n",
              " '38': 'z'}"
            ]
          },
          "metadata": {},
          "execution_count": 69
        }
      ]
    },
    {
      "cell_type": "code",
      "source": [
        "fig, axes = plt.subplots(nrows=3, ncols=5, figsize=(10, 6), subplot_kw={'xticks': [], 'yticks': []})\n",
        "true = list(test_labels)\n",
        "for i, ax in enumerate(axes.flat):\n",
        "    ax.imshow(test_data[i, :, :, 0], cmap='gray')\n",
        "    ax.set_title(f'True: {data_dict[str(true[i])]}; Pred: {data_dict[str(np.argmax(predictions[i]))]}')\n",
        "# plt.show()\n"
      ],
      "metadata": {
        "colab": {
          "base_uri": "https://localhost:8080/",
          "height": 519
        },
        "id": "5MtrZsrz60T5",
        "outputId": "5107371c-6216-4239-8380-d964dc7296e0"
      },
      "execution_count": null,
      "outputs": [
        {
          "output_type": "display_data",
          "data": {
            "text/plain": [
              "<Figure size 1000x600 with 15 Axes>"
            ],
            "image/png": "[encoded data removed]"
          },
          "metadata": {}
        }
      ]
    },
    {
      "cell_type": "code",
      "source": [
        "data_dict[str(np.argmax(predictions[i]))]"
      ],
      "metadata": {
        "colab": {
          "base_uri": "https://localhost:8080/",
          "height": 35
        },
        "id": "JEm7kvOcDj6Q",
        "outputId": "4d552629-73ea-40a7-e000-0d1115c5f76a"
      },
      "execution_count": null,
      "outputs": [
        {
          "output_type": "execute_result",
          "data": {
            "text/plain": [
              "'c'"
            ],
            "application/vnd.google.colaboratory.intrinsic+json": {
              "type": "string"
            }
          },
          "metadata": {},
          "execution_count": 71
        }
      ]
    },
    {
      "cell_type": "code",
      "source": [
        "\n"
      ],
      "metadata": {
        "id": "95VIi8x67NBw"
      },
      "execution_count": null,
      "outputs": []
    }
  ]
}