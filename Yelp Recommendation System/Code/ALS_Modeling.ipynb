{
 "cells": [
  {
   "cell_type": "code",
   "execution_count": 1,
   "metadata": {
    "colab": {
     "base_uri": "https://localhost:8080/"
    },
    "id": "8_ugzOXH-wsX",
    "outputId": "9181be84-6568-4daa-8195-cdcdbf669359"
   },
   "outputs": [
    {
     "name": "stdout",
     "output_type": "stream",
     "text": [
      "Mounted at /content/drive\n"
     ]
    }
   ],
   "source": [
    "# from google.colab import drive\n",
    "# drive.mount('/content/drive')"
   ]
  },
  {
   "cell_type": "code",
   "execution_count": 1,
   "metadata": {
    "colab": {
     "base_uri": "https://localhost:8080/"
    },
    "id": "AMuVieg7_i8_",
    "outputId": "dac1ab9c-61ca-4bb1-bc4d-09d0787d8ffc"
   },
   "outputs": [
    {
     "name": "stdout",
     "output_type": "stream",
     "text": [
      "Looking in indexes: https://pypi.org/simple, https://us-python.pkg.dev/colab-wheels/public/simple/\n",
      "Requirement already satisfied: kaggle in /usr/local/lib/python3.10/dist-packages (1.5.13)\n",
      "Requirement already satisfied: urllib3 in /usr/local/lib/python3.10/dist-packages (from kaggle) (1.26.15)\n",
      "Requirement already satisfied: python-slugify in /usr/local/lib/python3.10/dist-packages (from kaggle) (8.0.1)\n",
      "Requirement already satisfied: requests in /usr/local/lib/python3.10/dist-packages (from kaggle) (2.27.1)\n",
      "Requirement already satisfied: python-dateutil in /usr/local/lib/python3.10/dist-packages (from kaggle) (2.8.2)\n",
      "Requirement already satisfied: tqdm in /usr/local/lib/python3.10/dist-packages (from kaggle) (4.65.0)\n",
      "Requirement already satisfied: certifi in /usr/local/lib/python3.10/dist-packages (from kaggle) (2022.12.7)\n",
      "Requirement already satisfied: six>=1.10 in /usr/local/lib/python3.10/dist-packages (from kaggle) (1.16.0)\n",
      "Requirement already satisfied: text-unidecode>=1.3 in /usr/local/lib/python3.10/dist-packages (from python-slugify->kaggle) (1.3)\n",
      "Requirement already satisfied: charset-normalizer~=2.0.0 in /usr/local/lib/python3.10/dist-packages (from requests->kaggle) (2.0.12)\n",
      "Requirement already satisfied: idna<4,>=2.5 in /usr/local/lib/python3.10/dist-packages (from requests->kaggle) (3.4)\n",
      "Downloading yelp-dataset.zip to /content\n",
      "100% 4.07G/4.07G [00:40<00:00, 101MB/s]\n",
      "100% 4.07G/4.07G [00:40<00:00, 107MB/s]\n",
      "Archive:  yelp-dataset.zip\n",
      "  inflating: Dataset_User_Agreement.pdf  \n",
      "  inflating: yelp_academic_dataset_business.json  \n",
      "  inflating: yelp_academic_dataset_checkin.json  \n",
      "  inflating: yelp_academic_dataset_review.json  \n",
      "  inflating: yelp_academic_dataset_tip.json  \n",
      "  inflating: yelp_academic_dataset_user.json  \n"
     ]
    }
   ],
   "source": [
    "!pip install kaggle\n",
    "!mkdir ~/.kaggle\n",
    "!cp kaggle.json ~/.kaggle/\n",
    "!chmod 600 ~/.kaggle/kaggle.json\n",
    "!kaggle datasets download -d yelp-dataset/yelp-dataset\n",
    "!unzip yelp-dataset.zip"
   ]
  },
  {
   "cell_type": "code",
   "execution_count": 2,
   "metadata": {
    "colab": {
     "base_uri": "https://localhost:8080/"
    },
    "id": "Oe8zFnRc_R2A",
    "outputId": "26667ad4-250a-4758-f7c9-617237c34a88"
   },
   "outputs": [
    {
     "name": "stdout",
     "output_type": "stream",
     "text": [
      "Looking in indexes: https://pypi.org/simple, https://us-python.pkg.dev/colab-wheels/public/simple/\n",
      "Collecting pyspark\n",
      "  Downloading pyspark-3.4.0.tar.gz (310.8 MB)\n",
      "\u001b[2K     \u001b[90m━━━━━━━━━━━━━━━━━━━━━━━━━━━━━━━━━━━━━━━\u001b[0m \u001b[32m310.8/310.8 MB\u001b[0m \u001b[31m3.8 MB/s\u001b[0m eta \u001b[36m0:00:00\u001b[0m\n",
      "\u001b[?25h  Preparing metadata (setup.py) ... \u001b[?25l\u001b[?25hdone\n",
      "Requirement already satisfied: py4j==0.10.9.7 in /usr/local/lib/python3.10/dist-packages (from pyspark) (0.10.9.7)\n",
      "Building wheels for collected packages: pyspark\n",
      "  Building wheel for pyspark (setup.py) ... \u001b[?25l\u001b[?25hdone\n",
      "  Created wheel for pyspark: filename=pyspark-3.4.0-py2.py3-none-any.whl size=311317145 sha256=3591afdce7b574640bcc1b20fe5550b0776486411105ec6d0d9a65b7fc39fdea\n",
      "  Stored in directory: /root/.cache/pip/wheels/7b/1b/4b/3363a1d04368e7ff0d408e57ff57966fcdf00583774e761327\n",
      "Successfully built pyspark\n",
      "Installing collected packages: pyspark\n",
      "Successfully installed pyspark-3.4.0\n"
     ]
    }
   ],
   "source": [
    "!pip install pyspark"
   ]
  },
  {
   "cell_type": "markdown",
   "metadata": {
    "id": "LaOJWb9SFwr5"
   },
   "source": [
    "# Importing Libraries"
   ]
  },
  {
   "cell_type": "code",
   "execution_count": 3,
   "metadata": {
    "id": "EIGXT_Zi_R4u"
   },
   "outputs": [],
   "source": [
    "%matplotlib inline\n",
    "from pyspark import SparkConf\n",
    "from pyspark.sql import SparkSession\n",
    "from pyspark.sql import SQLContext\n",
    "from pyspark.sql.types import StructType, StructField, StringType, MapType\n",
    "import pyspark.sql.functions as F\n",
    "import matplotlib.pyplot as plt\n",
    "import seaborn as sns\n",
    "import pandas as pd\n",
    "from pyspark.ml.feature import VectorAssembler\n",
    "from pyspark.ml import Pipeline\n",
    "# from pyspark.ml.feature import StringIndexer, OneHotEncoderEstimator\n",
    "from pyspark.sql import Window\n",
    "from pyspark.ml.evaluation import RegressionEvaluator\n",
    "sns.set_theme(style=\"whitegrid\", palette=\"pastel\")"
   ]
  },
  {
   "cell_type": "code",
   "execution_count": 4,
   "metadata": {
    "id": "5MPbmfwOG0r7"
   },
   "outputs": [],
   "source": [
    "from sklearn.metrics import confusion_matrix, classification_report, accuracy_score"
   ]
  },
  {
   "cell_type": "code",
   "execution_count": 5,
   "metadata": {
    "colab": {
     "base_uri": "https://localhost:8080/"
    },
    "id": "3J2ENSYv_R7E",
    "outputId": "655ddb94-6d6a-4ce3-86df-4b6a0a6d6196"
   },
   "outputs": [
    {
     "name": "stderr",
     "output_type": "stream",
     "text": [
      "/usr/local/lib/python3.10/dist-packages/pyspark/sql/context.py:112: FutureWarning: Deprecated in 3.0.0. Use SparkSession.builder.getOrCreate() instead.\n",
      "  warnings.warn(\n"
     ]
    }
   ],
   "source": [
    "# conf = SparkConf().set(\"spark.kryoserializer.buffer.max\", \"4g\")\n",
    "spark = SparkSession.builder.getOrCreate()\n",
    "spark_context = spark.sparkContext\n",
    "sqlContext = SQLContext(spark_context)"
   ]
  },
  {
   "cell_type": "markdown",
   "metadata": {
    "id": "SrdbriCfFMwr"
   },
   "source": [
    "# Data Loading"
   ]
  },
  {
   "cell_type": "markdown",
   "metadata": {
    "id": "Fxk7fl6isfxv"
   },
   "source": [
    "## Loading Businesses Dataset"
   ]
  },
  {
   "cell_type": "code",
   "execution_count": 6,
   "metadata": {
    "id": "flS5oZgN_R9Z"
   },
   "outputs": [],
   "source": [
    "businesses = spark.read.json(\"yelp_academic_dataset_business.json\")"
   ]
  },
  {
   "cell_type": "markdown",
   "metadata": {
    "id": "jMR2btKtsnB1"
   },
   "source": [
    "## Loading Reviews Dataset"
   ]
  },
  {
   "cell_type": "code",
   "execution_count": 7,
   "metadata": {
    "id": "KeuOcckg_SFJ"
   },
   "outputs": [],
   "source": [
    "reviews =  spark.read.json(\"yelp_academic_dataset_review.json\")"
   ]
  },
  {
   "cell_type": "markdown",
   "metadata": {
    "id": "69wmLOvjs2Uw"
   },
   "source": [
    "## Loading Users Dataset"
   ]
  },
  {
   "cell_type": "code",
   "execution_count": 8,
   "metadata": {
    "id": "6ZRYHNJrs4s5"
   },
   "outputs": [],
   "source": [
    "users =  spark.read.json(\"yelp_academic_dataset_user.json\")"
   ]
  },
  {
   "cell_type": "markdown",
   "metadata": {
    "id": "MLsUBppttkFM"
   },
   "source": [
    "# Data Cleaning"
   ]
  },
  {
   "cell_type": "markdown",
   "metadata": {
    "id": "fT1u9b6JtmXJ"
   },
   "source": [
    "## Cleaning Businesses Dataset"
   ]
  },
  {
   "cell_type": "markdown",
   "metadata": {
    "id": "Q8IHAat6tvwK"
   },
   "source": [
    "**Renaming and Dropping Columns**"
   ]
  },
  {
   "cell_type": "code",
   "execution_count": 9,
   "metadata": {
    "id": "kS3KXzgE_R_4"
   },
   "outputs": [],
   "source": [
    "#change name for starts to avoid duplicates\n",
    "businesses=businesses.withColumnRenamed(\"stars\", \"Restaurant_stars\")\n",
    "businesses=businesses.withColumnRenamed(\"name\", \"Restaurant_name\")\n",
    "businesses=businesses.filter(F.col('categories').rlike('Restaurants'))\n",
    "businesses = businesses.select('*','attributes.*','hours.*')\n",
    "columns_to_drop = ['address','postal_code','review_count','attributes','hours']\n",
    "businesses = businesses.drop(*columns_to_drop)"
   ]
  },
  {
   "cell_type": "markdown",
   "metadata": {
    "id": "5Z2q01iktzc1"
   },
   "source": [
    "**Renaming and Filtering Columns**"
   ]
  },
  {
   "cell_type": "code",
   "execution_count": 10,
   "metadata": {
    "id": "9NyRV5pP_SCk"
   },
   "outputs": [],
   "source": [
    "businesses = businesses.withColumn('categories', F.regexp_replace(F.col(\"categories\"), \"(,?\\ ?Restaurants,?)\", \"\"))\n",
    "businesses = businesses.withColumn('categories', F.regexp_replace(F.col(\"categories\"), \"( ?)\", \"\"))\n",
    "businesses = businesses.filter(F.col(\"is_open\").contains(\"1\"))"
   ]
  },
  {
   "cell_type": "code",
   "execution_count": 11,
   "metadata": {
    "id": "2891RtFgAZPs"
   },
   "outputs": [],
   "source": [
    "businesses = businesses.filter(F.col('state')=='PA')"
   ]
  },
  {
   "cell_type": "markdown",
   "metadata": {
    "id": "xSb0KlQrt45W"
   },
   "source": [
    "## Cleaning Reviews Dataset"
   ]
  },
  {
   "cell_type": "markdown",
   "metadata": {
    "id": "TpeQzR1Kt_KF"
   },
   "source": [
    "**Dropping Unrequired Columns**"
   ]
  },
  {
   "cell_type": "code",
   "execution_count": 12,
   "metadata": {
    "id": "JsnqoYLB_SHy"
   },
   "outputs": [],
   "source": [
    "columns_to_drop = ['cool','funny','average_stars']\n",
    "reviews = reviews.drop(*columns_to_drop)"
   ]
  },
  {
   "cell_type": "markdown",
   "metadata": {
    "id": "BWQriU5AuD5W"
   },
   "source": [
    "## Cleaning Users Dataset"
   ]
  },
  {
   "cell_type": "markdown",
   "metadata": {
    "id": "DWr7qjCRuDyq"
   },
   "source": [
    "**Dropping and renaming columns**"
   ]
  },
  {
   "cell_type": "code",
   "execution_count": 13,
   "metadata": {
    "id": "k9Ri2kQA_SJ6"
   },
   "outputs": [],
   "source": [
    "columns_to_drop = ['elite','useful','yelping_since','review_count','average_stars']\n",
    "users = users.drop(*columns_to_drop)\n",
    "users=users.withColumnRenamed(\"name\", \"user_name\")"
   ]
  },
  {
   "cell_type": "markdown",
   "metadata": {
    "id": "rilKafgxFQ-V"
   },
   "source": [
    "# Data Transformation and Merging"
   ]
  },
  {
   "cell_type": "markdown",
   "metadata": {
    "id": "TT2mKf8LAvrb"
   },
   "source": [
    "Converting Ids(uuid/hex) to int"
   ]
  },
  {
   "cell_type": "code",
   "execution_count": 14,
   "metadata": {
    "id": "bdImKvezAq1-"
   },
   "outputs": [],
   "source": [
    "w = Window().orderBy('business_id')\n",
    "businesses= businesses.withColumn(\"business_id_int\", F.row_number().over(w))\n",
    "w = Window().orderBy('user_id')\n",
    "users= users.withColumn(\"user_id_int\", F.row_number().over(w))"
   ]
  },
  {
   "cell_type": "code",
   "execution_count": 15,
   "metadata": {
    "id": "Tpz5fxDbAqzH"
   },
   "outputs": [],
   "source": [
    "#joining three tables into one table in case need for future\n",
    "df = reviews.join(businesses,on ='business_id', how = 'inner')\n",
    "df = df.join(users,on ='user_id', how = 'inner')"
   ]
  },
  {
   "cell_type": "code",
   "execution_count": 16,
   "metadata": {
    "colab": {
     "base_uri": "https://localhost:8080/"
    },
    "id": "SPG6xHw1BLjj",
    "outputId": "d9f5fad4-a126-4a0b-b32e-e8846934e802"
   },
   "outputs": [
    {
     "name": "stdout",
     "output_type": "stream",
     "text": [
      "+--------------------+--------------------+-------------------+--------------------+-----+--------------------+------+--------------------+------------+-------+-------------+--------------+--------------------+----------------+-----+----------------+-----------+-----------+--------------------+----+-----------+--------------------+-----------+----------------------+--------------------------+--------------------+-----------------+------+---------+-------+-------------------+-----------+---------+--------------+-----------+--------------------+-----------------+---------+-----+--------------------+----------+-----------+--------------+-----------------+-------------------------+-------------------+------------------------+----------------------+-----------------------+-----------------------+------------------+-------+--------------------+-------+----------+-------+----------+---------+----------+----------+----------+---------------+---------------+---------------+----------------+--------------+---------------+---------------+---------------+-----------------+----------------+------------------+-----------------+----+----+-------+-----+---------+-----------+\n",
      "|             user_id|         business_id|               date|           review_id|stars|                text|useful|          categories|        city|is_open|     latitude|     longitude|     Restaurant_name|Restaurant_stars|state|AcceptsInsurance|AgesAllowed|    Alcohol|            Ambience|BYOB|BYOBCorkage|          BestNights|BikeParking|BusinessAcceptsBitcoin|BusinessAcceptsCreditCards|     BusinessParking|ByAppointmentOnly|Caters|CoatCheck|Corkage|DietaryRestrictions|DogsAllowed|DriveThru|GoodForDancing|GoodForKids|         GoodForMeal|HairSpecializesIn|HappyHour|HasTV|               Music|NoiseLevel|Open24Hours|OutdoorSeating|RestaurantsAttire|RestaurantsCounterService|RestaurantsDelivery|RestaurantsGoodForGroups|RestaurantsPriceRange2|RestaurantsReservations|RestaurantsTableService|RestaurantsTakeOut|Smoking|WheelchairAccessible|   WiFi|    Friday| Monday|  Saturday|   Sunday|  Thursday|   Tuesday| Wednesday|business_id_int|compliment_cool|compliment_cute|compliment_funny|compliment_hot|compliment_list|compliment_more|compliment_note|compliment_photos|compliment_plain|compliment_profile|compliment_writer|cool|fans|friends|funny|user_name|user_id_int|\n",
      "+--------------------+--------------------+-------------------+--------------------+-----+--------------------+------+--------------------+------------+-------+-------------+--------------+--------------------+----------------+-----+----------------+-----------+-----------+--------------------+----+-----------+--------------------+-----------+----------------------+--------------------------+--------------------+-----------------+------+---------+-------+-------------------+-----------+---------+--------------+-----------+--------------------+-----------------+---------+-----+--------------------+----------+-----------+--------------+-----------------+-------------------------+-------------------+------------------------+----------------------+-----------------------+-----------------------+------------------+-------+--------------------+-------+----------+-------+----------+---------+----------+----------+----------+---------------+---------------+---------------+----------------+--------------+---------------+---------------+---------------+-----------------+----------------+------------------+-----------------+----+----+-------+-----+---------+-----------+\n",
      "|--UhENQdbuWEh0mU5...|K_s-9Wd6vXSfnxYFz...|2017-08-06 02:42:02|dghJt1TSuyFkmLddu...|  5.0|When im first arr...|     0|           SushiBars|Philadelphia|      1|    39.944413|   -75.1707392|Kei Sushi Restaurant|             4.5|   PA|            null|       null|    u'none'|{'touristy': Fals...|True|       null|                null|      False|                 False|                      True|{'garage': False,...|             null|  True|     null|   null|               null|      False|     null|          null|      False|{'dessert': None,...|             null|     null|False|                null| 'average'|       null|         False|        u'casual'|                     null|              False|                    True|                     2|                   True|                   True|              True|   null|                True|  u'no'|11:30-22:0|0:0-0:0|11:30-22:0|16:0-21:0|11:30-21:0|11:30-21:0|11:30-21:0|           2730|              0|              0|               0|             0|              0|              0|              0|                0|               0|                 0|                0|   1|   0|   None|    1|    Sonny|        217|\n",
      "|--cjT1ICjm_ajiwSK...|G9LZoNlCfRH941q87...|2017-08-05 13:41:10|2nDLXAISthMftjVgB...|  5.0|This place was so...|     0|Tex-MexFood,Night...|Philadelphia|      1|39.9502217062|-75.1665529981|    Mission Taqueria|             4.0|   PA|            null|       null|u'full_bar'|{u'divey': False,...|null|       null|                null|       True|                  null|                      True|{'garage': False,...|             null| False|     null|   null|               null|      False|     None|          null|       True|{'dessert': None,...|             null|     True| True|                null|   u'loud'|       null|          True|        u'casual'|                     null|               True|                    True|                     2|                  False|                   True|              True|   null|               False|u'free'| 11:0-23:0|0:0-0:0| 11:0-23:0|     null| 11:0-22:0| 11:0-22:0| 11:0-22:0|           2185|              0|              0|               0|             0|              0|              0|              0|                0|               0|                 0|                0|   1|   0|   None|    2|   Shayla|        302|\n",
      "|--cjT1ICjm_ajiwSK...|9PZxjhTIU7OgPIzuG...|2017-08-05 13:34:35|FN8qUbNlb9ulfoGtn...|  4.0|The decor in this...|     0|Lounges,Bars,Nigh...|Philadelphia|      1|39.9497020026|-75.1617702842|              El Vez|             4.0|   PA|            null|       null| 'full_bar'|{'touristy': Fals...|null|       'no'|                null|       True|                  null|                      True|{'garage': False,...|             null| False|     True|  False|               null|      False|     None|          null|       True|{'dessert': False...|             null|     True|False|                null|   u'loud'|       null|          True|         'casual'|                     null|               True|                    True|                     2|                   True|                   True|              True|   null|                null|  u'no'| 16:0-0:30|0:0-0:0| 16:0-22:0|12:0-22:0| 12:0-22:0| 12:0-22:0| 12:0-22:0|           1318|              0|              0|               0|             0|              0|              0|              0|                0|               0|                 0|                0|   1|   0|   None|    2|   Shayla|        302|\n",
      "|-2G_a0eur5RTmI-vc...|Cj4SH7N9HKtPhG_wp...|2018-12-22 23:22:38|L9KxbORVgQkTSfqDz...|  5.0|Best restaurant i...|     1|Bars,NightlifeAme...|  Warrington|      1|   40.2638126|   -75.1305032|          TJ Smith's|             3.0|   PA|            null|       null|u'full_bar'|{'touristy': Fals...|null|       null|{'monday': True, ...|      False|                 False|                      True|{'garage': False,...|             null| False|     null|   null|               null|       null|     null|         False|       True|{u'breakfast': Fa...|             null|     null| True|{'dj': False, 'ba...|u'average'|       null|          True|        u'casual'|                     null|               True|                    True|                     2|                  False|                   null|              True|   null|                null|u'free'| 11:0-23:0|0:0-0:0| 11:0-23:0|12:0-22:0| 11:0-22:0| 11:0-22:0| 11:0-22:0|           1769|              0|              0|               0|             0|              0|              0|              0|                0|               0|                 0|                0|   0|   0|   None|    1|    Kelly|       1632|\n",
      "|-2IwE8_2pTsIKlEjE...|T6fI_rbI6iq_k9uIl...|2018-07-29 22:46:36|ee2cqOC8Am1QbLNPV...|  5.0|Great place, flav...|     0|        TacosMexican|  Royersford|      1|    40.224723|    -75.513763|Frida's Mexican Food|             4.5|   PA|            null|       null|    u'none'|{u'divey': False,...|True|       null|                null|      False|                 False|                      True|{'garage': False,...|             null|  True|     null|  False|               null|      False|     null|          null|       True|{'dessert': None,...|             null|     True|False|                null|   'quiet'|       null|         False|        u'casual'|                     null|               True|                    True|                     2|                  False|                   True|              True|   null|                True|u'free'| 10:0-21:0|0:0-0:0| 10:0-21:0|10:0-20:0| 11:0-21:0| 11:0-21:0| 11:0-21:0|           3765|              0|              0|               0|             0|              0|              0|              0|                0|               0|                 0|                0|   0|   0|   None|    0|     Juan|       1648|\n",
      "+--------------------+--------------------+-------------------+--------------------+-----+--------------------+------+--------------------+------------+-------+-------------+--------------+--------------------+----------------+-----+----------------+-----------+-----------+--------------------+----+-----------+--------------------+-----------+----------------------+--------------------------+--------------------+-----------------+------+---------+-------+-------------------+-----------+---------+--------------+-----------+--------------------+-----------------+---------+-----+--------------------+----------+-----------+--------------+-----------------+-------------------------+-------------------+------------------------+----------------------+-----------------------+-----------------------+------------------+-------+--------------------+-------+----------+-------+----------+---------+----------+----------+----------+---------------+---------------+---------------+----------------+--------------+---------------+---------------+---------------+-----------------+----------------+------------------+-----------------+----+----+-------+-----+---------+-----------+\n",
      "only showing top 5 rows\n",
      "\n"
     ]
    }
   ],
   "source": [
    "# df.show(5) # Takes too much time to execute, so commenting it for now"
   ]
  },
  {
   "cell_type": "markdown",
   "metadata": {
    "id": "lbt2X_8eDWBe"
   },
   "source": [
    "# **ASL Model**"
   ]
  },
  {
   "cell_type": "code",
   "execution_count": 17,
   "metadata": {
    "id": "0p1zI1hpDVC_"
   },
   "outputs": [],
   "source": [
    "# Importing ALS Library\n",
    "from pyspark.ml.recommendation import ALS"
   ]
  },
  {
   "cell_type": "markdown",
   "metadata": {
    "id": "i8weHquku7S6"
   },
   "source": [
    "**Selecting Required Columns**"
   ]
  },
  {
   "cell_type": "code",
   "execution_count": 18,
   "metadata": {
    "id": "JLzhVAAdCfir"
   },
   "outputs": [],
   "source": [
    "ratings = df.select('user_id_int','business_id_int','Restaurant_name','user_name','stars')"
   ]
  },
  {
   "cell_type": "code",
   "execution_count": 19,
   "metadata": {
    "id": "O0CYVsAJEWYQ"
   },
   "outputs": [],
   "source": [
    "train_df, test_df = ratings.randomSplit([.8,.2],seed=1)\n",
    "als = ALS(maxIter=10, regParam=0.3, userCol=\"user_id_int\", itemCol=\"business_id_int\", ratingCol=\"stars\",\n",
    "          coldStartStrategy=\"drop\", rank=10, nonnegative = True)"
   ]
  },
  {
   "cell_type": "code",
   "execution_count": 51,
   "metadata": {
    "id": "wO2Oag7REdm-"
   },
   "outputs": [],
   "source": [
    "model = als.fit(df)\n",
    "predictions = model.transform(df)"
   ]
  },
  {
   "cell_type": "code",
   "execution_count": 21,
   "metadata": {
    "colab": {
     "base_uri": "https://localhost:8080/"
    },
    "id": "9zlUfR7CE3Dk",
    "outputId": "e901c1c4-8a11-4547-c2da-b4952df3c347"
   },
   "outputs": [
    {
     "name": "stdout",
     "output_type": "stream",
     "text": [
      "+-----------+---------------+--------------------+---------+-----+----------+\n",
      "|user_id_int|business_id_int|     Restaurant_name|user_name|stars|prediction|\n",
      "+-----------+---------------+--------------------+---------+-----+----------+\n",
      "|         44|           1070|Dragon & Phoenix ...|     Bert|  4.0|  3.567086|\n",
      "|         44|           7572|     JJ Thai Cuisine|     Bert|  5.0| 4.3269286|\n",
      "|         44|           7639|        Vetri Cucina|     Bert|  4.0|  4.421284|\n",
      "|         44|           7680|            El Limon|     Bert|  5.0|  4.299594|\n",
      "|        127|           1378|The Farm and Fish...|  Michael|  1.0|0.97495496|\n",
      "+-----------+---------------+--------------------+---------+-----+----------+\n",
      "only showing top 5 rows\n",
      "\n"
     ]
    }
   ],
   "source": [
    "predictions.show(5)"
   ]
  },
  {
   "cell_type": "code",
   "execution_count": 22,
   "metadata": {
    "colab": {
     "base_uri": "https://localhost:8080/"
    },
    "id": "HEZDEOzUzJE0",
    "outputId": "c15cfc24-0122-44d7-df26-f1c1293d59c3"
   },
   "outputs": [
    {
     "name": "stdout",
     "output_type": "stream",
     "text": [
      "Root-mean-square error = 1.3014098322040726\n"
     ]
    }
   ],
   "source": [
    "evaluator = RegressionEvaluator(metricName='rmse', labelCol='stars')\n",
    "rmse = evaluator.evaluate(predictions)\n",
    "print(\"Root-mean-square error = \" + str(rmse))"
   ]
  },
  {
   "cell_type": "code",
   "execution_count": 53,
   "metadata": {
    "id": "yeO0DP0rEWVj"
   },
   "outputs": [],
   "source": [
    "userRecs = model.recommendForAllUsers(3)"
   ]
  },
  {
   "cell_type": "code",
   "execution_count": 24,
   "metadata": {
    "colab": {
     "base_uri": "https://localhost:8080/"
    },
    "id": "1h2xXYcZGUX3",
    "outputId": "c1d7009d-8bc8-4afd-e293-54ee7a2a8f56"
   },
   "outputs": [
    {
     "name": "stdout",
     "output_type": "stream",
     "text": [
      "+-----------+--------------------+\n",
      "|user_id_int|     recommendations|\n",
      "+-----------+--------------------+\n",
      "|          5|[{643, 3.7245593}...|\n",
      "|         19|[{554, 2.2800214}...|\n",
      "|         31|[{554, 4.4678254}...|\n",
      "|         41|[{3671, 1.139868}...|\n",
      "|         44|[{554, 5.274683},...|\n",
      "+-----------+--------------------+\n",
      "only showing top 5 rows\n",
      "\n"
     ]
    }
   ],
   "source": [
    "userRecs.show(5)"
   ]
  },
  {
   "cell_type": "code",
   "execution_count": 55,
   "metadata": {
    "id": "zNE9YBUrEWOG"
   },
   "outputs": [],
   "source": [
    "userRecs_DF = (userRecs\n",
    "  .select(\"user_id_int\", F.explode(\"recommendations\")\n",
    "  .alias(\"recommendation\"))\n",
    "  .select(\"user_id_int\", \"recommendation.*\")\n",
    ")\n",
    "userRecs_DF2 = userRecs_DF.join(users.select('user_id_int','user_name'), on='user_id_int', how ='inner').join(businesses.select('business_id_int','Restaurant_name'), on='business_id_int', how ='inner')\n",
    "userRecs_DF2_pd = userRecs_DF2.toPandas()"
   ]
  },
  {
   "cell_type": "code",
   "execution_count": 26,
   "metadata": {
    "colab": {
     "base_uri": "https://localhost:8080/",
     "height": 676
    },
    "id": "LSV98QJbEWQu",
    "outputId": "bcbc9ff4-bfd8-410a-c4c0-9737215b86e3"
   },
   "outputs": [
    {
     "data": {
      "text/html": [
       "\n",
       "  <div id=\"df-922446d7-837f-4c94-bc87-9cc0539dcc38\">\n",
       "    <div class=\"colab-df-container\">\n",
       "      <div>\n",
       "<style scoped>\n",
       "    .dataframe tbody tr th:only-of-type {\n",
       "        vertical-align: middle;\n",
       "    }\n",
       "\n",
       "    .dataframe tbody tr th {\n",
       "        vertical-align: top;\n",
       "    }\n",
       "\n",
       "    .dataframe thead th {\n",
       "        text-align: right;\n",
       "    }\n",
       "</style>\n",
       "<table border=\"1\" class=\"dataframe\">\n",
       "  <thead>\n",
       "    <tr style=\"text-align: right;\">\n",
       "      <th></th>\n",
       "      <th>business_id_int</th>\n",
       "      <th>user_id_int</th>\n",
       "      <th>rating</th>\n",
       "      <th>user_name</th>\n",
       "      <th>Restaurant_name</th>\n",
       "    </tr>\n",
       "  </thead>\n",
       "  <tbody>\n",
       "    <tr>\n",
       "      <th>17</th>\n",
       "      <td>554</td>\n",
       "      <td>48</td>\n",
       "      <td>5.577898</td>\n",
       "      <td>Amber</td>\n",
       "      <td>Frog Commissary</td>\n",
       "    </tr>\n",
       "    <tr>\n",
       "      <th>16</th>\n",
       "      <td>1912</td>\n",
       "      <td>48</td>\n",
       "      <td>5.396627</td>\n",
       "      <td>Amber</td>\n",
       "      <td>Sunny Chang's Pizza &amp; More</td>\n",
       "    </tr>\n",
       "    <tr>\n",
       "      <th>15</th>\n",
       "      <td>3671</td>\n",
       "      <td>48</td>\n",
       "      <td>5.381920</td>\n",
       "      <td>Amber</td>\n",
       "      <td>The Chilly Banana</td>\n",
       "    </tr>\n",
       "    <tr>\n",
       "      <th>5</th>\n",
       "      <td>554</td>\n",
       "      <td>19</td>\n",
       "      <td>2.280021</td>\n",
       "      <td>Andrew</td>\n",
       "      <td>Frog Commissary</td>\n",
       "    </tr>\n",
       "    <tr>\n",
       "      <th>4</th>\n",
       "      <td>4859</td>\n",
       "      <td>19</td>\n",
       "      <td>2.212214</td>\n",
       "      <td>Andrew</td>\n",
       "      <td>Chef Jeff’s Hot Meals To-Go</td>\n",
       "    </tr>\n",
       "    <tr>\n",
       "      <th>3</th>\n",
       "      <td>6083</td>\n",
       "      <td>19</td>\n",
       "      <td>2.191591</td>\n",
       "      <td>Andrew</td>\n",
       "      <td>Cherish Philly</td>\n",
       "    </tr>\n",
       "    <tr>\n",
       "      <th>8</th>\n",
       "      <td>554</td>\n",
       "      <td>31</td>\n",
       "      <td>4.467825</td>\n",
       "      <td>Anthony</td>\n",
       "      <td>Frog Commissary</td>\n",
       "    </tr>\n",
       "    <tr>\n",
       "      <th>7</th>\n",
       "      <td>610</td>\n",
       "      <td>31</td>\n",
       "      <td>4.245423</td>\n",
       "      <td>Anthony</td>\n",
       "      <td>Academic Bistro</td>\n",
       "    </tr>\n",
       "    <tr>\n",
       "      <th>6</th>\n",
       "      <td>3068</td>\n",
       "      <td>31</td>\n",
       "      <td>4.216107</td>\n",
       "      <td>Anthony</td>\n",
       "      <td>Umi Sushi And Seafood</td>\n",
       "    </tr>\n",
       "    <tr>\n",
       "      <th>14</th>\n",
       "      <td>554</td>\n",
       "      <td>44</td>\n",
       "      <td>5.274683</td>\n",
       "      <td>Bert</td>\n",
       "      <td>Frog Commissary</td>\n",
       "    </tr>\n",
       "    <tr>\n",
       "      <th>13</th>\n",
       "      <td>610</td>\n",
       "      <td>44</td>\n",
       "      <td>4.991056</td>\n",
       "      <td>Bert</td>\n",
       "      <td>Academic Bistro</td>\n",
       "    </tr>\n",
       "    <tr>\n",
       "      <th>12</th>\n",
       "      <td>3888</td>\n",
       "      <td>44</td>\n",
       "      <td>4.984607</td>\n",
       "      <td>Bert</td>\n",
       "      <td>Maat Zip</td>\n",
       "    </tr>\n",
       "    <tr>\n",
       "      <th>2</th>\n",
       "      <td>643</td>\n",
       "      <td>5</td>\n",
       "      <td>3.724559</td>\n",
       "      <td>Brian</td>\n",
       "      <td>Akiko Sushi</td>\n",
       "    </tr>\n",
       "    <tr>\n",
       "      <th>1</th>\n",
       "      <td>1912</td>\n",
       "      <td>5</td>\n",
       "      <td>3.657573</td>\n",
       "      <td>Brian</td>\n",
       "      <td>Sunny Chang's Pizza &amp; More</td>\n",
       "    </tr>\n",
       "    <tr>\n",
       "      <th>0</th>\n",
       "      <td>3800</td>\n",
       "      <td>5</td>\n",
       "      <td>3.537057</td>\n",
       "      <td>Brian</td>\n",
       "      <td>Hong Kong Garden</td>\n",
       "    </tr>\n",
       "    <tr>\n",
       "      <th>23</th>\n",
       "      <td>554</td>\n",
       "      <td>101</td>\n",
       "      <td>2.267021</td>\n",
       "      <td>Mattthew</td>\n",
       "      <td>Frog Commissary</td>\n",
       "    </tr>\n",
       "    <tr>\n",
       "      <th>22</th>\n",
       "      <td>4859</td>\n",
       "      <td>101</td>\n",
       "      <td>2.217390</td>\n",
       "      <td>Mattthew</td>\n",
       "      <td>Chef Jeff’s Hot Meals To-Go</td>\n",
       "    </tr>\n",
       "    <tr>\n",
       "      <th>21</th>\n",
       "      <td>8018</td>\n",
       "      <td>101</td>\n",
       "      <td>2.197032</td>\n",
       "      <td>Mattthew</td>\n",
       "      <td>Dew's Deli</td>\n",
       "    </tr>\n",
       "    <tr>\n",
       "      <th>26</th>\n",
       "      <td>554</td>\n",
       "      <td>111</td>\n",
       "      <td>5.495425</td>\n",
       "      <td>Mike</td>\n",
       "      <td>Frog Commissary</td>\n",
       "    </tr>\n",
       "    <tr>\n",
       "      <th>25</th>\n",
       "      <td>6755</td>\n",
       "      <td>111</td>\n",
       "      <td>5.408771</td>\n",
       "      <td>Mike</td>\n",
       "      <td>Yogorino</td>\n",
       "    </tr>\n",
       "  </tbody>\n",
       "</table>\n",
       "</div>\n",
       "      <button class=\"colab-df-convert\" onclick=\"convertToInteractive('df-922446d7-837f-4c94-bc87-9cc0539dcc38')\"\n",
       "              title=\"Convert this dataframe to an interactive table.\"\n",
       "              style=\"display:none;\">\n",
       "        \n",
       "  <svg xmlns=\"http://www.w3.org/2000/svg\" height=\"24px\"viewBox=\"0 0 24 24\"\n",
       "       width=\"24px\">\n",
       "    <path d=\"M0 0h24v24H0V0z\" fill=\"none\"/>\n",
       "    <path d=\"M18.56 5.44l.94 2.06.94-2.06 2.06-.94-2.06-.94-.94-2.06-.94 2.06-2.06.94zm-11 1L8.5 8.5l.94-2.06 2.06-.94-2.06-.94L8.5 2.5l-.94 2.06-2.06.94zm10 10l.94 2.06.94-2.06 2.06-.94-2.06-.94-.94-2.06-.94 2.06-2.06.94z\"/><path d=\"M17.41 7.96l-1.37-1.37c-.4-.4-.92-.59-1.43-.59-.52 0-1.04.2-1.43.59L10.3 9.45l-7.72 7.72c-.78.78-.78 2.05 0 2.83L4 21.41c.39.39.9.59 1.41.59.51 0 1.02-.2 1.41-.59l7.78-7.78 2.81-2.81c.8-.78.8-2.07 0-2.86zM5.41 20L4 18.59l7.72-7.72 1.47 1.35L5.41 20z\"/>\n",
       "  </svg>\n",
       "      </button>\n",
       "      \n",
       "  <style>\n",
       "    .colab-df-container {\n",
       "      display:flex;\n",
       "      flex-wrap:wrap;\n",
       "      gap: 12px;\n",
       "    }\n",
       "\n",
       "    .colab-df-convert {\n",
       "      background-color: #E8F0FE;\n",
       "      border: none;\n",
       "      border-radius: 50%;\n",
       "      cursor: pointer;\n",
       "      display: none;\n",
       "      fill: #1967D2;\n",
       "      height: 32px;\n",
       "      padding: 0 0 0 0;\n",
       "      width: 32px;\n",
       "    }\n",
       "\n",
       "    .colab-df-convert:hover {\n",
       "      background-color: #E2EBFA;\n",
       "      box-shadow: 0px 1px 2px rgba(60, 64, 67, 0.3), 0px 1px 3px 1px rgba(60, 64, 67, 0.15);\n",
       "      fill: #174EA6;\n",
       "    }\n",
       "\n",
       "    [theme=dark] .colab-df-convert {\n",
       "      background-color: #3B4455;\n",
       "      fill: #D2E3FC;\n",
       "    }\n",
       "\n",
       "    [theme=dark] .colab-df-convert:hover {\n",
       "      background-color: #434B5C;\n",
       "      box-shadow: 0px 1px 3px 1px rgba(0, 0, 0, 0.15);\n",
       "      filter: drop-shadow(0px 1px 2px rgba(0, 0, 0, 0.3));\n",
       "      fill: #FFFFFF;\n",
       "    }\n",
       "  </style>\n",
       "\n",
       "      <script>\n",
       "        const buttonEl =\n",
       "          document.querySelector('#df-922446d7-837f-4c94-bc87-9cc0539dcc38 button.colab-df-convert');\n",
       "        buttonEl.style.display =\n",
       "          google.colab.kernel.accessAllowed ? 'block' : 'none';\n",
       "\n",
       "        async function convertToInteractive(key) {\n",
       "          const element = document.querySelector('#df-922446d7-837f-4c94-bc87-9cc0539dcc38');\n",
       "          const dataTable =\n",
       "            await google.colab.kernel.invokeFunction('convertToInteractive',\n",
       "                                                     [key], {});\n",
       "          if (!dataTable) return;\n",
       "\n",
       "          const docLinkHtml = 'Like what you see? Visit the ' +\n",
       "            '<a target=\"_blank\" href=https://colab.research.google.com/notebooks/data_table.ipynb>data table notebook</a>'\n",
       "            + ' to learn more about interactive tables.';\n",
       "          element.innerHTML = '';\n",
       "          dataTable['output_type'] = 'display_data';\n",
       "          await google.colab.output.renderOutput(dataTable, element);\n",
       "          const docLink = document.createElement('div');\n",
       "          docLink.innerHTML = docLinkHtml;\n",
       "          element.appendChild(docLink);\n",
       "        }\n",
       "      </script>\n",
       "    </div>\n",
       "  </div>\n",
       "  "
      ],
      "text/plain": [
       "    business_id_int  user_id_int    rating user_name  \\\n",
       "17              554           48  5.577898     Amber   \n",
       "16             1912           48  5.396627     Amber   \n",
       "15             3671           48  5.381920     Amber   \n",
       "5               554           19  2.280021    Andrew   \n",
       "4              4859           19  2.212214    Andrew   \n",
       "3              6083           19  2.191591    Andrew   \n",
       "8               554           31  4.467825   Anthony   \n",
       "7               610           31  4.245423   Anthony   \n",
       "6              3068           31  4.216107   Anthony   \n",
       "14              554           44  5.274683      Bert   \n",
       "13              610           44  4.991056      Bert   \n",
       "12             3888           44  4.984607      Bert   \n",
       "2               643            5  3.724559     Brian   \n",
       "1              1912            5  3.657573     Brian   \n",
       "0              3800            5  3.537057     Brian   \n",
       "23              554          101  2.267021  Mattthew   \n",
       "22             4859          101  2.217390  Mattthew   \n",
       "21             8018          101  2.197032  Mattthew   \n",
       "26              554          111  5.495425      Mike   \n",
       "25             6755          111  5.408771      Mike   \n",
       "\n",
       "                Restaurant_name  \n",
       "17              Frog Commissary  \n",
       "16   Sunny Chang's Pizza & More  \n",
       "15            The Chilly Banana  \n",
       "5               Frog Commissary  \n",
       "4   Chef Jeff’s Hot Meals To-Go  \n",
       "3                Cherish Philly  \n",
       "8               Frog Commissary  \n",
       "7               Academic Bistro  \n",
       "6         Umi Sushi And Seafood  \n",
       "14              Frog Commissary  \n",
       "13              Academic Bistro  \n",
       "12                     Maat Zip  \n",
       "2                   Akiko Sushi  \n",
       "1    Sunny Chang's Pizza & More  \n",
       "0              Hong Kong Garden  \n",
       "23              Frog Commissary  \n",
       "22  Chef Jeff’s Hot Meals To-Go  \n",
       "21                   Dew's Deli  \n",
       "26              Frog Commissary  \n",
       "25                     Yogorino  "
      ]
     },
     "execution_count": 26,
     "metadata": {},
     "output_type": "execute_result"
    }
   ],
   "source": [
    "userRecs_DF2_pd.sort_values(['user_name','rating'],ascending=[True,False]).head(20)"
   ]
  },
  {
   "cell_type": "code",
   "execution_count": 42,
   "metadata": {
    "id": "-Bsakr89v5Nd"
   },
   "outputs": [],
   "source": [
    "def get_business_id(user_id):\n",
    "    result = df.filter(df.user_id == user_id).select(\"user_id_int\").collect()\n",
    "    if result:\n",
    "        return result[0].user_id_int\n",
    "    else:\n",
    "        return None"
   ]
  },
  {
   "cell_type": "markdown",
   "metadata": {
    "id": "XKOcn27YwT7q"
   },
   "source": [
    "# Recommendations for Desirae"
   ]
  },
  {
   "cell_type": "code",
   "execution_count": 57,
   "metadata": {
    "colab": {
     "base_uri": "https://localhost:8080/",
     "height": 143
    },
    "id": "RlSZcf1cFg8p",
    "outputId": "0cfd0042-0a9c-4e32-a7ac-cb5f87401697"
   },
   "outputs": [
    {
     "data": {
      "text/html": [
       "\n",
       "  <div id=\"df-add78fdc-1322-4ef7-a3fb-9b4030ede4ce\">\n",
       "    <div class=\"colab-df-container\">\n",
       "      <div>\n",
       "<style scoped>\n",
       "    .dataframe tbody tr th:only-of-type {\n",
       "        vertical-align: middle;\n",
       "    }\n",
       "\n",
       "    .dataframe tbody tr th {\n",
       "        vertical-align: top;\n",
       "    }\n",
       "\n",
       "    .dataframe thead th {\n",
       "        text-align: right;\n",
       "    }\n",
       "</style>\n",
       "<table border=\"1\" class=\"dataframe\">\n",
       "  <thead>\n",
       "    <tr style=\"text-align: right;\">\n",
       "      <th></th>\n",
       "      <th>user_name</th>\n",
       "      <th>Restaurant_name</th>\n",
       "      <th>rating</th>\n",
       "    </tr>\n",
       "  </thead>\n",
       "  <tbody>\n",
       "    <tr>\n",
       "      <th>46803</th>\n",
       "      <td>Desirae</td>\n",
       "      <td>Steel Penny Cafe</td>\n",
       "      <td>5.619937</td>\n",
       "    </tr>\n",
       "    <tr>\n",
       "      <th>46804</th>\n",
       "      <td>Desirae</td>\n",
       "      <td>Otolith Sustainable Seafood</td>\n",
       "      <td>5.552305</td>\n",
       "    </tr>\n",
       "    <tr>\n",
       "      <th>46805</th>\n",
       "      <td>Desirae</td>\n",
       "      <td>The Chilly Banana</td>\n",
       "      <td>5.521576</td>\n",
       "    </tr>\n",
       "  </tbody>\n",
       "</table>\n",
       "</div>\n",
       "      <button class=\"colab-df-convert\" onclick=\"convertToInteractive('df-add78fdc-1322-4ef7-a3fb-9b4030ede4ce')\"\n",
       "              title=\"Convert this dataframe to an interactive table.\"\n",
       "              style=\"display:none;\">\n",
       "        \n",
       "  <svg xmlns=\"http://www.w3.org/2000/svg\" height=\"24px\"viewBox=\"0 0 24 24\"\n",
       "       width=\"24px\">\n",
       "    <path d=\"M0 0h24v24H0V0z\" fill=\"none\"/>\n",
       "    <path d=\"M18.56 5.44l.94 2.06.94-2.06 2.06-.94-2.06-.94-.94-2.06-.94 2.06-2.06.94zm-11 1L8.5 8.5l.94-2.06 2.06-.94-2.06-.94L8.5 2.5l-.94 2.06-2.06.94zm10 10l.94 2.06.94-2.06 2.06-.94-2.06-.94-.94-2.06-.94 2.06-2.06.94z\"/><path d=\"M17.41 7.96l-1.37-1.37c-.4-.4-.92-.59-1.43-.59-.52 0-1.04.2-1.43.59L10.3 9.45l-7.72 7.72c-.78.78-.78 2.05 0 2.83L4 21.41c.39.39.9.59 1.41.59.51 0 1.02-.2 1.41-.59l7.78-7.78 2.81-2.81c.8-.78.8-2.07 0-2.86zM5.41 20L4 18.59l7.72-7.72 1.47 1.35L5.41 20z\"/>\n",
       "  </svg>\n",
       "      </button>\n",
       "      \n",
       "  <style>\n",
       "    .colab-df-container {\n",
       "      display:flex;\n",
       "      flex-wrap:wrap;\n",
       "      gap: 12px;\n",
       "    }\n",
       "\n",
       "    .colab-df-convert {\n",
       "      background-color: #E8F0FE;\n",
       "      border: none;\n",
       "      border-radius: 50%;\n",
       "      cursor: pointer;\n",
       "      display: none;\n",
       "      fill: #1967D2;\n",
       "      height: 32px;\n",
       "      padding: 0 0 0 0;\n",
       "      width: 32px;\n",
       "    }\n",
       "\n",
       "    .colab-df-convert:hover {\n",
       "      background-color: #E2EBFA;\n",
       "      box-shadow: 0px 1px 2px rgba(60, 64, 67, 0.3), 0px 1px 3px 1px rgba(60, 64, 67, 0.15);\n",
       "      fill: #174EA6;\n",
       "    }\n",
       "\n",
       "    [theme=dark] .colab-df-convert {\n",
       "      background-color: #3B4455;\n",
       "      fill: #D2E3FC;\n",
       "    }\n",
       "\n",
       "    [theme=dark] .colab-df-convert:hover {\n",
       "      background-color: #434B5C;\n",
       "      box-shadow: 0px 1px 3px 1px rgba(0, 0, 0, 0.15);\n",
       "      filter: drop-shadow(0px 1px 2px rgba(0, 0, 0, 0.3));\n",
       "      fill: #FFFFFF;\n",
       "    }\n",
       "  </style>\n",
       "\n",
       "      <script>\n",
       "        const buttonEl =\n",
       "          document.querySelector('#df-add78fdc-1322-4ef7-a3fb-9b4030ede4ce button.colab-df-convert');\n",
       "        buttonEl.style.display =\n",
       "          google.colab.kernel.accessAllowed ? 'block' : 'none';\n",
       "\n",
       "        async function convertToInteractive(key) {\n",
       "          const element = document.querySelector('#df-add78fdc-1322-4ef7-a3fb-9b4030ede4ce');\n",
       "          const dataTable =\n",
       "            await google.colab.kernel.invokeFunction('convertToInteractive',\n",
       "                                                     [key], {});\n",
       "          if (!dataTable) return;\n",
       "\n",
       "          const docLinkHtml = 'Like what you see? Visit the ' +\n",
       "            '<a target=\"_blank\" href=https://colab.research.google.com/notebooks/data_table.ipynb>data table notebook</a>'\n",
       "            + ' to learn more about interactive tables.';\n",
       "          element.innerHTML = '';\n",
       "          dataTable['output_type'] = 'display_data';\n",
       "          await google.colab.output.renderOutput(dataTable, element);\n",
       "          const docLink = document.createElement('div');\n",
       "          docLink.innerHTML = docLinkHtml;\n",
       "          element.appendChild(docLink);\n",
       "        }\n",
       "      </script>\n",
       "    </div>\n",
       "  </div>\n",
       "  "
      ],
      "text/plain": [
       "      user_name              Restaurant_name    rating\n",
       "46803   Desirae             Steel Penny Cafe  5.619937\n",
       "46804   Desirae  Otolith Sustainable Seafood  5.552305\n",
       "46805   Desirae            The Chilly Banana  5.521576"
      ]
     },
     "execution_count": 57,
     "metadata": {},
     "output_type": "execute_result"
    }
   ],
   "source": [
    "userId = get_business_id(\"6O4seIFz_buDGYXCOIT03A\")\n",
    "userRecs_DF2_pd[userRecs_DF2_pd[\"user_id_int\"] == userId][[\"user_name\",\"Restaurant_name\",\"rating\"]]"
   ]
  },
  {
   "cell_type": "markdown",
   "metadata": {
    "id": "iRvdPKTsweyX"
   },
   "source": [
    "# Recommendations for Aaron"
   ]
  },
  {
   "cell_type": "code",
   "execution_count": 58,
   "metadata": {
    "colab": {
     "base_uri": "https://localhost:8080/",
     "height": 143
    },
    "id": "lUuACuXsF20G",
    "outputId": "bdbece9c-bfb0-4652-c0c7-b066b170d53a"
   },
   "outputs": [
    {
     "data": {
      "text/html": [
       "\n",
       "  <div id=\"df-fbebc631-334b-4ac3-b949-4267afa4c5fa\">\n",
       "    <div class=\"colab-df-container\">\n",
       "      <div>\n",
       "<style scoped>\n",
       "    .dataframe tbody tr th:only-of-type {\n",
       "        vertical-align: middle;\n",
       "    }\n",
       "\n",
       "    .dataframe tbody tr th {\n",
       "        vertical-align: top;\n",
       "    }\n",
       "\n",
       "    .dataframe thead th {\n",
       "        text-align: right;\n",
       "    }\n",
       "</style>\n",
       "<table border=\"1\" class=\"dataframe\">\n",
       "  <thead>\n",
       "    <tr style=\"text-align: right;\">\n",
       "      <th></th>\n",
       "      <th>user_name</th>\n",
       "      <th>Restaurant_name</th>\n",
       "      <th>rating</th>\n",
       "    </tr>\n",
       "  </thead>\n",
       "  <tbody>\n",
       "    <tr>\n",
       "      <th>70068</th>\n",
       "      <td>Aaron</td>\n",
       "      <td>Sunny Chang's Pizza &amp; More</td>\n",
       "      <td>1.044408</td>\n",
       "    </tr>\n",
       "    <tr>\n",
       "      <th>70069</th>\n",
       "      <td>Aaron</td>\n",
       "      <td>Steel Penny Cafe</td>\n",
       "      <td>1.038287</td>\n",
       "    </tr>\n",
       "    <tr>\n",
       "      <th>70070</th>\n",
       "      <td>Aaron</td>\n",
       "      <td>Academic Bistro</td>\n",
       "      <td>1.024865</td>\n",
       "    </tr>\n",
       "  </tbody>\n",
       "</table>\n",
       "</div>\n",
       "      <button class=\"colab-df-convert\" onclick=\"convertToInteractive('df-fbebc631-334b-4ac3-b949-4267afa4c5fa')\"\n",
       "              title=\"Convert this dataframe to an interactive table.\"\n",
       "              style=\"display:none;\">\n",
       "        \n",
       "  <svg xmlns=\"http://www.w3.org/2000/svg\" height=\"24px\"viewBox=\"0 0 24 24\"\n",
       "       width=\"24px\">\n",
       "    <path d=\"M0 0h24v24H0V0z\" fill=\"none\"/>\n",
       "    <path d=\"M18.56 5.44l.94 2.06.94-2.06 2.06-.94-2.06-.94-.94-2.06-.94 2.06-2.06.94zm-11 1L8.5 8.5l.94-2.06 2.06-.94-2.06-.94L8.5 2.5l-.94 2.06-2.06.94zm10 10l.94 2.06.94-2.06 2.06-.94-2.06-.94-.94-2.06-.94 2.06-2.06.94z\"/><path d=\"M17.41 7.96l-1.37-1.37c-.4-.4-.92-.59-1.43-.59-.52 0-1.04.2-1.43.59L10.3 9.45l-7.72 7.72c-.78.78-.78 2.05 0 2.83L4 21.41c.39.39.9.59 1.41.59.51 0 1.02-.2 1.41-.59l7.78-7.78 2.81-2.81c.8-.78.8-2.07 0-2.86zM5.41 20L4 18.59l7.72-7.72 1.47 1.35L5.41 20z\"/>\n",
       "  </svg>\n",
       "      </button>\n",
       "      \n",
       "  <style>\n",
       "    .colab-df-container {\n",
       "      display:flex;\n",
       "      flex-wrap:wrap;\n",
       "      gap: 12px;\n",
       "    }\n",
       "\n",
       "    .colab-df-convert {\n",
       "      background-color: #E8F0FE;\n",
       "      border: none;\n",
       "      border-radius: 50%;\n",
       "      cursor: pointer;\n",
       "      display: none;\n",
       "      fill: #1967D2;\n",
       "      height: 32px;\n",
       "      padding: 0 0 0 0;\n",
       "      width: 32px;\n",
       "    }\n",
       "\n",
       "    .colab-df-convert:hover {\n",
       "      background-color: #E2EBFA;\n",
       "      box-shadow: 0px 1px 2px rgba(60, 64, 67, 0.3), 0px 1px 3px 1px rgba(60, 64, 67, 0.15);\n",
       "      fill: #174EA6;\n",
       "    }\n",
       "\n",
       "    [theme=dark] .colab-df-convert {\n",
       "      background-color: #3B4455;\n",
       "      fill: #D2E3FC;\n",
       "    }\n",
       "\n",
       "    [theme=dark] .colab-df-convert:hover {\n",
       "      background-color: #434B5C;\n",
       "      box-shadow: 0px 1px 3px 1px rgba(0, 0, 0, 0.15);\n",
       "      filter: drop-shadow(0px 1px 2px rgba(0, 0, 0, 0.3));\n",
       "      fill: #FFFFFF;\n",
       "    }\n",
       "  </style>\n",
       "\n",
       "      <script>\n",
       "        const buttonEl =\n",
       "          document.querySelector('#df-fbebc631-334b-4ac3-b949-4267afa4c5fa button.colab-df-convert');\n",
       "        buttonEl.style.display =\n",
       "          google.colab.kernel.accessAllowed ? 'block' : 'none';\n",
       "\n",
       "        async function convertToInteractive(key) {\n",
       "          const element = document.querySelector('#df-fbebc631-334b-4ac3-b949-4267afa4c5fa');\n",
       "          const dataTable =\n",
       "            await google.colab.kernel.invokeFunction('convertToInteractive',\n",
       "                                                     [key], {});\n",
       "          if (!dataTable) return;\n",
       "\n",
       "          const docLinkHtml = 'Like what you see? Visit the ' +\n",
       "            '<a target=\"_blank\" href=https://colab.research.google.com/notebooks/data_table.ipynb>data table notebook</a>'\n",
       "            + ' to learn more about interactive tables.';\n",
       "          element.innerHTML = '';\n",
       "          dataTable['output_type'] = 'display_data';\n",
       "          await google.colab.output.renderOutput(dataTable, element);\n",
       "          const docLink = document.createElement('div');\n",
       "          docLink.innerHTML = docLinkHtml;\n",
       "          element.appendChild(docLink);\n",
       "        }\n",
       "      </script>\n",
       "    </div>\n",
       "  </div>\n",
       "  "
      ],
      "text/plain": [
       "      user_name             Restaurant_name    rating\n",
       "70068     Aaron  Sunny Chang's Pizza & More  1.044408\n",
       "70069     Aaron            Steel Penny Cafe  1.038287\n",
       "70070     Aaron             Academic Bistro  1.024865"
      ]
     },
     "execution_count": 58,
     "metadata": {},
     "output_type": "execute_result"
    }
   ],
   "source": [
    "userId = get_business_id(\"A3DrdXmkNb1I6x-lSbj96g\")\n",
    "userRecs_DF2_pd[userRecs_DF2_pd[\"user_id_int\"] == userId][[\"user_name\",\"Restaurant_name\",\"rating\"]]"
   ]
  },
  {
   "cell_type": "markdown",
   "metadata": {
    "id": "Hqn4JzxlwfQ5"
   },
   "source": [
    "# Recommendations for Brett"
   ]
  },
  {
   "cell_type": "code",
   "execution_count": 59,
   "metadata": {
    "colab": {
     "base_uri": "https://localhost:8080/",
     "height": 143
    },
    "id": "SeQU0ZSlF222",
    "outputId": "b3b73163-1c16-403a-eb03-f4151f9e6a66"
   },
   "outputs": [
    {
     "data": {
      "text/html": [
       "\n",
       "  <div id=\"df-606e6d5f-3d1c-44d8-94d9-f104e1cc18bc\">\n",
       "    <div class=\"colab-df-container\">\n",
       "      <div>\n",
       "<style scoped>\n",
       "    .dataframe tbody tr th:only-of-type {\n",
       "        vertical-align: middle;\n",
       "    }\n",
       "\n",
       "    .dataframe tbody tr th {\n",
       "        vertical-align: top;\n",
       "    }\n",
       "\n",
       "    .dataframe thead th {\n",
       "        text-align: right;\n",
       "    }\n",
       "</style>\n",
       "<table border=\"1\" class=\"dataframe\">\n",
       "  <thead>\n",
       "    <tr style=\"text-align: right;\">\n",
       "      <th></th>\n",
       "      <th>user_name</th>\n",
       "      <th>Restaurant_name</th>\n",
       "      <th>rating</th>\n",
       "    </tr>\n",
       "  </thead>\n",
       "  <tbody>\n",
       "    <tr>\n",
       "      <th>743433</th>\n",
       "      <td>Brett</td>\n",
       "      <td>Academic Bistro</td>\n",
       "      <td>4.982213</td>\n",
       "    </tr>\n",
       "    <tr>\n",
       "      <th>743434</th>\n",
       "      <td>Brett</td>\n",
       "      <td>Otolith Sustainable Seafood</td>\n",
       "      <td>4.952850</td>\n",
       "    </tr>\n",
       "    <tr>\n",
       "      <th>743435</th>\n",
       "      <td>Brett</td>\n",
       "      <td>El Primo Produce</td>\n",
       "      <td>4.901747</td>\n",
       "    </tr>\n",
       "  </tbody>\n",
       "</table>\n",
       "</div>\n",
       "      <button class=\"colab-df-convert\" onclick=\"convertToInteractive('df-606e6d5f-3d1c-44d8-94d9-f104e1cc18bc')\"\n",
       "              title=\"Convert this dataframe to an interactive table.\"\n",
       "              style=\"display:none;\">\n",
       "        \n",
       "  <svg xmlns=\"http://www.w3.org/2000/svg\" height=\"24px\"viewBox=\"0 0 24 24\"\n",
       "       width=\"24px\">\n",
       "    <path d=\"M0 0h24v24H0V0z\" fill=\"none\"/>\n",
       "    <path d=\"M18.56 5.44l.94 2.06.94-2.06 2.06-.94-2.06-.94-.94-2.06-.94 2.06-2.06.94zm-11 1L8.5 8.5l.94-2.06 2.06-.94-2.06-.94L8.5 2.5l-.94 2.06-2.06.94zm10 10l.94 2.06.94-2.06 2.06-.94-2.06-.94-.94-2.06-.94 2.06-2.06.94z\"/><path d=\"M17.41 7.96l-1.37-1.37c-.4-.4-.92-.59-1.43-.59-.52 0-1.04.2-1.43.59L10.3 9.45l-7.72 7.72c-.78.78-.78 2.05 0 2.83L4 21.41c.39.39.9.59 1.41.59.51 0 1.02-.2 1.41-.59l7.78-7.78 2.81-2.81c.8-.78.8-2.07 0-2.86zM5.41 20L4 18.59l7.72-7.72 1.47 1.35L5.41 20z\"/>\n",
       "  </svg>\n",
       "      </button>\n",
       "      \n",
       "  <style>\n",
       "    .colab-df-container {\n",
       "      display:flex;\n",
       "      flex-wrap:wrap;\n",
       "      gap: 12px;\n",
       "    }\n",
       "\n",
       "    .colab-df-convert {\n",
       "      background-color: #E8F0FE;\n",
       "      border: none;\n",
       "      border-radius: 50%;\n",
       "      cursor: pointer;\n",
       "      display: none;\n",
       "      fill: #1967D2;\n",
       "      height: 32px;\n",
       "      padding: 0 0 0 0;\n",
       "      width: 32px;\n",
       "    }\n",
       "\n",
       "    .colab-df-convert:hover {\n",
       "      background-color: #E2EBFA;\n",
       "      box-shadow: 0px 1px 2px rgba(60, 64, 67, 0.3), 0px 1px 3px 1px rgba(60, 64, 67, 0.15);\n",
       "      fill: #174EA6;\n",
       "    }\n",
       "\n",
       "    [theme=dark] .colab-df-convert {\n",
       "      background-color: #3B4455;\n",
       "      fill: #D2E3FC;\n",
       "    }\n",
       "\n",
       "    [theme=dark] .colab-df-convert:hover {\n",
       "      background-color: #434B5C;\n",
       "      box-shadow: 0px 1px 3px 1px rgba(0, 0, 0, 0.15);\n",
       "      filter: drop-shadow(0px 1px 2px rgba(0, 0, 0, 0.3));\n",
       "      fill: #FFFFFF;\n",
       "    }\n",
       "  </style>\n",
       "\n",
       "      <script>\n",
       "        const buttonEl =\n",
       "          document.querySelector('#df-606e6d5f-3d1c-44d8-94d9-f104e1cc18bc button.colab-df-convert');\n",
       "        buttonEl.style.display =\n",
       "          google.colab.kernel.accessAllowed ? 'block' : 'none';\n",
       "\n",
       "        async function convertToInteractive(key) {\n",
       "          const element = document.querySelector('#df-606e6d5f-3d1c-44d8-94d9-f104e1cc18bc');\n",
       "          const dataTable =\n",
       "            await google.colab.kernel.invokeFunction('convertToInteractive',\n",
       "                                                     [key], {});\n",
       "          if (!dataTable) return;\n",
       "\n",
       "          const docLinkHtml = 'Like what you see? Visit the ' +\n",
       "            '<a target=\"_blank\" href=https://colab.research.google.com/notebooks/data_table.ipynb>data table notebook</a>'\n",
       "            + ' to learn more about interactive tables.';\n",
       "          element.innerHTML = '';\n",
       "          dataTable['output_type'] = 'display_data';\n",
       "          await google.colab.output.renderOutput(dataTable, element);\n",
       "          const docLink = document.createElement('div');\n",
       "          docLink.innerHTML = docLinkHtml;\n",
       "          element.appendChild(docLink);\n",
       "        }\n",
       "      </script>\n",
       "    </div>\n",
       "  </div>\n",
       "  "
      ],
      "text/plain": [
       "       user_name              Restaurant_name    rating\n",
       "743433     Brett              Academic Bistro  4.982213\n",
       "743434     Brett  Otolith Sustainable Seafood  4.952850\n",
       "743435     Brett             El Primo Produce  4.901747"
      ]
     },
     "execution_count": 59,
     "metadata": {},
     "output_type": "execute_result"
    }
   ],
   "source": [
    "userId = get_business_id(\"pou3BbKsIozfH50rxmnMew\")\n",
    "userRecs_DF2_pd[userRecs_DF2_pd[\"user_id_int\"] == userId][[\"user_name\",\"Restaurant_name\",\"rating\"]]"
   ]
  },
  {
   "cell_type": "code",
   "execution_count": null,
   "metadata": {
    "id": "r094DdShF26B"
   },
   "outputs": [],
   "source": []
  },
  {
   "cell_type": "code",
   "execution_count": null,
   "metadata": {
    "id": "xWvUKnZ_F28-"
   },
   "outputs": [],
   "source": []
  },
  {
   "cell_type": "code",
   "execution_count": null,
   "metadata": {
    "id": "G1D8-psDF3AX"
   },
   "outputs": [],
   "source": []
  },
  {
   "cell_type": "code",
   "execution_count": 57,
   "metadata": {
    "id": "--76LE52F3Dy"
   },
   "outputs": [],
   "source": []
  },
  {
   "cell_type": "code",
   "execution_count": null,
   "metadata": {
    "id": "IyZY8mzxF3G9"
   },
   "outputs": [],
   "source": []
  },
  {
   "cell_type": "code",
   "execution_count": null,
   "metadata": {
    "id": "P5hea0ZgF3J8"
   },
   "outputs": [],
   "source": []
  },
  {
   "cell_type": "code",
   "execution_count": null,
   "metadata": {
    "id": "7D-3dwz4F3Mm"
   },
   "outputs": [],
   "source": []
  },
  {
   "cell_type": "code",
   "execution_count": null,
   "metadata": {
    "id": "KsGpkiAKF3Qr"
   },
   "outputs": [],
   "source": []
  }
 ],
 "metadata": {
  "colab": {
   "provenance": [],
   "toc_visible": true
  },
  "kernelspec": {
   "display_name": "Python 3 (ipykernel)",
   "language": "python",
   "name": "python3"
  },
  "language_info": {
   "codemirror_mode": {
    "name": "ipython",
    "version": 3
   },
   "file_extension": ".py",
   "mimetype": "text/x-python",
   "name": "python",
   "nbconvert_exporter": "python",
   "pygments_lexer": "ipython3",
   "version": "3.10.8"
  }
 },
 "nbformat": 4,
 "nbformat_minor": 1
}
