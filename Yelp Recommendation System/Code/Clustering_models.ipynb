{
 "cells": [
  {
   "cell_type": "markdown",
   "metadata": {
    "id": "mpv7bWTOaCXU"
   },
   "source": [
    "## Dataset Download"
   ]
  },
  {
   "cell_type": "code",
   "execution_count": null,
   "metadata": {
    "colab": {
     "base_uri": "https://localhost:8080/"
    },
    "id": "T2ewITGLYQXr",
    "outputId": "ce4fe047-6061-4157-f922-757b7df275f7"
   },
   "outputs": [
    {
     "name": "stdout",
     "output_type": "stream",
     "text": [
      "--2023-05-08 18:52:12--  https://github.com/kabirthakur/Data-Science/blob/main/kaggle.json\n",
      "Resolving github.com (github.com)... 192.30.255.113\n",
      "Connecting to github.com (github.com)|192.30.255.113|:443... connected.\n",
      "HTTP request sent, awaiting response... 200 OK\n",
      "Length: unspecified [text/html]\n",
      "Saving to: ‘kaggle.json.1’\n",
      "\n",
      "kaggle.json.1           [ <=>                ] 143.92K  --.-KB/s    in 0.02s   \n",
      "\n",
      "2023-05-08 18:52:12 (6.59 MB/s) - ‘kaggle.json.1’ saved [147369]\n",
      "\n",
      "Looking in indexes: https://pypi.org/simple, https://us-python.pkg.dev/colab-wheels/public/simple/\n",
      "Collecting pyspark\n",
      "  Downloading pyspark-3.4.0.tar.gz (310.8 MB)\n",
      "\u001b[2K     \u001b[90m━━━━━━━━━━━━━━━━━━━━━━━━━━━━━━━━━━━━━━━\u001b[0m \u001b[32m310.8/310.8 MB\u001b[0m \u001b[31m4.6 MB/s\u001b[0m eta \u001b[36m0:00:00\u001b[0m\n",
      "\u001b[?25h  Preparing metadata (setup.py) ... \u001b[?25l\u001b[?25hdone\n",
      "Requirement already satisfied: py4j==0.10.9.7 in /usr/local/lib/python3.10/dist-packages (from pyspark) (0.10.9.7)\n",
      "Building wheels for collected packages: pyspark\n",
      "  Building wheel for pyspark (setup.py) ... \u001b[?25l\u001b[?25hdone\n",
      "  Created wheel for pyspark: filename=pyspark-3.4.0-py2.py3-none-any.whl size=311317145 sha256=f721f8841436ccd64797a9a2180a56a04b8d4d12013a45edb5c4ed3f6c19801c\n",
      "  Stored in directory: /root/.cache/pip/wheels/7b/1b/4b/3363a1d04368e7ff0d408e57ff57966fcdf00583774e761327\n",
      "Successfully built pyspark\n",
      "Installing collected packages: pyspark\n",
      "Successfully installed pyspark-3.4.0\n",
      "Looking in indexes: https://pypi.org/simple, https://us-python.pkg.dev/colab-wheels/public/simple/\n",
      "Requirement already satisfied: kaggle in /usr/local/lib/python3.10/dist-packages (1.5.13)\n",
      "Requirement already satisfied: certifi in /usr/local/lib/python3.10/dist-packages (from kaggle) (2022.12.7)\n",
      "Requirement already satisfied: urllib3 in /usr/local/lib/python3.10/dist-packages (from kaggle) (1.26.15)\n",
      "Requirement already satisfied: python-dateutil in /usr/local/lib/python3.10/dist-packages (from kaggle) (2.8.2)\n",
      "Requirement already satisfied: tqdm in /usr/local/lib/python3.10/dist-packages (from kaggle) (4.65.0)\n",
      "Requirement already satisfied: requests in /usr/local/lib/python3.10/dist-packages (from kaggle) (2.27.1)\n",
      "Requirement already satisfied: six>=1.10 in /usr/local/lib/python3.10/dist-packages (from kaggle) (1.16.0)\n",
      "Requirement already satisfied: python-slugify in /usr/local/lib/python3.10/dist-packages (from kaggle) (8.0.1)\n",
      "Requirement already satisfied: text-unidecode>=1.3 in /usr/local/lib/python3.10/dist-packages (from python-slugify->kaggle) (1.3)\n",
      "Requirement already satisfied: charset-normalizer~=2.0.0 in /usr/local/lib/python3.10/dist-packages (from requests->kaggle) (2.0.12)\n",
      "Requirement already satisfied: idna<4,>=2.5 in /usr/local/lib/python3.10/dist-packages (from requests->kaggle) (3.4)\n",
      "Looking in indexes: https://pypi.org/simple, https://us-python.pkg.dev/colab-wheels/public/simple/\n",
      "Requirement already satisfied: tqdm in /usr/local/lib/python3.10/dist-packages (4.65.0)\n",
      "Downloading yelp-dataset.zip to /content\n",
      "100% 4.06G/4.07G [00:50<00:00, 33.9MB/s]\n",
      "100% 4.07G/4.07G [00:50<00:00, 86.8MB/s]\n",
      "Archive:  yelp-dataset.zip\n",
      "  inflating: Dataset_User_Agreement.pdf  \n",
      "  inflating: yelp_academic_dataset_business.json  \n",
      "  inflating: yelp_academic_dataset_checkin.json  \n",
      "  inflating: yelp_academic_dataset_review.json  \n",
      "  inflating: yelp_academic_dataset_tip.json  \n",
      "  inflating: yelp_academic_dataset_user.json  \n"
     ]
    }
   ],
   "source": [
    "#put kaggle.json file in the Files (/content/)\n",
    "!pip install pyspark\n",
    "!pip install kaggle\n",
    "!pip install tqdm\n",
    "!mkdir ~/.kaggle\n",
    "!cp kaggle.json ~/.kaggle/\n",
    "!chmod 600 ~/.kaggle/kaggle.json\n",
    "!kaggle datasets download -d yelp-dataset/yelp-dataset \n",
    "!unzip yelp-dataset.zip"
   ]
  },
  {
   "cell_type": "markdown",
   "metadata": {
    "id": "zFq9lasKZbRL"
   },
   "source": [
    "## Libraries"
   ]
  },
  {
   "cell_type": "code",
   "execution_count": null,
   "metadata": {
    "id": "ffN8mTsyZPLF"
   },
   "outputs": [],
   "source": [
    "import re\n",
    "import pyspark\n",
    "import numpy as np\n",
    "import pandas as pd\n",
    "import seaborn as sns\n",
    "from tqdm import tqdm, trange\n",
    "import matplotlib.pyplot as plt\n",
    "from pyspark.ml import Pipeline\n",
    "from pyspark.sql import SparkSession\n",
    "from pyspark.ml.linalg import Vectors\n",
    "from pyspark.sql import functions as f\n",
    "from pyspark.ml.clustering import KMeans\n",
    "from pyspark.sql.types import FloatType, DoubleType\n",
    "from pyspark.ml.feature import StringIndexer, VectorAssembler\n",
    "from pyspark.ml.evaluation import RegressionEvaluator, ClusteringEvaluator\n",
    "from pyspark.sql.functions import col, count, split, explode, when, lit, sum\n",
    "from pyspark.sql.functions import array, struct, sort_array, array_min, expr, desc"
   ]
  },
  {
   "cell_type": "markdown",
   "metadata": {
    "id": "yWRRUbtMZkRN"
   },
   "source": [
    "## Create SparkSession and Import Data"
   ]
  },
  {
   "cell_type": "code",
   "execution_count": null,
   "metadata": {
    "id": "MZCIyEfOZSQR"
   },
   "outputs": [],
   "source": [
    "spark = SparkSession.builder \\\n",
    "    .appName(\"Yelp\") \\\n",
    "    .config(\"spark.executor.memory\", \"4g\") \\\n",
    "    .config(\"spark.driver.memory\", \"4g\") \\\n",
    "    .config(\"spark.driver.maxResultSize\", \"2g\") \\\n",
    "    .getOrCreate()\n",
    "\n",
    "# businesses dataframe\n",
    "business_df = spark.read.json(\"yelp_academic_dataset_business.json\")\n",
    "\n",
    "# users dataframe\n",
    "user_df = spark.read.json(\"yelp_academic_dataset_user.json\")\n",
    "\n",
    "# reviews dataframe\n",
    "review_df = spark.read.json(\"yelp_academic_dataset_review.json\")"
   ]
  },
  {
   "cell_type": "code",
   "execution_count": null,
   "metadata": {
    "id": "n6z5pJJlaTiZ"
   },
   "outputs": [],
   "source": [
    "#renaming columns for clarity\n",
    "business_df = business_df.withColumnRenamed(\"stars\", \"business_stars\")\n",
    "review_df = review_df.withColumnRenamed(\"stars\", \"review_stars\")"
   ]
  },
  {
   "cell_type": "markdown",
   "metadata": {
    "id": "h_vYHGh4Z7kY"
   },
   "source": [
    "## Data cleaning and Feature engineering"
   ]
  },
  {
   "cell_type": "markdown",
   "metadata": {
    "id": "7SMgfNjWg7Px"
   },
   "source": [
    "Business Dataframe"
   ]
  },
  {
   "cell_type": "code",
   "execution_count": null,
   "metadata": {
    "id": "O1XIfQTjZ_8G"
   },
   "outputs": [],
   "source": [
    "restaurants_df = business_df.filter(col(\"categories\").contains(\"Restaurants\"))\n",
    "restaurants_df = restaurants_df.filter(col(\"state\").contains(\"PA\"))\n",
    "restaurants_df = restaurants_df.filter(col(\"is_open\").contains(\"1\"))\n",
    "# Choosing Restaurants in Penssylvania that are open (Based on EDA)"
   ]
  },
  {
   "cell_type": "markdown",
   "metadata": {
    "id": "jB2JTtvhi0w_"
   },
   "source": [
    "We are only looking at the categories column and will be using most categories as features of out model. The following code takes the categories and pivots them and gives f"
   ]
  },
  {
   "cell_type": "code",
   "execution_count": null,
   "metadata": {
    "colab": {
     "base_uri": "https://localhost:8080/"
    },
    "id": "yxyClgbZar9c",
    "outputId": "1e3f934b-87fb-4ea9-a6cb-257c1c19eddf"
   },
   "outputs": [
    {
     "name": "stderr",
     "output_type": "stream",
     "text": [
      "100%|██████████| 449/449 [02:20<00:00,  3.20it/s]\n"
     ]
    }
   ],
   "source": [
    "categories_splitted = restaurants_df.select(\"business_id\", split(col(\"categories\"), \", \").alias(\"categories_array\"))\n",
    "categories_exploded = categories_splitted.select(\"business_id\", explode(col(\"categories_array\")).alias(\"category\"))\n",
    "distinct_categories = categories_exploded.select(\"category\").distinct().rdd.flatMap(lambda x: x).collect()\n",
    "\n",
    "for category in tqdm(distinct_categories): \n",
    "    categories_exploded = categories_exploded.withColumn(category, when(col(\"category\") == category, 1).otherwise(0))"
   ]
  },
  {
   "cell_type": "code",
   "execution_count": null,
   "metadata": {
    "id": "SnqwN-nscCdc"
   },
   "outputs": [],
   "source": [
    "new_column_names=categories_exploded.columns\n",
    "categories_pivoted = categories_exploded.groupBy(\"business_id\").sum()\n"
   ]
  },
  {
   "cell_type": "code",
   "execution_count": null,
   "metadata": {
    "colab": {
     "base_uri": "https://localhost:8080/"
    },
    "id": "NCOCrfXxddly",
    "outputId": "376d909e-ed67-48b9-e156-41639d4e243c"
   },
   "outputs": [
    {
     "name": "stderr",
     "output_type": "stream",
     "text": [
      "100%|██████████| 449/449 [00:01<00:00, 263.65it/s]\n"
     ]
    }
   ],
   "source": [
    "columns=categories_pivoted.columns\n",
    "features=columns[1:]\n",
    "sums = categories_pivoted.agg(*[f.sum(f.col(c)).alias(c) for c in tqdm(features)]).collect()[0].asDict()\n",
    "selected_columns = [c for c in sums if sums[c] > 10]\n",
    "\n",
    "# Including the 'business_id' column in the selected columns\n",
    "selected_columns.insert(0, columns[0])\n",
    "\n",
    "result_df = categories_pivoted.select([f.col(c) for c in selected_columns])\n",
    "result_df=result_df.drop('sum(Restaurants)','sum(Food)') "
   ]
  },
  {
   "cell_type": "code",
   "execution_count": null,
   "metadata": {
    "id": "ee905CVcfXx1"
   },
   "outputs": [],
   "source": [
    "def rename_columns(df):\n",
    "    \"\"\"\n",
    "    Renames columns in a PySpark DataFrame based on the column name in the format 'sum(col)'.\n",
    "    \"\"\"\n",
    "    columns = df.columns\n",
    "    pattern = re.compile(r'sum\\((.*?)\\)')\n",
    "\n",
    "    for column in tqdm(columns):\n",
    "        match = pattern.search(column)\n",
    "        if match:\n",
    "            new_column = match.group(1)\n",
    "            df = df.withColumnRenamed(column, new_column)\n",
    "\n",
    "    return df"
   ]
  },
  {
   "cell_type": "code",
   "execution_count": null,
   "metadata": {
    "colab": {
     "base_uri": "https://localhost:8080/"
    },
    "id": "sEJ4QnkufhGx",
    "outputId": "1c72aa17-31f5-4611-808c-a2485488750d"
   },
   "outputs": [
    {
     "name": "stderr",
     "output_type": "stream",
     "text": [
      "100%|██████████| 156/156 [01:23<00:00,  1.86it/s]\n"
     ]
    }
   ],
   "source": [
    "business_features = rename_columns(result_df)"
   ]
  },
  {
   "cell_type": "code",
   "execution_count": null,
   "metadata": {
    "colab": {
     "base_uri": "https://localhost:8080/"
    },
    "id": "YGbbzAevgHFQ",
    "outputId": "6886d189-c9b0-4d20-c3cc-9f56134c3428"
   },
   "outputs": [
    {
     "data": {
      "text/plain": [
       "(8069, 156)"
      ]
     },
     "execution_count": 10,
     "metadata": {},
     "output_type": "execute_result"
    }
   ],
   "source": [
    "business_features.count(),len(result_df.columns)"
   ]
  },
  {
   "cell_type": "markdown",
   "metadata": {
    "id": "8ZIuzqmfg-6a"
   },
   "source": [
    "Users Dataframe"
   ]
  },
  {
   "cell_type": "code",
   "execution_count": null,
   "metadata": {
    "colab": {
     "base_uri": "https://localhost:8080/"
    },
    "id": "_y_ME1sigxrb",
    "outputId": "349d6e79-3869-4bdc-fe12-a0fb282c62fa"
   },
   "outputs": [
    {
     "name": "stderr",
     "output_type": "stream",
     "text": [
      "100%|██████████| 156/156 [01:41<00:00,  1.54it/s]\n"
     ]
    }
   ],
   "source": [
    "filtered_reviews_df = review_df.select(f.col('business_id'),f.col('user_id'),)\n",
    "joined_df = filtered_reviews_df.join(business_features, 'business_id', 'inner')\n",
    "joined_df = joined_df.drop(f.col(\"business_id\"))\n",
    "summed_df = joined_df.groupBy(\"user_id\").sum()\n",
    "user_features=rename_columns(summed_df)"
   ]
  },
  {
   "cell_type": "code",
   "execution_count": null,
   "metadata": {
    "colab": {
     "base_uri": "https://localhost:8080/"
    },
    "id": "K6CdY0x3hvJi",
    "outputId": "17ecf2dd-dc38-42b0-ba4a-6beec6ff6b32"
   },
   "outputs": [
    {
     "data": {
      "text/plain": [
       "(269462, 156)"
      ]
     },
     "execution_count": 12,
     "metadata": {},
     "output_type": "execute_result"
    }
   ],
   "source": [
    "user_features.count(),len(user_features.columns)"
   ]
  },
  {
   "cell_type": "markdown",
   "metadata": {
    "id": "5m1hBKNrpe4B"
   },
   "source": [
    "### KMeans Analysis"
   ]
  },
  {
   "cell_type": "code",
   "execution_count": null,
   "metadata": {
    "id": "pfZqSDs0i0LE"
   },
   "outputs": [],
   "source": [
    "def kmeans_pipeline(data, input_cols, k_range=(5, 11), seed=42):\n",
    "    assembler = VectorAssembler(inputCols=input_cols, outputCol=\"features\")\n",
    "    feature_df = assembler.transform(data)\n",
    "\n",
    "    inertia_values = []\n",
    "    silhouette_scores = []\n",
    "    fig, axs = plt.subplots(1, len(range(*k_range)), figsize=(20, 5))\n",
    "    fig2, axs2 = plt.subplots(1, len(range(*k_range)), figsize=(20, 5))\n",
    "    for i,k in enumerate(trange(*k_range)):\n",
    "        kmeans = KMeans(k=k, featuresCol='features', seed=seed)\n",
    "        kmeans_model = kmeans.fit(feature_df)\n",
    "        transformed_df = kmeans_model.transform(feature_df)\n",
    "\n",
    "        axs[i].hist(transformed_df.select('prediction').rdd.flatMap(lambda x: x).collect(), bins=k)\n",
    "        axs[i].set_title(f'Cluster Count for k={k}')\n",
    "        axs[i].set_xlabel('Cluster')\n",
    "        axs[i].set_ylabel('Count')\n",
    "\n",
    "        counts = transformed_df.select('prediction').groupBy('prediction').count().orderBy('prediction').rdd.map(lambda x: x[1]).collect()\n",
    "        log_counts = np.log(counts)\n",
    "\n",
    "        axs2[i].bar(range(k), log_counts)\n",
    "        axs2[i].set_title(f'Log Cluster Count for k={k}')\n",
    "        axs2[i].set_xlabel('Cluster')\n",
    "        axs2[i].set_ylabel('Log Count')\n",
    "\n",
    "        evaluator = ClusteringEvaluator()\n",
    "        silhouette_score = evaluator.evaluate(transformed_df)\n",
    "        silhouette_scores.append(silhouette_score)\n",
    "\n",
    "        center_points = kmeans_model.clusterCenters()\n",
    "        squared_distances = transformed_df.rdd.map(\n",
    "            lambda x: float(x['features'].squared_distance(center_points[x['prediction']]))\n",
    "        )\n",
    "        inertia_values.append(squared_distances.sum())\n",
    "\n",
    "        # print(f'Finished k={k}')\n",
    "    plt.tight_layout()    \n",
    "\n",
    "    return inertia_values, silhouette_scores, fig, fig2"
   ]
  },
  {
   "cell_type": "code",
   "execution_count": null,
   "metadata": {
    "colab": {
     "base_uri": "https://localhost:8080/",
     "height": 995
    },
    "id": "KaygiUUPki3z",
    "outputId": "00bd8f34-1644-4026-fdbb-92b96d388613"
   },
   "outputs": [
    {
     "name": "stderr",
     "output_type": "stream",
     "text": [
      "100%|██████████| 6/6 [07:14<00:00, 72.47s/it]\n"
     ]
    },
    {
     "data": {
      "image/png": "[encoded data removed]",
      "text/plain": [
       "<Figure size 2000x500 with 6 Axes>"
      ]
     },
     "metadata": {},
     "output_type": "display_data"
    },
    {
     "data": {
      "image/png": "[encoded data removed]",
      "text/plain": [
       "<Figure size 2000x500 with 6 Axes>"
      ]
     },
     "metadata": {},
     "output_type": "display_data"
    }
   ],
   "source": [
    "business_cols = business_features.columns[1:]\n",
    "\n",
    "# Running the pipeline takes about 10 minutes\n",
    "inertia_values_business, silhouette_scores_business,fig_plots,fig_logplots = kmeans_pipeline(business_features, business_cols)"
   ]
  },
  {
   "cell_type": "code",
   "execution_count": null,
   "metadata": {
    "colab": {
     "base_uri": "https://localhost:8080/",
     "height": 927
    },
    "id": "Lixh5-jPoRFA",
    "outputId": "e5fcebfb-e94b-4cf5-ac52-3a1558c7f5cb"
   },
   "outputs": [
    {
     "data": {
      "image/png": "[encoded data removed]",
      "text/plain": [
       "<Figure size 640x480 with 1 Axes>"
      ]
     },
     "metadata": {},
     "output_type": "display_data"
    },
    {
     "data": {
      "image/png": "[encoded data removed]",
      "text/plain": [
       "<Figure size 640x480 with 1 Axes>"
      ]
     },
     "metadata": {},
     "output_type": "display_data"
    }
   ],
   "source": [
    "cluster_range=range(5,11)\n",
    "\n",
    "plt.plot(cluster_range, inertia_values_business, 'bx-')\n",
    "plt.xlabel('Number of clusters')\n",
    "plt.ylabel('Inertia')\n",
    "plt.title('The Elbow Method')\n",
    "plt.show()\n",
    "\n",
    "plt.plot(cluster_range, silhouette_scores_business, 'bx-')\n",
    "plt.xlabel('Number of clusters')\n",
    "plt.ylabel('Silhouette Score')\n",
    "plt.title('Silhouette Scores')\n",
    "plt.show()"
   ]
  },
  {
   "cell_type": "code",
   "execution_count": null,
   "metadata": {
    "colab": {
     "base_uri": "https://localhost:8080/",
     "height": 995
    },
    "id": "MhcTOpWYk1PZ",
    "outputId": "2a6619ea-6043-495d-d51e-dad002fe56f3"
   },
   "outputs": [
    {
     "name": "stderr",
     "output_type": "stream",
     "text": [
      "100%|██████████| 6/6 [1:00:02<00:00, 600.44s/it]\n"
     ]
    },
    {
     "data": {
      "image/png": "[encoded data removed]",
      "text/plain": [
       "<Figure size 2000x500 with 6 Axes>"
      ]
     },
     "metadata": {},
     "output_type": "display_data"
    },
    {
     "data": {
      "image/png": "[encoded data removed]",
      "text/plain": [
       "<Figure size 2000x500 with 6 Axes>"
      ]
     },
     "metadata": {},
     "output_type": "display_data"
    }
   ],
   "source": [
    "user_cols = user_features.columns[1:]\n",
    "\n",
    "# Run the pipeline takes about 1 hr 20 minutes. Got to have patience \n",
    "inertia_values_user, silhouette_scores_user, fig_plots_user, fig_logplots_user = kmeans_pipeline(user_features, user_cols)"
   ]
  },
  {
   "cell_type": "code",
   "execution_count": null,
   "metadata": {
    "colab": {
     "base_uri": "https://localhost:8080/",
     "height": 927
    },
    "id": "wGNC2-TPo7HL",
    "outputId": "ef7fe3a9-8a57-4738-8137-66b8bf5065ca"
   },
   "outputs": [
    {
     "data": {
      "image/png": "[encoded data removed]",
      "text/plain": [
       "<Figure size 640x480 with 1 Axes>"
      ]
     },
     "metadata": {},
     "output_type": "display_data"
    },
    {
     "data": {
      "image/png": "[encoded data removed]",
      "text/plain": [
       "<Figure size 640x480 with 1 Axes>"
      ]
     },
     "metadata": {},
     "output_type": "display_data"
    }
   ],
   "source": [
    "plt.plot(cluster_range, inertia_values_user, 'bx-')\n",
    "plt.xlabel('Number of clusters')\n",
    "plt.ylabel('Inertia')\n",
    "plt.title('The Elbow Method')\n",
    "plt.show()\n",
    "plt.plot(cluster_range, silhouette_scores_user, 'bx-')\n",
    "plt.xlabel('Number of clusters')\n",
    "plt.ylabel('Silhouette Score')\n",
    "plt.title('Silhouette Scores')\n",
    "plt.show()"
   ]
  },
  {
   "cell_type": "markdown",
   "metadata": {
    "id": "yjMEkKdYxpyM"
   },
   "source": [
    "### K-Means Final Models"
   ]
  },
  {
   "cell_type": "markdown",
   "metadata": {
    "id": "lNi3Kjn5lccU"
   },
   "source": [
    "### Final Model For Businesses"
   ]
  },
  {
   "cell_type": "code",
   "execution_count": null,
   "metadata": {
    "id": "TQZIpMZDxnu4"
   },
   "outputs": [],
   "source": [
    "assembler = VectorAssembler(inputCols=business_cols, outputCol='features')\n",
    "\n",
    "kmeans = KMeans(k=6, featuresCol='features', seed=42)\n",
    "\n",
    "pipeline = Pipeline(stages=[assembler, kmeans])\n",
    "\n",
    "model_business = pipeline.fit(business_features)\n",
    "\n",
    "kmeans_business = model_business.stages[-1]\n",
    "\n",
    "business_centroids = kmeans_business.clusterCenters()\n",
    "\n",
    "predictions_business = model_business.transform(business_features)\n"
   ]
  },
  {
   "cell_type": "code",
   "execution_count": null,
   "metadata": {
    "colab": {
     "base_uri": "https://localhost:8080/",
     "height": 472
    },
    "id": "tRV-AIdme4zd",
    "outputId": "5159cc16-6256-4c9f-eee3-60138354a6b0"
   },
   "outputs": [
    {
     "data": {
      "image/png": "[encoded data removed]",
      "text/plain": [
       "<Figure size 640x480 with 1 Axes>"
      ]
     },
     "metadata": {},
     "output_type": "display_data"
    }
   ],
   "source": [
    "cluster_counts_business = predictions_business.groupBy(\"prediction\").agg(count(\"business_id\").alias(\"business_count\"))\n",
    "sns.barplot(x=\"prediction\", y=\"business_count\", data=cluster_counts_business.toPandas())\n",
    "plt.title(\"Number of Businesses per Cluster\")\n",
    "plt.xlabel(\"Cluster Number\")\n",
    "plt.ylabel(\"Business Count\")\n",
    "plt.show()"
   ]
  },
  {
   "cell_type": "code",
   "execution_count": null,
   "metadata": {
    "colab": {
     "base_uri": "https://localhost:8080/",
     "height": 472
    },
    "id": "1TCc6bHDlqfD",
    "outputId": "65510a78-5068-4c10-cbb4-af38def34622"
   },
   "outputs": [
    {
     "data": {
      "image/png": "[encoded data removed]",
      "text/plain": [
       "<Figure size 640x480 with 1 Axes>"
      ]
     },
     "metadata": {},
     "output_type": "display_data"
    }
   ],
   "source": [
    "cluster_counts_business = predictions_business.groupBy(\"prediction\").agg(count(\"business_id\").alias(\"business_count\"))\n",
    "data_business = cluster_counts_business.toPandas()\n",
    "sns.barplot(x=\"prediction\", y=np.log(data_business[\"business_count\"]), data=data_business)\n",
    "plt.title(\"Number of Businesses per Cluster (log scale)\")\n",
    "plt.xlabel(\"Cluster Number\")\n",
    "plt.ylabel(\"Log Business Count\")\n",
    "plt.show()"
   ]
  },
  {
   "cell_type": "code",
   "execution_count": null,
   "metadata": {
    "colab": {
     "base_uri": "https://localhost:8080/"
    },
    "id": "VxEnFqcvltsj",
    "outputId": "135500c6-e55f-43f8-ee76-7e63dab80c6c"
   },
   "outputs": [
    {
     "name": "stdout",
     "output_type": "stream",
     "text": [
      "+----------+-----+\n",
      "|prediction|count|\n",
      "+----------+-----+\n",
      "|         0| 3274|\n",
      "|         1| 1354|\n",
      "|         2|  502|\n",
      "|         3|  736|\n",
      "|         4| 1525|\n",
      "|         5|  678|\n",
      "+----------+-----+\n",
      "\n"
     ]
    }
   ],
   "source": [
    "# Group by 'prediction' column and count the number of elements in each group\n",
    "cluster_counts_businesses = predictions_business.groupBy(\"prediction\").count()\n",
    "\n",
    "# Sort the result by the 'prediction' column and display the counts\n",
    "cluster_counts_businesses.sort(\"prediction\").show()"
   ]
  },
  {
   "cell_type": "markdown",
   "metadata": {
    "id": "XA-oewDwmDCJ"
   },
   "source": [
    "### Final Model for Users"
   ]
  },
  {
   "cell_type": "code",
   "execution_count": null,
   "metadata": {
    "id": "FALisllA4R1v"
   },
   "outputs": [],
   "source": [
    "assembler = VectorAssembler(inputCols=user_cols, outputCol='features')\n",
    "\n",
    "kmeans = kmeans = KMeans(k=6, featuresCol='features', seed=42)\n",
    "\n",
    "pipeline = Pipeline(stages=[assembler, kmeans])\n",
    "\n",
    "model_user = pipeline.fit(user_features)\n",
    "\n",
    "kmeans_user = model_business.stages[-1]\n",
    "\n",
    "user_centroids = kmeans_user.clusterCenters()\n",
    "\n",
    "predictions_user = model_user.transform(user_features)\n"
   ]
  },
  {
   "cell_type": "code",
   "execution_count": null,
   "metadata": {
    "colab": {
     "base_uri": "https://localhost:8080/",
     "height": 472
    },
    "id": "TwQCZsI-mKNY",
    "outputId": "08a97b6b-0514-471c-fcff-c6f58767135f"
   },
   "outputs": [
    {
     "data": {
      "image/png": "[encoded data removed]",
      "text/plain": [
       "<Figure size 640x480 with 1 Axes>"
      ]
     },
     "metadata": {},
     "output_type": "display_data"
    }
   ],
   "source": [
    "cluster_counts_user = predictions_user.groupBy(\"prediction\").agg(count(\"user_id\").alias(\"user_count\"))\n",
    "sns.barplot(x=\"prediction\", y=\"user_count\", data=cluster_counts_user.toPandas())\n",
    "plt.title(\"Number of Users per Cluster\")\n",
    "plt.xlabel(\"Cluster Number\")\n",
    "plt.ylabel(\"User Count\")\n",
    "plt.show()"
   ]
  },
  {
   "cell_type": "code",
   "execution_count": null,
   "metadata": {
    "colab": {
     "base_uri": "https://localhost:8080/",
     "height": 472
    },
    "id": "MBNLL_t8mfIe",
    "outputId": "a985c1f1-9fe9-4f19-dcab-41caf37d8213"
   },
   "outputs": [
    {
     "data": {
      "image/png": "[encoded data removed]",
      "text/plain": [
       "<Figure size 640x480 with 1 Axes>"
      ]
     },
     "metadata": {},
     "output_type": "display_data"
    }
   ],
   "source": [
    "cluster_counts_user = predictions_user.groupBy(\"prediction\").agg(count(\"user_id\").alias(\"user_count\"))\n",
    "data_user=cluster_counts_user.toPandas()\n",
    "sns.barplot(x=\"prediction\", y=np.log(data_user[\"user_count\"]),data=data_user)\n",
    "plt.title(\"Number of Users per Cluster (log scale)\")\n",
    "plt.xlabel(\"Cluster Number\")\n",
    "plt.ylabel(\"Log User Count\")\n",
    "plt.show()"
   ]
  },
  {
   "cell_type": "code",
   "execution_count": null,
   "metadata": {
    "colab": {
     "base_uri": "https://localhost:8080/"
    },
    "id": "SD2PijE-misF",
    "outputId": "9578cd96-8ea7-4fcb-e7a5-f0409726de07"
   },
   "outputs": [
    {
     "name": "stdout",
     "output_type": "stream",
     "text": [
      "+----------+------+\n",
      "|prediction| count|\n",
      "+----------+------+\n",
      "|         0|  5992|\n",
      "|         1|   441|\n",
      "|         2|  1583|\n",
      "|         3|227874|\n",
      "|         4| 33507|\n",
      "|         5|    65|\n",
      "+----------+------+\n",
      "\n"
     ]
    }
   ],
   "source": [
    "# Group by 'prediction' column and count the number of elements in each group\n",
    "cluster_counts_users = predictions_user.groupBy(\"prediction\").count()\n",
    "\n",
    "# Sort the result by the 'prediction' column and display the counts\n",
    "cluster_counts_users.sort(\"prediction\").show()"
   ]
  },
  {
   "cell_type": "markdown",
   "metadata": {
    "id": "JgvwsdRHmtys"
   },
   "source": [
    "### Dataframe for similar businesses by euclidean distance from centroid"
   ]
  },
  {
   "cell_type": "code",
   "execution_count": null,
   "metadata": {
    "id": "hxhomg2Imrrb"
   },
   "outputs": [],
   "source": [
    "def split_clusters(dataframe, cluster_column):\n",
    "    \"\"\"\n",
    "    Splits a DataFrame into separate DataFrames based on unique values in the specified column.\n",
    "    \"\"\"\n",
    "    \n",
    "    unique_clusters = dataframe.select(cluster_column).distinct().collect()\n",
    "    unique_clusters = [row[cluster_column] for row in unique_clusters]\n",
    "    cluster_dataframes = {}\n",
    "\n",
    "    for cluster in unique_clusters:\n",
    "        cluster_df = dataframe.filter(col(cluster_column) == cluster)\n",
    "        cluster_dataframes[f\"cluster_{cluster}\"] = cluster_df\n",
    "\n",
    "    return cluster_dataframes"
   ]
  },
  {
   "cell_type": "code",
   "execution_count": null,
   "metadata": {
    "id": "I6JnT70Lm3i7"
   },
   "outputs": [],
   "source": [
    "def sort_clusters_by_distance(cluster_dataframes, cluster_centroids):\n",
    "    \"\"\"\n",
    "    Sorts each PySpark DataFrame in the given dictionary of cluster DataFrames\n",
    "    by the Euclidean distance between each data point and the centroid of its cluster.\n",
    "    \"\"\"\n",
    "    \n",
    "    def euclidean_distance(vector, array):\n",
    "        return float(np.linalg.norm(np.array(vector) - np.array(array)))\n",
    "\n",
    "    euclidean_distance_udf = f.udf(euclidean_distance, DoubleType())\n",
    "    cluster_label=0\n",
    "    \n",
    "    for cluster_name, cluster_df in tqdm(cluster_dataframes.items()):\n",
    "        cluster_df = cluster_df.withColumn(\n",
    "            \"distance_to_centroid\",\n",
    "            euclidean_distance_udf(f.col(\"features\"), f.array([f.lit(c) for c in cluster_centroids[cluster_label]]))\n",
    "        )\n",
    "\n",
    "        # Sort the DF by the Euclidean distance\n",
    "        cluster_df = cluster_df.sort(\"distance_to_centroid\", ascending=True)\n",
    "\n",
    "        cluster_dataframes[cluster_name] = cluster_df\n",
    "        cluster_label+=1 \n",
    "    return cluster_dataframes\n"
   ]
  },
  {
   "cell_type": "code",
   "execution_count": null,
   "metadata": {
    "id": "-7yyG-ncnXnY"
   },
   "outputs": [],
   "source": [
    "def recommendations(dfs):\n",
    "    dfs_pd = {}\n",
    "    if dfs['cluster_0'].columns[0]==\"business_id\":\n",
    "        col_name='business_id'\n",
    "    else:\n",
    "        col_name='user_id'\n",
    "    for cluster, df in tqdm(dfs.items()):\n",
    "        df_pd = df.toPandas()\n",
    "        df_pd=df_pd.sort_values('distance_to_centroid')\n",
    "        df_pd[\"recommendations\"] = None\n",
    "        for i in range(len(df_pd)):\n",
    "            if i == 0:\n",
    "                df_pd.at[i, \"recommendations\"] = [df_pd.loc[1, col_name], df_pd.loc[2, col_name]]\n",
    "            elif i == 1:\n",
    "                df_pd.at[i, \"recommendations\"] = [df_pd.loc[0, col_name], df_pd.loc[2, col_name]]\n",
    "            elif i == len(df_pd) - 1:\n",
    "                df_pd.at[i, \"recommendations\"] = [df_pd.loc[i-1, col_name], df_pd.loc[i-2, col_name]]\n",
    "            elif i == len(df_pd) - 2:\n",
    "                df_pd.at[i, \"recommendations\"] = [df_pd.loc[i+1, col_name], df_pd.loc[i-1, col_name]]\n",
    "            else:\n",
    "                df_pd.at[i, \"recommendations\"] = [df_pd.loc[i-1, col_name], df_pd.loc[i+1, col_name]]\n",
    "\n",
    "        df_spark = spark.createDataFrame(df_pd)\n",
    "        dfs_pd[cluster] = df_spark\n",
    "    return dfs_pd"
   ]
  },
  {
   "cell_type": "code",
   "execution_count": null,
   "metadata": {
    "id": "KW34u9FknhvQ"
   },
   "outputs": [],
   "source": [
    "def merge_cluster_dataframes(dic):\n",
    "    merged = []\n",
    "    for i in range(len(dic)):\n",
    "        businesses = dic[f\"cluster_{i}\"].withColumn(\"Cluster\", lit(i))\n",
    "        merged.append(businesses)\n",
    "        \n",
    "    elements_all = merged[0]\n",
    "    for i in range(1, len(merged)):\n",
    "        elements_all = elements_all.union(merged[i])\n",
    "\n",
    "    return elements_all"
   ]
  },
  {
   "cell_type": "markdown",
   "metadata": {
    "id": "7qnmZNs8n4fG"
   },
   "source": [
    "1. predictions_business is the transformed model dataframe. I split the data by the clusters to make the computation easier. \n",
    "2. The split_clusters function splits the clusters into a dictionary where the key is the cluster and the value is the dataframe object of each cluster. This is the object that we will be using thoughout. The split cluster function is genralised and works for both user and business data with the prediction column.\n"
   ]
  },
  {
   "cell_type": "code",
   "execution_count": null,
   "metadata": {
    "id": "GDonBugSn19t"
   },
   "outputs": [],
   "source": [
    "business_rec=predictions_business.select(\"business_id\",'features','prediction')\n",
    "dict_businesses = split_clusters(business_rec, \"prediction\")\n",
    "user_rec=predictions_user.select(\"user_id\",'features','prediction')\n",
    "dict_user = split_clusters(user_rec, \"prediction\")"
   ]
  },
  {
   "cell_type": "markdown",
   "metadata": {
    "id": "L1suWs5sobd7"
   },
   "source": [
    "3.  The sort_clusters_by_distance function takes in the dictionary we created and the array of centroids from the k-means model and calculated euclidean distance from centroid to each point. The dataframe is then sorted by distance.\n",
    "\n",
    "NOTE : A lot of points are on similar distances "
   ]
  },
  {
   "cell_type": "code",
   "execution_count": null,
   "metadata": {
    "colab": {
     "base_uri": "https://localhost:8080/"
    },
    "id": "a7c2UepcoVDz",
    "outputId": "39462b4c-9eb2-4b68-caef-dede229b9131"
   },
   "outputs": [
    {
     "name": "stderr",
     "output_type": "stream",
     "text": [
      "100%|██████████| 6/6 [00:18<00:00,  3.09s/it]\n",
      "100%|██████████| 6/6 [00:22<00:00,  3.77s/it]\n"
     ]
    }
   ],
   "source": [
    "dict_businesses=sort_clusters_by_distance(dict_businesses,business_centroids)\n",
    "dict_user=sort_clusters_by_distance(dict_user,user_centroids)"
   ]
  },
  {
   "cell_type": "markdown",
   "metadata": {
    "id": "ezkIq9FyovBc"
   },
   "source": [
    "4. The recommendations function takes the dictionary and transforms each dataframe to a pandas object. This is done to iterate over the data as we wanted to assign recommendations based on how far each user is from the centroid based on distance. This function ensures that the data is sorted by distance and then assigns two recommendations to each id, specifically the one above it and the one below it in the progression. Same dictionary is returned with a recommendation column."
   ]
  },
  {
   "cell_type": "code",
   "execution_count": null,
   "metadata": {
    "colab": {
     "background_save": true,
     "base_uri": "https://localhost:8080/"
    },
    "id": "X16-sBwCorkb",
    "outputId": "e1c1e855-3f91-433c-a07c-abad38ebeb56"
   },
   "outputs": [
    {
     "name": "stderr",
     "output_type": "stream",
     "text": [
      "100%|██████████| 6/6 [01:28<00:00, 14.71s/it]\n",
      "100%|██████████| 6/6 [17:11<00:00, 171.94s/it]\n"
     ]
    }
   ],
   "source": [
    "dict_businesses=recommendations(dict_businesses)\n",
    "dict_user=recommendations(dict_user)"
   ]
  },
  {
   "cell_type": "markdown",
   "metadata": {
    "id": "spMUAZQypqRb"
   },
   "source": [
    "5. Finally the dictionary is merged together "
   ]
  },
  {
   "cell_type": "code",
   "execution_count": null,
   "metadata": {
    "colab": {
     "background_save": true
    },
    "id": "iUcEfcvKpngO"
   },
   "outputs": [],
   "source": [
    "business_recommendations=merge_cluster_dataframes(dict_businesses)\n",
    "user_recommendations=merge_cluster_dataframes(dict_user)"
   ]
  },
  {
   "cell_type": "markdown",
   "metadata": {
    "id": "HCpLK9itrTpy"
   },
   "source": [
    "Business recommendation dataframe contains the names of two similar businesses as recommendations for each unique business"
   ]
  },
  {
   "cell_type": "code",
   "execution_count": null,
   "metadata": {
    "colab": {
     "background_save": true
    },
    "id": "6iKAc6xfqL4l",
    "outputId": "2bf54337-65ac-40bd-e029-9b075abbca79"
   },
   "outputs": [
    {
     "name": "stdout",
     "output_type": "stream",
     "text": [
      "+----------------------+------------------------------------------------+\n",
      "|business_id           |recommendations                                 |\n",
      "+----------------------+------------------------------------------------+\n",
      "|ziFtaIQdzQfFL79iLTq_zQ|[_snyGj46oghIWXSDcrxq1A, zNi8ceY3sLBXZoTUstjrvg]|\n",
      "|_snyGj46oghIWXSDcrxq1A|[ziFtaIQdzQfFL79iLTq_zQ, zNi8ceY3sLBXZoTUstjrvg]|\n",
      "|zNi8ceY3sLBXZoTUstjrvg|[_snyGj46oghIWXSDcrxq1A, zWQWjJ0270yqp_KignAmkg]|\n",
      "|zWQWjJ0270yqp_KignAmkg|[zNi8ceY3sLBXZoTUstjrvg, jREUbQSPxCd3lS0AouzTzg]|\n",
      "|jREUbQSPxCd3lS0AouzTzg|[zWQWjJ0270yqp_KignAmkg, 6zXBmEBGqFVwTcPqmGStfw]|\n",
      "|6zXBmEBGqFVwTcPqmGStfw|[jREUbQSPxCd3lS0AouzTzg, kmKHBCTec-e6H4aK7fD8Ag]|\n",
      "|kmKHBCTec-e6H4aK7fD8Ag|[6zXBmEBGqFVwTcPqmGStfw, Sk1WdGuaCNQlQZ_u_JE0Ew]|\n",
      "|Sk1WdGuaCNQlQZ_u_JE0Ew|[kmKHBCTec-e6H4aK7fD8Ag, NxB8M1wnJQ5xoXDiUgqmIg]|\n",
      "|NxB8M1wnJQ5xoXDiUgqmIg|[Sk1WdGuaCNQlQZ_u_JE0Ew, OAs42PSxiaPS25sO8Vtfiw]|\n",
      "|YinVjl_e8croGmeUK8hRkA|[egFo1PkGkKM-lPli61raiA, Rx6d8NSWTdOt9Nd8QWjfZw]|\n",
      "|Rx6d8NSWTdOt9Nd8QWjfZw|[YinVjl_e8croGmeUK8hRkA, OddKlB5d2KQpIP2rJt89ow]|\n",
      "|yvpwN5321mM3x8G2ZiEZmw|[OddKlB5d2KQpIP2rJt89ow, -PkchovDBosOtZx4XLatVw]|\n",
      "|-PkchovDBosOtZx4XLatVw|[yvpwN5321mM3x8G2ZiEZmw, J8UPVO_FTALzvJ0tlMdr8w]|\n",
      "|t5T6NYFsOqnYl0NETDgj7g|[4IvQU16RBKuLtpgx8yLqmQ, r9sFTXBUGSYB7orbyY0PLw]|\n",
      "|4zQV6v8TwEYMwI9Ekdf19g|[J8UPVO_FTALzvJ0tlMdr8w, mEMcdzVzuSX34TXRKG83iA]|\n",
      "|mEMcdzVzuSX34TXRKG83iA|[4zQV6v8TwEYMwI9Ekdf19g, 4IvQU16RBKuLtpgx8yLqmQ]|\n",
      "|4IvQU16RBKuLtpgx8yLqmQ|[mEMcdzVzuSX34TXRKG83iA, t5T6NYFsOqnYl0NETDgj7g]|\n",
      "|egFo1PkGkKM-lPli61raiA|[ZynowAYBV6-mBBJb7dWN8w, YinVjl_e8croGmeUK8hRkA]|\n",
      "|J8UPVO_FTALzvJ0tlMdr8w|[-PkchovDBosOtZx4XLatVw, 4zQV6v8TwEYMwI9Ekdf19g]|\n",
      "|ZynowAYBV6-mBBJb7dWN8w|[v1UZ0rYgVr_WEfLsK82VPA, egFo1PkGkKM-lPli61raiA]|\n",
      "+----------------------+------------------------------------------------+\n",
      "only showing top 20 rows\n",
      "\n"
     ]
    }
   ],
   "source": [
    "business_recommendations.select('business_id','recommendations').show(truncate=False) # Here the recommendations are other businesses"
   ]
  },
  {
   "cell_type": "markdown",
   "metadata": {
    "id": "qrQuQI4Erp5I"
   },
   "source": [
    "User recommendation dataframe contains the names of two similar users as recommendations for each unique user. While getting the recommendation from user cluster we use the top rated businesses visited by the similar user."
   ]
  },
  {
   "cell_type": "code",
   "execution_count": null,
   "metadata": {
    "colab": {
     "background_save": true
    },
    "id": "feLmd5v-qoXu",
    "outputId": "a0fac455-f64d-4859-d8d4-d9600e2fe0bd"
   },
   "outputs": [
    {
     "name": "stdout",
     "output_type": "stream",
     "text": [
      "+----------------------+------------------------------------------------+\n",
      "|user_id               |recommendations                                 |\n",
      "+----------------------+------------------------------------------------+\n",
      "|pRAG05KXr_mZY0gzKAwAPw|[75--7VO10mTfrvV3yCGuHg, huayr-WjhExgJPIZcRhZIQ]|\n",
      "|75--7VO10mTfrvV3yCGuHg|[pRAG05KXr_mZY0gzKAwAPw, huayr-WjhExgJPIZcRhZIQ]|\n",
      "|huayr-WjhExgJPIZcRhZIQ|[75--7VO10mTfrvV3yCGuHg, NmC36b6gUGg-kcvm7BiqHg]|\n",
      "|NmC36b6gUGg-kcvm7BiqHg|[huayr-WjhExgJPIZcRhZIQ, H9x_8vghL3a7Gp6OckLhZQ]|\n",
      "|H9x_8vghL3a7Gp6OckLhZQ|[NmC36b6gUGg-kcvm7BiqHg, -_x2LGJj_YKxJcM-P2Kvkg]|\n",
      "|-_x2LGJj_YKxJcM-P2Kvkg|[H9x_8vghL3a7Gp6OckLhZQ, YDjpFw_K46BW9Wf9c8izzA]|\n",
      "|YDjpFw_K46BW9Wf9c8izzA|[-_x2LGJj_YKxJcM-P2Kvkg, C9xi-33ob-hlRXF7uuIuCQ]|\n",
      "|C9xi-33ob-hlRXF7uuIuCQ|[YDjpFw_K46BW9Wf9c8izzA, iJpgy47yC8tpwy7_6G3tpA]|\n",
      "|iJpgy47yC8tpwy7_6G3tpA|[C9xi-33ob-hlRXF7uuIuCQ, XhGCAPGI_GEzeV7v-s9RBQ]|\n",
      "|XhGCAPGI_GEzeV7v-s9RBQ|[iJpgy47yC8tpwy7_6G3tpA, CgNkIOILQowcP3mQaVpX7Q]|\n",
      "|CgNkIOILQowcP3mQaVpX7Q|[XhGCAPGI_GEzeV7v-s9RBQ, U8MXIhRf3WjkAT5TAw8c-w]|\n",
      "|U8MXIhRf3WjkAT5TAw8c-w|[CgNkIOILQowcP3mQaVpX7Q, rUfxQ6rZRwemZe11MD-O0g]|\n",
      "|rUfxQ6rZRwemZe11MD-O0g|[U8MXIhRf3WjkAT5TAw8c-w, -Yni53KuteKxm3JbabyYgQ]|\n",
      "|-Yni53KuteKxm3JbabyYgQ|[rUfxQ6rZRwemZe11MD-O0g, l4iQ8z7Q6PFatFx_UUMpCw]|\n",
      "|l4iQ8z7Q6PFatFx_UUMpCw|[-Yni53KuteKxm3JbabyYgQ, 2r9omWlNODtsofY6pKVGhw]|\n",
      "|2r9omWlNODtsofY6pKVGhw|[l4iQ8z7Q6PFatFx_UUMpCw, FoMY7RWU7454wkYZDZ3vGA]|\n",
      "|FoMY7RWU7454wkYZDZ3vGA|[2r9omWlNODtsofY6pKVGhw, cGoBqXzBUeUJLmEu7DMArg]|\n",
      "|cGoBqXzBUeUJLmEu7DMArg|[FoMY7RWU7454wkYZDZ3vGA, xWYcCL8sBOKhGkXCG1qBdQ]|\n",
      "|xWYcCL8sBOKhGkXCG1qBdQ|[cGoBqXzBUeUJLmEu7DMArg, au7FVtivg_OKZmkvhmSAhQ]|\n",
      "|au7FVtivg_OKZmkvhmSAhQ|[xWYcCL8sBOKhGkXCG1qBdQ, 1XP3HQHiSFZlzmlN0Zzspw]|\n",
      "+----------------------+------------------------------------------------+\n",
      "only showing top 20 rows\n",
      "\n"
     ]
    }
   ],
   "source": [
    "user_recommendations.select('user_id','recommendations').show(truncate=False) #Here the recommendations are other users"
   ]
  },
  {
   "cell_type": "markdown",
   "metadata": {
    "id": "YgscqaDJsd1Q"
   },
   "source": [
    "6. A visit score is calculated for all restaurants. For each person we calculated an avg score that they gave to the restaurants they visited and that is in the visit_score dataframe. This is done by joining the restaurant table to the review table."
   ]
  },
  {
   "cell_type": "code",
   "execution_count": null,
   "metadata": {
    "colab": {
     "background_save": true
    },
    "id": "t7QPck67skFu"
   },
   "outputs": [],
   "source": [
    "from pyspark.sql.functions import avg\n",
    "b_mod = business_df.filter(col(\"categories\").contains(\"Restaurants\"))\n",
    "b_mod = restaurants_df.filter(col(\"state\").contains(\"PA\"))\n",
    "b_mod = restaurants_df.filter(col(\"is_open\").contains(\"1\"))\n",
    "visit_score = review_df.groupBy('user_id', 'business_id').agg(avg('review_stars').alias('avg_review_stars'))\n",
    "visit_score = b_mod.join(visit_score, on=\"business_id\", how=\"inner\")\n",
    "visit_score=visit_score.select('business_id','user_id','avg_review_stars')"
   ]
  },
  {
   "cell_type": "markdown",
   "metadata": {
    "id": "4DJLvuXXsnH_"
   },
   "source": [
    "7. This information about each restaurant and the respective avg rating given to them by the user is added to the row for each user_id. This is saved in visits_df "
   ]
  },
  {
   "cell_type": "code",
   "execution_count": null,
   "metadata": {
    "id": "utWirMAPspt5"
   },
   "outputs": [],
   "source": [
    "from pyspark.sql.functions import collect_list, struct, desc, sort_array\n",
    "\n",
    "# assuming your dataframe is called 'new_df'\n",
    "user_business_df = visit_score.select('user_id', struct('business_id', 'avg_review_stars').alias('business_review'))\n",
    "grouped_df = user_business_df.groupBy('user_id').agg(collect_list('business_review').alias('businesses'))\n",
    "visits_df = grouped_df.select('user_id', sort_array('businesses', asc=False).alias('businesses'))"
   ]
  },
  {
   "cell_type": "markdown",
   "metadata": {
    "id": "pvnhL2dbuPK6"
   },
   "source": [
    "# Recommendation Engine"
   ]
  },
  {
   "cell_type": "markdown",
   "metadata": {
    "id": "tUC_VJlRuyLC"
   },
   "source": [
    "1. Get recommendations from business clustering model"
   ]
  },
  {
   "cell_type": "code",
   "execution_count": null,
   "metadata": {
    "id": "yN9Sv2rZuLFx"
   },
   "outputs": [],
   "source": [
    "def business_cluster_rec(user_id, visits_df, business_recommendations):\n",
    "    # Find the top 3 businesses for each user\n",
    "    top_3_businesses = visits_df.filter(col(\"user_id\") == user_id) \\\n",
    "                                 .select(col(\"user_id\"), explode(col(\"businesses\")).alias(\"businesses\"))\n",
    "    expanded_df = top_3_businesses \\\n",
    "        .withColumn(\"business_id\", col(\"businesses.business_id\")) \\\n",
    "        .withColumn(\"score\", col(\"businesses.avg_review_stars\")) \\\n",
    "        .drop(\"businesses\")\n",
    "    expanded_df.filter(col(\"score\") >= 3)\n",
    "    \n",
    "    result_df = expanded_df.join(business_recommendations, on=\"business_id\", how=\"inner\") \\\n",
    "                           .select(\"user_id\", \"business_id\", \"score\", \"recommendations\")\n",
    "    result_df=result_df.select(\"user_id\",'recommendations')\n",
    "    combined_df = result_df.select('user_id', explode(col('recommendations')).alias('recommendations'))\n",
    "    \n",
    "    return combined_df"
   ]
  },
  {
   "cell_type": "markdown",
   "metadata": {
    "id": "qzw3VmUcu248"
   },
   "source": [
    "2. Get recommendations from user clustering model"
   ]
  },
  {
   "cell_type": "code",
   "execution_count": null,
   "metadata": {
    "id": "xmZwCjGfutwa"
   },
   "outputs": [],
   "source": [
    "def user_cluster_rec(user_id, visits_df, user_recommendations, business_recommendations):\n",
    "    similar_users=user_recommendations.filter(col(\"user_id\") == user_id) \\\n",
    "                                 .select(col(\"user_id\"), explode(col(\"recommendations\")).alias(\"recommendations\"))\n",
    "    recommendations_list = similar_users.select(\"recommendations\").rdd.flatMap(lambda x: x).collect()\n",
    "    results = []\n",
    "    for recommendation in recommendations_list:\n",
    "        result_df = business_cluster_rec(recommendation, visits_df, business_recommendations)\n",
    "        results.append(result_df)\n",
    "    combined_df = results[0]\n",
    "    for i in range(1, len(results)):\n",
    "        combined_df = combined_df.union(results[i])\n",
    "    combined_df = combined_df.drop('user_id')\n",
    "    combined_df = combined_df.withColumn('user_id', lit(user_id))\n",
    "    #combined_df = combined_df.select('user_id', explode(col('recommendations')).alias('recommendations'))\n",
    "    combined_df=combined_df.select('user_id', 'recommendations')\n",
    "    return combined_df"
   ]
  },
  {
   "cell_type": "markdown",
   "metadata": {
    "id": "IP0nybXnvIi7"
   },
   "source": [
    "3. Merge recommendations and fetch names"
   ]
  },
  {
   "cell_type": "code",
   "execution_count": null,
   "metadata": {
    "id": "cDLXh3hXvLDl"
   },
   "outputs": [],
   "source": [
    "def merge_recommendations(u_cluster_recs, b_cluster_recs, user_df, business_df):\n",
    "    u_cluster_recs = u_cluster_recs.withColumn(\"cluster_type\", lit(\"u\"))\n",
    "\n",
    "    b_cluster_recs = b_cluster_recs.withColumn(\"cluster_type\", lit(\"b\"))\n",
    "    \n",
    "    combined_recs = u_cluster_recs.union(b_cluster_recs)\n",
    "\n",
    "    combined_recs = combined_recs.join(user_df, on=\"user_id\", how=\"inner\") \\\n",
    "                             .select(\"user_id\", \"name\", \"recommendations\",'cluster_type') \\\n",
    "                             .withColumnRenamed(\"name\", \"name_user\")\n",
    "    combined_recs = combined_recs.join(business_df, col(\"recommendations\") == col(\"business_id\"), \"inner\") \\\n",
    "                             .select(\"user_id\", \"name_user\", \"recommendations\", \"name\",'cluster_type') \\\n",
    "                             .withColumnRenamed(\"name\", \"name_restaurant\")\n",
    "    combined_recs = combined_recs.select('name_user',\"name_restaurant\",'cluster_type')\n",
    "    return combined_recs"
   ]
  },
  {
   "cell_type": "markdown",
   "metadata": {
    "id": "IGnJlgTY3ZmK"
   },
   "source": [
    "### Recommendations for User Desirae"
   ]
  },
  {
   "cell_type": "code",
   "execution_count": null,
   "metadata": {
    "colab": {
     "base_uri": "https://localhost:8080/"
    },
    "id": "bal5FnGMvTwV",
    "outputId": "c4fc317b-7d9a-4b5d-98d6-51d596e1ac0d"
   },
   "outputs": [
    {
     "name": "stdout",
     "output_type": "stream",
     "text": [
      "+---------+-----------------------+------------+\n",
      "|name_user|name_restaurant        |cluster_type|\n",
      "+---------+-----------------------+------------+\n",
      "|Desirae  |Charley's Grilled Subs |u           |\n",
      "|Desirae  |FreshWorks of Levittown|u           |\n",
      "|Desirae  |Walt's Steak Shop      |u           |\n",
      "|Desirae  |Charley's Grilled Subs |u           |\n",
      "|Desirae  |FreshWorks of Levittown|b           |\n",
      "|Desirae  |La Casa Del Sandwich   |b           |\n",
      "+---------+-----------------------+------------+\n",
      "\n"
     ]
    }
   ],
   "source": [
    "user_id='6O4seIFz_buDGYXCOIT03A'\n",
    "b_cluster_recs=business_cluster_rec(user_id,visits_df, business_recommendations)\n",
    "u_cluster_recs=user_cluster_rec(user_id, visits_df, user_recommendations, business_recommendations)\n",
    "final=merge_recommendations(u_cluster_recs, b_cluster_recs, user_df, business_df)\n",
    "final.show(truncate=False)"
   ]
  },
  {
   "cell_type": "markdown",
   "metadata": {
    "id": "imWAxa4U4IwJ"
   },
   "source": [
    "Restaurants previously visited by Desirae"
   ]
  },
  {
   "cell_type": "code",
   "execution_count": null,
   "metadata": {
    "colab": {
     "base_uri": "https://localhost:8080/"
    },
    "id": "eKSlw2YV4EkK",
    "outputId": "398dc00d-fa81-4453-b3fa-694668ac09d5"
   },
   "outputs": [
    {
     "name": "stdout",
     "output_type": "stream",
     "text": [
      "+--------------------+\n",
      "|                name|\n",
      "+--------------------+\n",
      "|Cosmos Fine Nail ...|\n",
      "|          Jeans Cafe|\n",
      "+--------------------+\n",
      "\n"
     ]
    }
   ],
   "source": [
    "business_ids = review_df.filter(col(\"user_id\") == \"6O4seIFz_buDGYXCOIT03A\") \\\n",
    "                         .select(\"business_id\") \\\n",
    "                         .distinct()\n",
    "business_names = business_ids.join(business_df, on=\"business_id\", how=\"inner\") \\\n",
    "                             .select(col(\"business_id\"), col(\"name\"))\n",
    "\n",
    "business_names.select('name').show()"
   ]
  },
  {
   "cell_type": "markdown",
   "metadata": {
    "id": "OXcnV2G15fKC"
   },
   "source": [
    "Cluster number for Desirae"
   ]
  },
  {
   "cell_type": "code",
   "execution_count": null,
   "metadata": {
    "colab": {
     "base_uri": "https://localhost:8080/"
    },
    "id": "qZv77wXt5aLg",
    "outputId": "bbd9d71a-b330-4233-e124-6fe856f42fe6"
   },
   "outputs": [
    {
     "name": "stdout",
     "output_type": "stream",
     "text": [
      "3\n"
     ]
    }
   ],
   "source": [
    "#Desirae\n",
    "filtered_df = predictions_user.filter(col('user_id') == '6O4seIFz_buDGYXCOIT03A')\n",
    "\n",
    "prediction_value = filtered_df.select('prediction').collect()[0][0]\n",
    "\n",
    "print(prediction_value)"
   ]
  },
  {
   "cell_type": "markdown",
   "metadata": {
    "id": "Iia0hGaR7TF9"
   },
   "source": [
    "### Recommendations for User Aaron"
   ]
  },
  {
   "cell_type": "code",
   "execution_count": null,
   "metadata": {
    "colab": {
     "base_uri": "https://localhost:8080/"
    },
    "id": "SbytTd4FveRK",
    "outputId": "7d61301e-5912-4a65-b46b-93e0d8817033"
   },
   "outputs": [
    {
     "name": "stdout",
     "output_type": "stream",
     "text": [
      "+---------+--------------------------------+------------+\n",
      "|name_user|name_restaurant                 |cluster_type|\n",
      "+---------+--------------------------------+------------+\n",
      "|Aaron    |Tony Luke's                     |u           |\n",
      "|Aaron    |Slack's Hoagie Shack            |u           |\n",
      "|Aaron    |Pompei’s State Street Sandwiches|u           |\n",
      "|Aaron    |Angelina's Panini Bar           |u           |\n",
      "|Aaron    |Sam's Sub Shop                  |b           |\n",
      "|Aaron    |Angelina's Panini Bar           |b           |\n",
      "+---------+--------------------------------+------------+\n",
      "\n"
     ]
    }
   ],
   "source": [
    "user_id='A3DrdXmkNb1I6x-lSbj96g'\n",
    "b_cluster_recs=business_cluster_rec(user_id,visits_df, business_recommendations)\n",
    "u_cluster_recs=user_cluster_rec(user_id, visits_df, user_recommendations, business_recommendations)\n",
    "final=merge_recommendations(u_cluster_recs, b_cluster_recs, user_df, business_df)\n",
    "final.show(truncate=False)"
   ]
  },
  {
   "cell_type": "markdown",
   "metadata": {
    "id": "21cqfTtu7v3r"
   },
   "source": [
    "Restaurants previously visited by Aaron\n"
   ]
  },
  {
   "cell_type": "code",
   "execution_count": null,
   "metadata": {
    "colab": {
     "base_uri": "https://localhost:8080/"
    },
    "id": "VItDHPQk7qTu",
    "outputId": "e161ca08-cc61-4a6e-8986-33daa618b76c"
   },
   "outputs": [
    {
     "name": "stdout",
     "output_type": "stream",
     "text": [
      "+--------------------------------+\n",
      "|name                            |\n",
      "+--------------------------------+\n",
      "|Pompei’s State Street Sandwiches|\n",
      "+--------------------------------+\n",
      "\n"
     ]
    }
   ],
   "source": [
    "business_ids = review_df.filter(col(\"user_id\") == \"A3DrdXmkNb1I6x-lSbj96g\") \\\n",
    "                         .select(\"business_id\") \\\n",
    "                         .distinct()\n",
    "business_names = business_ids.join(business_df, on=\"business_id\", how=\"inner\") \\\n",
    "                             .select(col(\"business_id\"), col(\"name\"))\n",
    "\n",
    "business_names.select('name').show(truncate=False)"
   ]
  },
  {
   "cell_type": "markdown",
   "metadata": {
    "id": "qrcSQtLd79Zu"
   },
   "source": [
    "Cluster number for Aaron"
   ]
  },
  {
   "cell_type": "code",
   "execution_count": null,
   "metadata": {
    "colab": {
     "base_uri": "https://localhost:8080/"
    },
    "id": "MVL0hfuL78Po",
    "outputId": "8c2cbbdf-34a7-4d06-8916-1393db9e61c1"
   },
   "outputs": [
    {
     "name": "stdout",
     "output_type": "stream",
     "text": [
      "3\n"
     ]
    }
   ],
   "source": [
    "filtered_df = predictions_user.filter(col('user_id') == 'A3DrdXmkNb1I6x-lSbj96g')\n",
    "\n",
    "prediction_value = filtered_df.select('prediction').collect()[0][0]\n",
    "\n",
    "print(prediction_value)"
   ]
  },
  {
   "cell_type": "markdown",
   "metadata": {
    "id": "wq2QHpsY4qxF"
   },
   "source": [
    "This user has visited over 1000 restaurants"
   ]
  },
  {
   "cell_type": "code",
   "execution_count": null,
   "metadata": {
    "colab": {
     "base_uri": "https://localhost:8080/"
    },
    "id": "omyyfmNG4pvx",
    "outputId": "b9c38f64-0a4e-4ce3-a124-51136c949839"
   },
   "outputs": [
    {
     "name": "stdout",
     "output_type": "stream",
     "text": [
      "+---------+-------------------------+------------+\n",
      "|name_user|name_restaurant          |cluster_type|\n",
      "+---------+-------------------------+------------+\n",
      "|Brett    |QDOBA Mexican Eats       |u           |\n",
      "|Brett    |QDOBA Mexican Eats       |u           |\n",
      "|Brett    |Biryani City             |u           |\n",
      "|Brett    |Miss Winnie's            |u           |\n",
      "|Brett    |Rio Brazilan Steak Truck |u           |\n",
      "|Brett    |Meat Wagon BBQ           |u           |\n",
      "|Brett    |Concerto Fusion          |u           |\n",
      "|Brett    |Tran's Chinese Food Cart |u           |\n",
      "|Brett    |Sake Hana                |u           |\n",
      "|Brett    |Kapow Kitchen            |u           |\n",
      "|Brett    |Rebel Taco               |u           |\n",
      "|Brett    |Buena Onda               |u           |\n",
      "|Brett    |Bibou                    |u           |\n",
      "|Brett    |Landolfi's Cafe & Deli   |u           |\n",
      "|Brett    |Ummi Dee's burger bistro |u           |\n",
      "|Brett    |WIBS                     |u           |\n",
      "|Brett    |Delorenzo's Tomato Pies  |u           |\n",
      "|Brett    |Diamante Pizzaria        |u           |\n",
      "|Brett    |Keshet Kitchen           |u           |\n",
      "|Brett    |Poke Bros                |u           |\n",
      "|Brett    |Rocky's Pizza and Grille |u           |\n",
      "|Brett    |Via Veneto Pizza         |u           |\n",
      "|Brett    |A'Dello Vineyard & Winery|u           |\n",
      "|Brett    |La Collina               |u           |\n",
      "|Brett    |Restaurant Alba          |u           |\n",
      "|Brett    |Avola Kitchen + Bar      |u           |\n",
      "|Brett    |Panera Bread             |u           |\n",
      "|Brett    |Mercer Cafe              |u           |\n",
      "|Brett    |Stove and Tap            |u           |\n",
      "|Brett    |IHOP                     |u           |\n",
      "|Brett    |Forsythia                |u           |\n",
      "|Brett    |WOOJUNG Sushi            |u           |\n",
      "+---------+-------------------------+------------+\n",
      "only showing top 32 rows\n",
      "\n"
     ]
    }
   ],
   "source": [
    "user_id='pou3BbKsIozfH50rxmnMew'\n",
    "b_cluster_recs=business_cluster_rec(user_id,visits_df, business_recommendations)\n",
    "u_cluster_recs=user_cluster_rec(user_id, visits_df, user_recommendations, business_recommendations)\n",
    "final=merge_recommendations(u_cluster_recs, b_cluster_recs, user_df, business_df)\n",
    "final.show(32,truncate=False)"
   ]
  },
  {
   "cell_type": "code",
   "execution_count": null,
   "metadata": {
    "colab": {
     "base_uri": "https://localhost:8080/"
    },
    "id": "zdHeaHOC9r83",
    "outputId": "49b30201-e460-4157-85c8-2441b66eb5ee"
   },
   "outputs": [
    {
     "name": "stdout",
     "output_type": "stream",
     "text": [
      "+----------------------------------------+\n",
      "|name                                    |\n",
      "+----------------------------------------+\n",
      "|The Independent                         |\n",
      "|Monstah Lobstah                         |\n",
      "|Endodontic Specialists                  |\n",
      "|CC's Coffee House                       |\n",
      "|Brady's BBQ                             |\n",
      "|Tire Choice Auto Service Centers        |\n",
      "|Zeko's Mediterranean Grill              |\n",
      "|Los Comparres                           |\n",
      "|Tryst Gastro Lounge                     |\n",
      "|Reservations Bistro                     |\n",
      "|Quality Foods Market                    |\n",
      "|Brew D Licious                          |\n",
      "|Ledo Pizza                              |\n",
      "|Zoes Kitchen                            |\n",
      "|Simply Delicious - Country Market & Deli|\n",
      "|Mazzaro's Italian Market                |\n",
      "|Icesmile                                |\n",
      "|Glazer Children's Museum                |\n",
      "|Angry Chair Brewing                     |\n",
      "|Bandit Coffee Co.                       |\n",
      "+----------------------------------------+\n",
      "only showing top 20 rows\n",
      "\n"
     ]
    }
   ],
   "source": [
    "business_ids = review_df.filter(col(\"user_id\") == \"pou3BbKsIozfH50rxmnMew\") \\\n",
    "                         .select(\"business_id\") \\\n",
    "                         .distinct()\n",
    "business_names = business_ids.join(business_df, on=\"business_id\", how=\"inner\") \\\n",
    "                             .select(col(\"business_id\"), col(\"name\"))\n",
    "\n",
    "business_names.select('name').show(truncate=False)"
   ]
  },
  {
   "cell_type": "code",
   "execution_count": null,
   "metadata": {
    "colab": {
     "base_uri": "https://localhost:8080/"
    },
    "id": "tVSovg9P1K7m",
    "outputId": "a4047853-7b9e-493c-be55-204864c5f141"
   },
   "outputs": [
    {
     "name": "stdout",
     "output_type": "stream",
     "text": [
      "+-----------+\n",
      "|       name|\n",
      "+-----------+\n",
      "|Kung Fu Tea|\n",
      "|Shake Shack|\n",
      "+-----------+\n",
      "\n"
     ]
    }
   ],
   "source": [
    "col1 = business_names.select('name')\n",
    "col2 = final.select(\"name_restaurant\")\n",
    "intersection = col1.intersect(col2)\n",
    "\n",
    "intersection.show()"
   ]
  },
  {
   "cell_type": "code",
   "execution_count": null,
   "metadata": {
    "colab": {
     "base_uri": "https://localhost:8080/"
    },
    "id": "pEYgrkXA9-Et",
    "outputId": "9cc5b229-69c0-4fc6-dc45-7e12ed66e5e0"
   },
   "outputs": [
    {
     "name": "stdout",
     "output_type": "stream",
     "text": [
      "4\n"
     ]
    }
   ],
   "source": [
    "filtered_df = predictions_user.filter(col('user_id') == 'pou3BbKsIozfH50rxmnMew')\n",
    "\n",
    "prediction_value = filtered_df.select('prediction').collect()[0][0]\n",
    "\n",
    "print(prediction_value)"
   ]
  },
  {
   "cell_type": "markdown",
   "metadata": {
    "id": "9DLIHfxg-Jah"
   },
   "source": [
    "Business cluster features"
   ]
  },
  {
   "cell_type": "code",
   "execution_count": null,
   "metadata": {
    "id": "ppPRzM1OhBFo"
   },
   "outputs": [],
   "source": [
    "def get_cluster_features(a, predictions_business): \n",
    "    \n",
    "    joined_df = a.join(predictions_business, on=['business_id'], how='inner')\n",
    "\n",
    "    selected_df = joined_df.select(predictions_business.columns).drop('features','prediction')\n",
    "    sums_df = selected_df.agg(*[sum(f.col(c)).alias(c) for c in selected_df.columns])\n",
    "\n",
    "    sorted_sums_df = sums_df.select('*').orderBy(desc(sums_df.columns[0])).drop(\"business_id\")\n",
    "\n",
    "    b = sorted_sums_df.toPandas()\n",
    "    cols = b.columns\n",
    "    list_2 = b.iloc[0].tolist()\n",
    "    \n",
    "    data = {'Feature names': cols, 'frequency': list_2}\n",
    "    df = pd.DataFrame(data)\n",
    "\n",
    "    df = df.sort_values('frequency', ascending=False)\n",
    "\n",
    "    return df\n"
   ]
  },
  {
   "cell_type": "code",
   "execution_count": null,
   "metadata": {
    "colab": {
     "base_uri": "https://localhost:8080/",
     "height": 676
    },
    "id": "QGcggnqpimca",
    "outputId": "20b35d1b-b4dc-46f9-ada9-1dedd418f0ac"
   },
   "outputs": [
    {
     "data": {
      "text/html": [
       "\n",
       "  <div id=\"df-a89aa35f-6fdf-41a6-ac04-709f720fb804\">\n",
       "    <div class=\"colab-df-container\">\n",
       "      <div>\n",
       "<style scoped>\n",
       "    .dataframe tbody tr th:only-of-type {\n",
       "        vertical-align: middle;\n",
       "    }\n",
       "\n",
       "    .dataframe tbody tr th {\n",
       "        vertical-align: top;\n",
       "    }\n",
       "\n",
       "    .dataframe thead th {\n",
       "        text-align: right;\n",
       "    }\n",
       "</style>\n",
       "<table border=\"1\" class=\"dataframe\">\n",
       "  <thead>\n",
       "    <tr style=\"text-align: right;\">\n",
       "      <th></th>\n",
       "      <th>Feature names</th>\n",
       "      <th>frequency</th>\n",
       "    </tr>\n",
       "  </thead>\n",
       "  <tbody>\n",
       "    <tr>\n",
       "      <th>28</th>\n",
       "      <td>Chinese</td>\n",
       "      <td>595</td>\n",
       "    </tr>\n",
       "    <tr>\n",
       "      <th>59</th>\n",
       "      <td>Japanese</td>\n",
       "      <td>295</td>\n",
       "    </tr>\n",
       "    <tr>\n",
       "      <th>7</th>\n",
       "      <td>Mexican</td>\n",
       "      <td>281</td>\n",
       "    </tr>\n",
       "    <tr>\n",
       "      <th>123</th>\n",
       "      <td>Seafood</td>\n",
       "      <td>279</td>\n",
       "    </tr>\n",
       "    <tr>\n",
       "      <th>138</th>\n",
       "      <td>American (New</td>\n",
       "      <td>233</td>\n",
       "    </tr>\n",
       "    <tr>\n",
       "      <th>139</th>\n",
       "      <td>Asian Fusion</td>\n",
       "      <td>230</td>\n",
       "    </tr>\n",
       "    <tr>\n",
       "      <th>93</th>\n",
       "      <td>Sushi Bars</td>\n",
       "      <td>229</td>\n",
       "    </tr>\n",
       "    <tr>\n",
       "      <th>119</th>\n",
       "      <td>American (Traditional</td>\n",
       "      <td>226</td>\n",
       "    </tr>\n",
       "    <tr>\n",
       "      <th>65</th>\n",
       "      <td>Event Planning &amp; Services</td>\n",
       "      <td>206</td>\n",
       "    </tr>\n",
       "    <tr>\n",
       "      <th>145</th>\n",
       "      <td>Specialty Food</td>\n",
       "      <td>201</td>\n",
       "    </tr>\n",
       "    <tr>\n",
       "      <th>84</th>\n",
       "      <td>Italian</td>\n",
       "      <td>195</td>\n",
       "    </tr>\n",
       "    <tr>\n",
       "      <th>12</th>\n",
       "      <td>Bakeries</td>\n",
       "      <td>195</td>\n",
       "    </tr>\n",
       "    <tr>\n",
       "      <th>136</th>\n",
       "      <td>Delis</td>\n",
       "      <td>178</td>\n",
       "    </tr>\n",
       "    <tr>\n",
       "      <th>80</th>\n",
       "      <td>Coffee &amp; Tea</td>\n",
       "      <td>146</td>\n",
       "    </tr>\n",
       "    <tr>\n",
       "      <th>19</th>\n",
       "      <td>Thai</td>\n",
       "      <td>141</td>\n",
       "    </tr>\n",
       "    <tr>\n",
       "      <th>26</th>\n",
       "      <td>Indian</td>\n",
       "      <td>127</td>\n",
       "    </tr>\n",
       "    <tr>\n",
       "      <th>98</th>\n",
       "      <td>Caterers</td>\n",
       "      <td>126</td>\n",
       "    </tr>\n",
       "    <tr>\n",
       "      <th>52</th>\n",
       "      <td>Grocery</td>\n",
       "      <td>117</td>\n",
       "    </tr>\n",
       "    <tr>\n",
       "      <th>113</th>\n",
       "      <td>Desserts</td>\n",
       "      <td>114</td>\n",
       "    </tr>\n",
       "    <tr>\n",
       "      <th>101</th>\n",
       "      <td>Vegetarian</td>\n",
       "      <td>112</td>\n",
       "    </tr>\n",
       "  </tbody>\n",
       "</table>\n",
       "</div>\n",
       "      <button class=\"colab-df-convert\" onclick=\"convertToInteractive('df-a89aa35f-6fdf-41a6-ac04-709f720fb804')\"\n",
       "              title=\"Convert this dataframe to an interactive table.\"\n",
       "              style=\"display:none;\">\n",
       "        \n",
       "  <svg xmlns=\"http://www.w3.org/2000/svg\" height=\"24px\"viewBox=\"0 0 24 24\"\n",
       "       width=\"24px\">\n",
       "    <path d=\"M0 0h24v24H0V0z\" fill=\"none\"/>\n",
       "    <path d=\"M18.56 5.44l.94 2.06.94-2.06 2.06-.94-2.06-.94-.94-2.06-.94 2.06-2.06.94zm-11 1L8.5 8.5l.94-2.06 2.06-.94-2.06-.94L8.5 2.5l-.94 2.06-2.06.94zm10 10l.94 2.06.94-2.06 2.06-.94-2.06-.94-.94-2.06-.94 2.06-2.06.94z\"/><path d=\"M17.41 7.96l-1.37-1.37c-.4-.4-.92-.59-1.43-.59-.52 0-1.04.2-1.43.59L10.3 9.45l-7.72 7.72c-.78.78-.78 2.05 0 2.83L4 21.41c.39.39.9.59 1.41.59.51 0 1.02-.2 1.41-.59l7.78-7.78 2.81-2.81c.8-.78.8-2.07 0-2.86zM5.41 20L4 18.59l7.72-7.72 1.47 1.35L5.41 20z\"/>\n",
       "  </svg>\n",
       "      </button>\n",
       "      \n",
       "  <style>\n",
       "    .colab-df-container {\n",
       "      display:flex;\n",
       "      flex-wrap:wrap;\n",
       "      gap: 12px;\n",
       "    }\n",
       "\n",
       "    .colab-df-convert {\n",
       "      background-color: #E8F0FE;\n",
       "      border: none;\n",
       "      border-radius: 50%;\n",
       "      cursor: pointer;\n",
       "      display: none;\n",
       "      fill: #1967D2;\n",
       "      height: 32px;\n",
       "      padding: 0 0 0 0;\n",
       "      width: 32px;\n",
       "    }\n",
       "\n",
       "    .colab-df-convert:hover {\n",
       "      background-color: #E2EBFA;\n",
       "      box-shadow: 0px 1px 2px rgba(60, 64, 67, 0.3), 0px 1px 3px 1px rgba(60, 64, 67, 0.15);\n",
       "      fill: #174EA6;\n",
       "    }\n",
       "\n",
       "    [theme=dark] .colab-df-convert {\n",
       "      background-color: #3B4455;\n",
       "      fill: #D2E3FC;\n",
       "    }\n",
       "\n",
       "    [theme=dark] .colab-df-convert:hover {\n",
       "      background-color: #434B5C;\n",
       "      box-shadow: 0px 1px 3px 1px rgba(0, 0, 0, 0.15);\n",
       "      filter: drop-shadow(0px 1px 2px rgba(0, 0, 0, 0.3));\n",
       "      fill: #FFFFFF;\n",
       "    }\n",
       "  </style>\n",
       "\n",
       "      <script>\n",
       "        const buttonEl =\n",
       "          document.querySelector('#df-a89aa35f-6fdf-41a6-ac04-709f720fb804 button.colab-df-convert');\n",
       "        buttonEl.style.display =\n",
       "          google.colab.kernel.accessAllowed ? 'block' : 'none';\n",
       "\n",
       "        async function convertToInteractive(key) {\n",
       "          const element = document.querySelector('#df-a89aa35f-6fdf-41a6-ac04-709f720fb804');\n",
       "          const dataTable =\n",
       "            await google.colab.kernel.invokeFunction('convertToInteractive',\n",
       "                                                     [key], {});\n",
       "          if (!dataTable) return;\n",
       "\n",
       "          const docLinkHtml = 'Like what you see? Visit the ' +\n",
       "            '<a target=\"_blank\" href=https://colab.research.google.com/notebooks/data_table.ipynb>data table notebook</a>'\n",
       "            + ' to learn more about interactive tables.';\n",
       "          element.innerHTML = '';\n",
       "          dataTable['output_type'] = 'display_data';\n",
       "          await google.colab.output.renderOutput(dataTable, element);\n",
       "          const docLink = document.createElement('div');\n",
       "          docLink.innerHTML = docLinkHtml;\n",
       "          element.appendChild(docLink);\n",
       "        }\n",
       "      </script>\n",
       "    </div>\n",
       "  </div>\n",
       "  "
      ],
      "text/plain": [
       "                 Feature names  frequency\n",
       "28                     Chinese        595\n",
       "59                    Japanese        295\n",
       "7                      Mexican        281\n",
       "123                    Seafood        279\n",
       "138              American (New        233\n",
       "139               Asian Fusion        230\n",
       "93                  Sushi Bars        229\n",
       "119      American (Traditional        226\n",
       "65   Event Planning & Services        206\n",
       "145             Specialty Food        201\n",
       "84                     Italian        195\n",
       "12                    Bakeries        195\n",
       "136                      Delis        178\n",
       "80                Coffee & Tea        146\n",
       "19                        Thai        141\n",
       "26                      Indian        127\n",
       "98                    Caterers        126\n",
       "52                     Grocery        117\n",
       "113                   Desserts        114\n",
       "101                 Vegetarian        112"
      ]
     },
     "execution_count": 51,
     "metadata": {},
     "output_type": "execute_result"
    }
   ],
   "source": [
    "cluster_0=dict_businesses['cluster_0'].drop('features','prediction')\n",
    "cluster_0_features = get_cluster_features(cluster_0, predictions_business)\n",
    "cluster_0_features.head(20)"
   ]
  },
  {
   "cell_type": "code",
   "execution_count": null,
   "metadata": {
    "colab": {
     "base_uri": "https://localhost:8080/",
     "height": 676
    },
    "id": "YTiT7-Exj1XG",
    "outputId": "cb32b032-bc0f-4b51-902e-6399aaf3838a"
   },
   "outputs": [
    {
     "data": {
      "text/html": [
       "\n",
       "  <div id=\"df-27489107-5deb-4d8d-b1e9-e1e27d82ced3\">\n",
       "    <div class=\"colab-df-container\">\n",
       "      <div>\n",
       "<style scoped>\n",
       "    .dataframe tbody tr th:only-of-type {\n",
       "        vertical-align: middle;\n",
       "    }\n",
       "\n",
       "    .dataframe tbody tr th {\n",
       "        vertical-align: top;\n",
       "    }\n",
       "\n",
       "    .dataframe thead th {\n",
       "        text-align: right;\n",
       "    }\n",
       "</style>\n",
       "<table border=\"1\" class=\"dataframe\">\n",
       "  <thead>\n",
       "    <tr style=\"text-align: right;\">\n",
       "      <th></th>\n",
       "      <th>Feature names</th>\n",
       "      <th>frequency</th>\n",
       "    </tr>\n",
       "  </thead>\n",
       "  <tbody>\n",
       "    <tr>\n",
       "      <th>74</th>\n",
       "      <td>Pizza</td>\n",
       "      <td>1354</td>\n",
       "    </tr>\n",
       "    <tr>\n",
       "      <th>84</th>\n",
       "      <td>Italian</td>\n",
       "      <td>474</td>\n",
       "    </tr>\n",
       "    <tr>\n",
       "      <th>97</th>\n",
       "      <td>Sandwiches</td>\n",
       "      <td>324</td>\n",
       "    </tr>\n",
       "    <tr>\n",
       "      <th>75</th>\n",
       "      <td>Chicken Wings</td>\n",
       "      <td>122</td>\n",
       "    </tr>\n",
       "    <tr>\n",
       "      <th>61</th>\n",
       "      <td>Cheesesteaks</td>\n",
       "      <td>118</td>\n",
       "    </tr>\n",
       "    <tr>\n",
       "      <th>2</th>\n",
       "      <td>Salad</td>\n",
       "      <td>107</td>\n",
       "    </tr>\n",
       "    <tr>\n",
       "      <th>119</th>\n",
       "      <td>American (Traditional</td>\n",
       "      <td>94</td>\n",
       "    </tr>\n",
       "    <tr>\n",
       "      <th>73</th>\n",
       "      <td>Burgers</td>\n",
       "      <td>81</td>\n",
       "    </tr>\n",
       "    <tr>\n",
       "      <th>65</th>\n",
       "      <td>Event Planning &amp; Services</td>\n",
       "      <td>72</td>\n",
       "    </tr>\n",
       "    <tr>\n",
       "      <th>98</th>\n",
       "      <td>Caterers</td>\n",
       "      <td>64</td>\n",
       "    </tr>\n",
       "    <tr>\n",
       "      <th>115</th>\n",
       "      <td>Food Delivery Services</td>\n",
       "      <td>61</td>\n",
       "    </tr>\n",
       "    <tr>\n",
       "      <th>123</th>\n",
       "      <td>Seafood</td>\n",
       "      <td>45</td>\n",
       "    </tr>\n",
       "    <tr>\n",
       "      <th>138</th>\n",
       "      <td>American (New</td>\n",
       "      <td>43</td>\n",
       "    </tr>\n",
       "    <tr>\n",
       "      <th>145</th>\n",
       "      <td>Specialty Food</td>\n",
       "      <td>35</td>\n",
       "    </tr>\n",
       "    <tr>\n",
       "      <th>68</th>\n",
       "      <td>Fast Food</td>\n",
       "      <td>35</td>\n",
       "    </tr>\n",
       "    <tr>\n",
       "      <th>113</th>\n",
       "      <td>Desserts</td>\n",
       "      <td>32</td>\n",
       "    </tr>\n",
       "    <tr>\n",
       "      <th>13</th>\n",
       "      <td>Gluten-Free</td>\n",
       "      <td>29</td>\n",
       "    </tr>\n",
       "    <tr>\n",
       "      <th>117</th>\n",
       "      <td>Pasta Shops</td>\n",
       "      <td>25</td>\n",
       "    </tr>\n",
       "    <tr>\n",
       "      <th>136</th>\n",
       "      <td>Delis</td>\n",
       "      <td>25</td>\n",
       "    </tr>\n",
       "    <tr>\n",
       "      <th>142</th>\n",
       "      <td>Mediterranean</td>\n",
       "      <td>21</td>\n",
       "    </tr>\n",
       "  </tbody>\n",
       "</table>\n",
       "</div>\n",
       "      <button class=\"colab-df-convert\" onclick=\"convertToInteractive('df-27489107-5deb-4d8d-b1e9-e1e27d82ced3')\"\n",
       "              title=\"Convert this dataframe to an interactive table.\"\n",
       "              style=\"display:none;\">\n",
       "        \n",
       "  <svg xmlns=\"http://www.w3.org/2000/svg\" height=\"24px\"viewBox=\"0 0 24 24\"\n",
       "       width=\"24px\">\n",
       "    <path d=\"M0 0h24v24H0V0z\" fill=\"none\"/>\n",
       "    <path d=\"M18.56 5.44l.94 2.06.94-2.06 2.06-.94-2.06-.94-.94-2.06-.94 2.06-2.06.94zm-11 1L8.5 8.5l.94-2.06 2.06-.94-2.06-.94L8.5 2.5l-.94 2.06-2.06.94zm10 10l.94 2.06.94-2.06 2.06-.94-2.06-.94-.94-2.06-.94 2.06-2.06.94z\"/><path d=\"M17.41 7.96l-1.37-1.37c-.4-.4-.92-.59-1.43-.59-.52 0-1.04.2-1.43.59L10.3 9.45l-7.72 7.72c-.78.78-.78 2.05 0 2.83L4 21.41c.39.39.9.59 1.41.59.51 0 1.02-.2 1.41-.59l7.78-7.78 2.81-2.81c.8-.78.8-2.07 0-2.86zM5.41 20L4 18.59l7.72-7.72 1.47 1.35L5.41 20z\"/>\n",
       "  </svg>\n",
       "      </button>\n",
       "      \n",
       "  <style>\n",
       "    .colab-df-container {\n",
       "      display:flex;\n",
       "      flex-wrap:wrap;\n",
       "      gap: 12px;\n",
       "    }\n",
       "\n",
       "    .colab-df-convert {\n",
       "      background-color: #E8F0FE;\n",
       "      border: none;\n",
       "      border-radius: 50%;\n",
       "      cursor: pointer;\n",
       "      display: none;\n",
       "      fill: #1967D2;\n",
       "      height: 32px;\n",
       "      padding: 0 0 0 0;\n",
       "      width: 32px;\n",
       "    }\n",
       "\n",
       "    .colab-df-convert:hover {\n",
       "      background-color: #E2EBFA;\n",
       "      box-shadow: 0px 1px 2px rgba(60, 64, 67, 0.3), 0px 1px 3px 1px rgba(60, 64, 67, 0.15);\n",
       "      fill: #174EA6;\n",
       "    }\n",
       "\n",
       "    [theme=dark] .colab-df-convert {\n",
       "      background-color: #3B4455;\n",
       "      fill: #D2E3FC;\n",
       "    }\n",
       "\n",
       "    [theme=dark] .colab-df-convert:hover {\n",
       "      background-color: #434B5C;\n",
       "      box-shadow: 0px 1px 3px 1px rgba(0, 0, 0, 0.15);\n",
       "      filter: drop-shadow(0px 1px 2px rgba(0, 0, 0, 0.3));\n",
       "      fill: #FFFFFF;\n",
       "    }\n",
       "  </style>\n",
       "\n",
       "      <script>\n",
       "        const buttonEl =\n",
       "          document.querySelector('#df-27489107-5deb-4d8d-b1e9-e1e27d82ced3 button.colab-df-convert');\n",
       "        buttonEl.style.display =\n",
       "          google.colab.kernel.accessAllowed ? 'block' : 'none';\n",
       "\n",
       "        async function convertToInteractive(key) {\n",
       "          const element = document.querySelector('#df-27489107-5deb-4d8d-b1e9-e1e27d82ced3');\n",
       "          const dataTable =\n",
       "            await google.colab.kernel.invokeFunction('convertToInteractive',\n",
       "                                                     [key], {});\n",
       "          if (!dataTable) return;\n",
       "\n",
       "          const docLinkHtml = 'Like what you see? Visit the ' +\n",
       "            '<a target=\"_blank\" href=https://colab.research.google.com/notebooks/data_table.ipynb>data table notebook</a>'\n",
       "            + ' to learn more about interactive tables.';\n",
       "          element.innerHTML = '';\n",
       "          dataTable['output_type'] = 'display_data';\n",
       "          await google.colab.output.renderOutput(dataTable, element);\n",
       "          const docLink = document.createElement('div');\n",
       "          docLink.innerHTML = docLinkHtml;\n",
       "          element.appendChild(docLink);\n",
       "        }\n",
       "      </script>\n",
       "    </div>\n",
       "  </div>\n",
       "  "
      ],
      "text/plain": [
       "                 Feature names  frequency\n",
       "74                       Pizza       1354\n",
       "84                     Italian        474\n",
       "97                  Sandwiches        324\n",
       "75               Chicken Wings        122\n",
       "61                Cheesesteaks        118\n",
       "2                        Salad        107\n",
       "119      American (Traditional         94\n",
       "73                     Burgers         81\n",
       "65   Event Planning & Services         72\n",
       "98                    Caterers         64\n",
       "115     Food Delivery Services         61\n",
       "123                    Seafood         45\n",
       "138              American (New         43\n",
       "145             Specialty Food         35\n",
       "68                   Fast Food         35\n",
       "113                   Desserts         32\n",
       "13                 Gluten-Free         29\n",
       "117                Pasta Shops         25\n",
       "136                      Delis         25\n",
       "142              Mediterranean         21"
      ]
     },
     "execution_count": 52,
     "metadata": {},
     "output_type": "execute_result"
    }
   ],
   "source": [
    "cluster_1=dict_businesses['cluster_1'].drop('features','prediction')\n",
    "cluster_1_features = get_cluster_features(cluster_1, predictions_business)\n",
    "cluster_1_features.head(20)"
   ]
  },
  {
   "cell_type": "code",
   "execution_count": null,
   "metadata": {
    "colab": {
     "base_uri": "https://localhost:8080/",
     "height": 676
    },
    "id": "p2j3tiGpj4Zr",
    "outputId": "06681d1a-dc8d-4723-f99d-6118e2f58710"
   },
   "outputs": [
    {
     "data": {
      "text/html": [
       "\n",
       "  <div id=\"df-88d10070-cdda-41e3-88ff-1bd35df3ba27\">\n",
       "    <div class=\"colab-df-container\">\n",
       "      <div>\n",
       "<style scoped>\n",
       "    .dataframe tbody tr th:only-of-type {\n",
       "        vertical-align: middle;\n",
       "    }\n",
       "\n",
       "    .dataframe tbody tr th {\n",
       "        vertical-align: top;\n",
       "    }\n",
       "\n",
       "    .dataframe thead th {\n",
       "        text-align: right;\n",
       "    }\n",
       "</style>\n",
       "<table border=\"1\" class=\"dataframe\">\n",
       "  <thead>\n",
       "    <tr style=\"text-align: right;\">\n",
       "      <th></th>\n",
       "      <th>Feature names</th>\n",
       "      <th>frequency</th>\n",
       "    </tr>\n",
       "  </thead>\n",
       "  <tbody>\n",
       "    <tr>\n",
       "      <th>48</th>\n",
       "      <td>Nightlife</td>\n",
       "      <td>502</td>\n",
       "    </tr>\n",
       "    <tr>\n",
       "      <th>119</th>\n",
       "      <td>American (Traditional</td>\n",
       "      <td>502</td>\n",
       "    </tr>\n",
       "    <tr>\n",
       "      <th>143</th>\n",
       "      <td>Bars</td>\n",
       "      <td>493</td>\n",
       "    </tr>\n",
       "    <tr>\n",
       "      <th>15</th>\n",
       "      <td>Sports Bars</td>\n",
       "      <td>156</td>\n",
       "    </tr>\n",
       "    <tr>\n",
       "      <th>138</th>\n",
       "      <td>American (New</td>\n",
       "      <td>135</td>\n",
       "    </tr>\n",
       "    <tr>\n",
       "      <th>144</th>\n",
       "      <td>Pubs</td>\n",
       "      <td>125</td>\n",
       "    </tr>\n",
       "    <tr>\n",
       "      <th>73</th>\n",
       "      <td>Burgers</td>\n",
       "      <td>73</td>\n",
       "    </tr>\n",
       "    <tr>\n",
       "      <th>65</th>\n",
       "      <td>Event Planning &amp; Services</td>\n",
       "      <td>66</td>\n",
       "    </tr>\n",
       "    <tr>\n",
       "      <th>69</th>\n",
       "      <td>Cocktail Bars</td>\n",
       "      <td>60</td>\n",
       "    </tr>\n",
       "    <tr>\n",
       "      <th>123</th>\n",
       "      <td>Seafood</td>\n",
       "      <td>58</td>\n",
       "    </tr>\n",
       "    <tr>\n",
       "      <th>55</th>\n",
       "      <td>Breakfast &amp; Brunch</td>\n",
       "      <td>53</td>\n",
       "    </tr>\n",
       "    <tr>\n",
       "      <th>118</th>\n",
       "      <td>Beer</td>\n",
       "      <td>50</td>\n",
       "    </tr>\n",
       "    <tr>\n",
       "      <th>132</th>\n",
       "      <td>Wine &amp; Spirits</td>\n",
       "      <td>50</td>\n",
       "    </tr>\n",
       "    <tr>\n",
       "      <th>20</th>\n",
       "      <td>Venues &amp; Event Spaces</td>\n",
       "      <td>49</td>\n",
       "    </tr>\n",
       "    <tr>\n",
       "      <th>3</th>\n",
       "      <td>Beer Bar</td>\n",
       "      <td>47</td>\n",
       "    </tr>\n",
       "    <tr>\n",
       "      <th>97</th>\n",
       "      <td>Sandwiches</td>\n",
       "      <td>41</td>\n",
       "    </tr>\n",
       "    <tr>\n",
       "      <th>16</th>\n",
       "      <td>Gastropubs</td>\n",
       "      <td>41</td>\n",
       "    </tr>\n",
       "    <tr>\n",
       "      <th>74</th>\n",
       "      <td>Pizza</td>\n",
       "      <td>38</td>\n",
       "    </tr>\n",
       "    <tr>\n",
       "      <th>60</th>\n",
       "      <td>Arts &amp; Entertainment</td>\n",
       "      <td>37</td>\n",
       "    </tr>\n",
       "    <tr>\n",
       "      <th>134</th>\n",
       "      <td>Steakhouses</td>\n",
       "      <td>37</td>\n",
       "    </tr>\n",
       "  </tbody>\n",
       "</table>\n",
       "</div>\n",
       "      <button class=\"colab-df-convert\" onclick=\"convertToInteractive('df-88d10070-cdda-41e3-88ff-1bd35df3ba27')\"\n",
       "              title=\"Convert this dataframe to an interactive table.\"\n",
       "              style=\"display:none;\">\n",
       "        \n",
       "  <svg xmlns=\"http://www.w3.org/2000/svg\" height=\"24px\"viewBox=\"0 0 24 24\"\n",
       "       width=\"24px\">\n",
       "    <path d=\"M0 0h24v24H0V0z\" fill=\"none\"/>\n",
       "    <path d=\"M18.56 5.44l.94 2.06.94-2.06 2.06-.94-2.06-.94-.94-2.06-.94 2.06-2.06.94zm-11 1L8.5 8.5l.94-2.06 2.06-.94-2.06-.94L8.5 2.5l-.94 2.06-2.06.94zm10 10l.94 2.06.94-2.06 2.06-.94-2.06-.94-.94-2.06-.94 2.06-2.06.94z\"/><path d=\"M17.41 7.96l-1.37-1.37c-.4-.4-.92-.59-1.43-.59-.52 0-1.04.2-1.43.59L10.3 9.45l-7.72 7.72c-.78.78-.78 2.05 0 2.83L4 21.41c.39.39.9.59 1.41.59.51 0 1.02-.2 1.41-.59l7.78-7.78 2.81-2.81c.8-.78.8-2.07 0-2.86zM5.41 20L4 18.59l7.72-7.72 1.47 1.35L5.41 20z\"/>\n",
       "  </svg>\n",
       "      </button>\n",
       "      \n",
       "  <style>\n",
       "    .colab-df-container {\n",
       "      display:flex;\n",
       "      flex-wrap:wrap;\n",
       "      gap: 12px;\n",
       "    }\n",
       "\n",
       "    .colab-df-convert {\n",
       "      background-color: #E8F0FE;\n",
       "      border: none;\n",
       "      border-radius: 50%;\n",
       "      cursor: pointer;\n",
       "      display: none;\n",
       "      fill: #1967D2;\n",
       "      height: 32px;\n",
       "      padding: 0 0 0 0;\n",
       "      width: 32px;\n",
       "    }\n",
       "\n",
       "    .colab-df-convert:hover {\n",
       "      background-color: #E2EBFA;\n",
       "      box-shadow: 0px 1px 2px rgba(60, 64, 67, 0.3), 0px 1px 3px 1px rgba(60, 64, 67, 0.15);\n",
       "      fill: #174EA6;\n",
       "    }\n",
       "\n",
       "    [theme=dark] .colab-df-convert {\n",
       "      background-color: #3B4455;\n",
       "      fill: #D2E3FC;\n",
       "    }\n",
       "\n",
       "    [theme=dark] .colab-df-convert:hover {\n",
       "      background-color: #434B5C;\n",
       "      box-shadow: 0px 1px 3px 1px rgba(0, 0, 0, 0.15);\n",
       "      filter: drop-shadow(0px 1px 2px rgba(0, 0, 0, 0.3));\n",
       "      fill: #FFFFFF;\n",
       "    }\n",
       "  </style>\n",
       "\n",
       "      <script>\n",
       "        const buttonEl =\n",
       "          document.querySelector('#df-88d10070-cdda-41e3-88ff-1bd35df3ba27 button.colab-df-convert');\n",
       "        buttonEl.style.display =\n",
       "          google.colab.kernel.accessAllowed ? 'block' : 'none';\n",
       "\n",
       "        async function convertToInteractive(key) {\n",
       "          const element = document.querySelector('#df-88d10070-cdda-41e3-88ff-1bd35df3ba27');\n",
       "          const dataTable =\n",
       "            await google.colab.kernel.invokeFunction('convertToInteractive',\n",
       "                                                     [key], {});\n",
       "          if (!dataTable) return;\n",
       "\n",
       "          const docLinkHtml = 'Like what you see? Visit the ' +\n",
       "            '<a target=\"_blank\" href=https://colab.research.google.com/notebooks/data_table.ipynb>data table notebook</a>'\n",
       "            + ' to learn more about interactive tables.';\n",
       "          element.innerHTML = '';\n",
       "          dataTable['output_type'] = 'display_data';\n",
       "          await google.colab.output.renderOutput(dataTable, element);\n",
       "          const docLink = document.createElement('div');\n",
       "          docLink.innerHTML = docLinkHtml;\n",
       "          element.appendChild(docLink);\n",
       "        }\n",
       "      </script>\n",
       "    </div>\n",
       "  </div>\n",
       "  "
      ],
      "text/plain": [
       "                 Feature names  frequency\n",
       "48                   Nightlife        502\n",
       "119      American (Traditional        502\n",
       "143                       Bars        493\n",
       "15                 Sports Bars        156\n",
       "138              American (New        135\n",
       "144                       Pubs        125\n",
       "73                     Burgers         73\n",
       "65   Event Planning & Services         66\n",
       "69               Cocktail Bars         60\n",
       "123                    Seafood         58\n",
       "55          Breakfast & Brunch         53\n",
       "118                       Beer         50\n",
       "132             Wine & Spirits         50\n",
       "20       Venues & Event Spaces         49\n",
       "3                     Beer Bar         47\n",
       "97                  Sandwiches         41\n",
       "16                  Gastropubs         41\n",
       "74                       Pizza         38\n",
       "60        Arts & Entertainment         37\n",
       "134                Steakhouses         37"
      ]
     },
     "execution_count": 53,
     "metadata": {},
     "output_type": "execute_result"
    }
   ],
   "source": [
    "cluster_2=dict_businesses['cluster_2'].drop('features','prediction')\n",
    "cluster_2_features = get_cluster_features(cluster_2, predictions_business)\n",
    "cluster_2_features.head(20)"
   ]
  },
  {
   "cell_type": "code",
   "execution_count": null,
   "metadata": {
    "colab": {
     "base_uri": "https://localhost:8080/",
     "height": 676
    },
    "id": "EmRthJLOkF7L",
    "outputId": "0bf6b87e-e119-48cc-bd27-e02c1d614a85"
   },
   "outputs": [
    {
     "data": {
      "text/html": [
       "\n",
       "  <div id=\"df-7536e119-ff5b-4d1b-bab9-dbceaea5e49c\">\n",
       "    <div class=\"colab-df-container\">\n",
       "      <div>\n",
       "<style scoped>\n",
       "    .dataframe tbody tr th:only-of-type {\n",
       "        vertical-align: middle;\n",
       "    }\n",
       "\n",
       "    .dataframe tbody tr th {\n",
       "        vertical-align: top;\n",
       "    }\n",
       "\n",
       "    .dataframe thead th {\n",
       "        text-align: right;\n",
       "    }\n",
       "</style>\n",
       "<table border=\"1\" class=\"dataframe\">\n",
       "  <thead>\n",
       "    <tr style=\"text-align: right;\">\n",
       "      <th></th>\n",
       "      <th>Feature names</th>\n",
       "      <th>frequency</th>\n",
       "    </tr>\n",
       "  </thead>\n",
       "  <tbody>\n",
       "    <tr>\n",
       "      <th>48</th>\n",
       "      <td>Nightlife</td>\n",
       "      <td>736</td>\n",
       "    </tr>\n",
       "    <tr>\n",
       "      <th>143</th>\n",
       "      <td>Bars</td>\n",
       "      <td>724</td>\n",
       "    </tr>\n",
       "    <tr>\n",
       "      <th>138</th>\n",
       "      <td>American (New</td>\n",
       "      <td>229</td>\n",
       "    </tr>\n",
       "    <tr>\n",
       "      <th>69</th>\n",
       "      <td>Cocktail Bars</td>\n",
       "      <td>142</td>\n",
       "    </tr>\n",
       "    <tr>\n",
       "      <th>144</th>\n",
       "      <td>Pubs</td>\n",
       "      <td>128</td>\n",
       "    </tr>\n",
       "    <tr>\n",
       "      <th>84</th>\n",
       "      <td>Italian</td>\n",
       "      <td>110</td>\n",
       "    </tr>\n",
       "    <tr>\n",
       "      <th>74</th>\n",
       "      <td>Pizza</td>\n",
       "      <td>89</td>\n",
       "    </tr>\n",
       "    <tr>\n",
       "      <th>30</th>\n",
       "      <td>Wine Bars</td>\n",
       "      <td>85</td>\n",
       "    </tr>\n",
       "    <tr>\n",
       "      <th>123</th>\n",
       "      <td>Seafood</td>\n",
       "      <td>82</td>\n",
       "    </tr>\n",
       "    <tr>\n",
       "      <th>3</th>\n",
       "      <td>Beer Bar</td>\n",
       "      <td>82</td>\n",
       "    </tr>\n",
       "    <tr>\n",
       "      <th>97</th>\n",
       "      <td>Sandwiches</td>\n",
       "      <td>78</td>\n",
       "    </tr>\n",
       "    <tr>\n",
       "      <th>15</th>\n",
       "      <td>Sports Bars</td>\n",
       "      <td>78</td>\n",
       "    </tr>\n",
       "    <tr>\n",
       "      <th>55</th>\n",
       "      <td>Breakfast &amp; Brunch</td>\n",
       "      <td>75</td>\n",
       "    </tr>\n",
       "    <tr>\n",
       "      <th>132</th>\n",
       "      <td>Wine &amp; Spirits</td>\n",
       "      <td>66</td>\n",
       "    </tr>\n",
       "    <tr>\n",
       "      <th>17</th>\n",
       "      <td>Lounges</td>\n",
       "      <td>66</td>\n",
       "    </tr>\n",
       "    <tr>\n",
       "      <th>118</th>\n",
       "      <td>Beer</td>\n",
       "      <td>66</td>\n",
       "    </tr>\n",
       "    <tr>\n",
       "      <th>7</th>\n",
       "      <td>Mexican</td>\n",
       "      <td>62</td>\n",
       "    </tr>\n",
       "    <tr>\n",
       "      <th>65</th>\n",
       "      <td>Event Planning &amp; Services</td>\n",
       "      <td>56</td>\n",
       "    </tr>\n",
       "    <tr>\n",
       "      <th>16</th>\n",
       "      <td>Gastropubs</td>\n",
       "      <td>53</td>\n",
       "    </tr>\n",
       "    <tr>\n",
       "      <th>60</th>\n",
       "      <td>Arts &amp; Entertainment</td>\n",
       "      <td>47</td>\n",
       "    </tr>\n",
       "  </tbody>\n",
       "</table>\n",
       "</div>\n",
       "      <button class=\"colab-df-convert\" onclick=\"convertToInteractive('df-7536e119-ff5b-4d1b-bab9-dbceaea5e49c')\"\n",
       "              title=\"Convert this dataframe to an interactive table.\"\n",
       "              style=\"display:none;\">\n",
       "        \n",
       "  <svg xmlns=\"http://www.w3.org/2000/svg\" height=\"24px\"viewBox=\"0 0 24 24\"\n",
       "       width=\"24px\">\n",
       "    <path d=\"M0 0h24v24H0V0z\" fill=\"none\"/>\n",
       "    <path d=\"M18.56 5.44l.94 2.06.94-2.06 2.06-.94-2.06-.94-.94-2.06-.94 2.06-2.06.94zm-11 1L8.5 8.5l.94-2.06 2.06-.94-2.06-.94L8.5 2.5l-.94 2.06-2.06.94zm10 10l.94 2.06.94-2.06 2.06-.94-2.06-.94-.94-2.06-.94 2.06-2.06.94z\"/><path d=\"M17.41 7.96l-1.37-1.37c-.4-.4-.92-.59-1.43-.59-.52 0-1.04.2-1.43.59L10.3 9.45l-7.72 7.72c-.78.78-.78 2.05 0 2.83L4 21.41c.39.39.9.59 1.41.59.51 0 1.02-.2 1.41-.59l7.78-7.78 2.81-2.81c.8-.78.8-2.07 0-2.86zM5.41 20L4 18.59l7.72-7.72 1.47 1.35L5.41 20z\"/>\n",
       "  </svg>\n",
       "      </button>\n",
       "      \n",
       "  <style>\n",
       "    .colab-df-container {\n",
       "      display:flex;\n",
       "      flex-wrap:wrap;\n",
       "      gap: 12px;\n",
       "    }\n",
       "\n",
       "    .colab-df-convert {\n",
       "      background-color: #E8F0FE;\n",
       "      border: none;\n",
       "      border-radius: 50%;\n",
       "      cursor: pointer;\n",
       "      display: none;\n",
       "      fill: #1967D2;\n",
       "      height: 32px;\n",
       "      padding: 0 0 0 0;\n",
       "      width: 32px;\n",
       "    }\n",
       "\n",
       "    .colab-df-convert:hover {\n",
       "      background-color: #E2EBFA;\n",
       "      box-shadow: 0px 1px 2px rgba(60, 64, 67, 0.3), 0px 1px 3px 1px rgba(60, 64, 67, 0.15);\n",
       "      fill: #174EA6;\n",
       "    }\n",
       "\n",
       "    [theme=dark] .colab-df-convert {\n",
       "      background-color: #3B4455;\n",
       "      fill: #D2E3FC;\n",
       "    }\n",
       "\n",
       "    [theme=dark] .colab-df-convert:hover {\n",
       "      background-color: #434B5C;\n",
       "      box-shadow: 0px 1px 3px 1px rgba(0, 0, 0, 0.15);\n",
       "      filter: drop-shadow(0px 1px 2px rgba(0, 0, 0, 0.3));\n",
       "      fill: #FFFFFF;\n",
       "    }\n",
       "  </style>\n",
       "\n",
       "      <script>\n",
       "        const buttonEl =\n",
       "          document.querySelector('#df-7536e119-ff5b-4d1b-bab9-dbceaea5e49c button.colab-df-convert');\n",
       "        buttonEl.style.display =\n",
       "          google.colab.kernel.accessAllowed ? 'block' : 'none';\n",
       "\n",
       "        async function convertToInteractive(key) {\n",
       "          const element = document.querySelector('#df-7536e119-ff5b-4d1b-bab9-dbceaea5e49c');\n",
       "          const dataTable =\n",
       "            await google.colab.kernel.invokeFunction('convertToInteractive',\n",
       "                                                     [key], {});\n",
       "          if (!dataTable) return;\n",
       "\n",
       "          const docLinkHtml = 'Like what you see? Visit the ' +\n",
       "            '<a target=\"_blank\" href=https://colab.research.google.com/notebooks/data_table.ipynb>data table notebook</a>'\n",
       "            + ' to learn more about interactive tables.';\n",
       "          element.innerHTML = '';\n",
       "          dataTable['output_type'] = 'display_data';\n",
       "          await google.colab.output.renderOutput(dataTable, element);\n",
       "          const docLink = document.createElement('div');\n",
       "          docLink.innerHTML = docLinkHtml;\n",
       "          element.appendChild(docLink);\n",
       "        }\n",
       "      </script>\n",
       "    </div>\n",
       "  </div>\n",
       "  "
      ],
      "text/plain": [
       "                 Feature names  frequency\n",
       "48                   Nightlife        736\n",
       "143                       Bars        724\n",
       "138              American (New        229\n",
       "69               Cocktail Bars        142\n",
       "144                       Pubs        128\n",
       "84                     Italian        110\n",
       "74                       Pizza         89\n",
       "30                   Wine Bars         85\n",
       "123                    Seafood         82\n",
       "3                     Beer Bar         82\n",
       "97                  Sandwiches         78\n",
       "15                 Sports Bars         78\n",
       "55          Breakfast & Brunch         75\n",
       "132             Wine & Spirits         66\n",
       "17                     Lounges         66\n",
       "118                       Beer         66\n",
       "7                      Mexican         62\n",
       "65   Event Planning & Services         56\n",
       "16                  Gastropubs         53\n",
       "60        Arts & Entertainment         47"
      ]
     },
     "execution_count": 54,
     "metadata": {},
     "output_type": "execute_result"
    }
   ],
   "source": [
    "cluster_3=dict_businesses['cluster_3'].drop('features','prediction')\n",
    "cluster_3_features = get_cluster_features(cluster_3, predictions_business)\n",
    "cluster_3_features.head(20)"
   ]
  },
  {
   "cell_type": "code",
   "execution_count": null,
   "metadata": {
    "colab": {
     "base_uri": "https://localhost:8080/",
     "height": 676
    },
    "id": "fosoCnQpkMT2",
    "outputId": "d79bd373-cc34-4372-9dfa-23c7b97176cf"
   },
   "outputs": [
    {
     "data": {
      "text/html": [
       "\n",
       "  <div id=\"df-2dcf9b23-c0a0-4adb-a9b8-c5b89d9b9e65\">\n",
       "    <div class=\"colab-df-container\">\n",
       "      <div>\n",
       "<style scoped>\n",
       "    .dataframe tbody tr th:only-of-type {\n",
       "        vertical-align: middle;\n",
       "    }\n",
       "\n",
       "    .dataframe tbody tr th {\n",
       "        vertical-align: top;\n",
       "    }\n",
       "\n",
       "    .dataframe thead th {\n",
       "        text-align: right;\n",
       "    }\n",
       "</style>\n",
       "<table border=\"1\" class=\"dataframe\">\n",
       "  <thead>\n",
       "    <tr style=\"text-align: right;\">\n",
       "      <th></th>\n",
       "      <th>Feature names</th>\n",
       "      <th>frequency</th>\n",
       "    </tr>\n",
       "  </thead>\n",
       "  <tbody>\n",
       "    <tr>\n",
       "      <th>97</th>\n",
       "      <td>Sandwiches</td>\n",
       "      <td>967</td>\n",
       "    </tr>\n",
       "    <tr>\n",
       "      <th>55</th>\n",
       "      <td>Breakfast &amp; Brunch</td>\n",
       "      <td>736</td>\n",
       "    </tr>\n",
       "    <tr>\n",
       "      <th>80</th>\n",
       "      <td>Coffee &amp; Tea</td>\n",
       "      <td>499</td>\n",
       "    </tr>\n",
       "    <tr>\n",
       "      <th>136</th>\n",
       "      <td>Delis</td>\n",
       "      <td>278</td>\n",
       "    </tr>\n",
       "    <tr>\n",
       "      <th>95</th>\n",
       "      <td>Cafes</td>\n",
       "      <td>259</td>\n",
       "    </tr>\n",
       "    <tr>\n",
       "      <th>119</th>\n",
       "      <td>American (Traditional</td>\n",
       "      <td>254</td>\n",
       "    </tr>\n",
       "    <tr>\n",
       "      <th>138</th>\n",
       "      <td>American (New</td>\n",
       "      <td>177</td>\n",
       "    </tr>\n",
       "    <tr>\n",
       "      <th>2</th>\n",
       "      <td>Salad</td>\n",
       "      <td>174</td>\n",
       "    </tr>\n",
       "    <tr>\n",
       "      <th>50</th>\n",
       "      <td>Convenience Stores</td>\n",
       "      <td>157</td>\n",
       "    </tr>\n",
       "    <tr>\n",
       "      <th>12</th>\n",
       "      <td>Bakeries</td>\n",
       "      <td>142</td>\n",
       "    </tr>\n",
       "    <tr>\n",
       "      <th>65</th>\n",
       "      <td>Event Planning &amp; Services</td>\n",
       "      <td>124</td>\n",
       "    </tr>\n",
       "    <tr>\n",
       "      <th>56</th>\n",
       "      <td>Bagels</td>\n",
       "      <td>114</td>\n",
       "    </tr>\n",
       "    <tr>\n",
       "      <th>98</th>\n",
       "      <td>Caterers</td>\n",
       "      <td>106</td>\n",
       "    </tr>\n",
       "    <tr>\n",
       "      <th>67</th>\n",
       "      <td>Diners</td>\n",
       "      <td>103</td>\n",
       "    </tr>\n",
       "    <tr>\n",
       "      <th>73</th>\n",
       "      <td>Burgers</td>\n",
       "      <td>100</td>\n",
       "    </tr>\n",
       "    <tr>\n",
       "      <th>84</th>\n",
       "      <td>Italian</td>\n",
       "      <td>94</td>\n",
       "    </tr>\n",
       "    <tr>\n",
       "      <th>113</th>\n",
       "      <td>Desserts</td>\n",
       "      <td>85</td>\n",
       "    </tr>\n",
       "    <tr>\n",
       "      <th>61</th>\n",
       "      <td>Cheesesteaks</td>\n",
       "      <td>81</td>\n",
       "    </tr>\n",
       "    <tr>\n",
       "      <th>39</th>\n",
       "      <td>Juice Bars &amp; Smoothies</td>\n",
       "      <td>81</td>\n",
       "    </tr>\n",
       "    <tr>\n",
       "      <th>94</th>\n",
       "      <td>Soup</td>\n",
       "      <td>78</td>\n",
       "    </tr>\n",
       "  </tbody>\n",
       "</table>\n",
       "</div>\n",
       "      <button class=\"colab-df-convert\" onclick=\"convertToInteractive('df-2dcf9b23-c0a0-4adb-a9b8-c5b89d9b9e65')\"\n",
       "              title=\"Convert this dataframe to an interactive table.\"\n",
       "              style=\"display:none;\">\n",
       "        \n",
       "  <svg xmlns=\"http://www.w3.org/2000/svg\" height=\"24px\"viewBox=\"0 0 24 24\"\n",
       "       width=\"24px\">\n",
       "    <path d=\"M0 0h24v24H0V0z\" fill=\"none\"/>\n",
       "    <path d=\"M18.56 5.44l.94 2.06.94-2.06 2.06-.94-2.06-.94-.94-2.06-.94 2.06-2.06.94zm-11 1L8.5 8.5l.94-2.06 2.06-.94-2.06-.94L8.5 2.5l-.94 2.06-2.06.94zm10 10l.94 2.06.94-2.06 2.06-.94-2.06-.94-.94-2.06-.94 2.06-2.06.94z\"/><path d=\"M17.41 7.96l-1.37-1.37c-.4-.4-.92-.59-1.43-.59-.52 0-1.04.2-1.43.59L10.3 9.45l-7.72 7.72c-.78.78-.78 2.05 0 2.83L4 21.41c.39.39.9.59 1.41.59.51 0 1.02-.2 1.41-.59l7.78-7.78 2.81-2.81c.8-.78.8-2.07 0-2.86zM5.41 20L4 18.59l7.72-7.72 1.47 1.35L5.41 20z\"/>\n",
       "  </svg>\n",
       "      </button>\n",
       "      \n",
       "  <style>\n",
       "    .colab-df-container {\n",
       "      display:flex;\n",
       "      flex-wrap:wrap;\n",
       "      gap: 12px;\n",
       "    }\n",
       "\n",
       "    .colab-df-convert {\n",
       "      background-color: #E8F0FE;\n",
       "      border: none;\n",
       "      border-radius: 50%;\n",
       "      cursor: pointer;\n",
       "      display: none;\n",
       "      fill: #1967D2;\n",
       "      height: 32px;\n",
       "      padding: 0 0 0 0;\n",
       "      width: 32px;\n",
       "    }\n",
       "\n",
       "    .colab-df-convert:hover {\n",
       "      background-color: #E2EBFA;\n",
       "      box-shadow: 0px 1px 2px rgba(60, 64, 67, 0.3), 0px 1px 3px 1px rgba(60, 64, 67, 0.15);\n",
       "      fill: #174EA6;\n",
       "    }\n",
       "\n",
       "    [theme=dark] .colab-df-convert {\n",
       "      background-color: #3B4455;\n",
       "      fill: #D2E3FC;\n",
       "    }\n",
       "\n",
       "    [theme=dark] .colab-df-convert:hover {\n",
       "      background-color: #434B5C;\n",
       "      box-shadow: 0px 1px 3px 1px rgba(0, 0, 0, 0.15);\n",
       "      filter: drop-shadow(0px 1px 2px rgba(0, 0, 0, 0.3));\n",
       "      fill: #FFFFFF;\n",
       "    }\n",
       "  </style>\n",
       "\n",
       "      <script>\n",
       "        const buttonEl =\n",
       "          document.querySelector('#df-2dcf9b23-c0a0-4adb-a9b8-c5b89d9b9e65 button.colab-df-convert');\n",
       "        buttonEl.style.display =\n",
       "          google.colab.kernel.accessAllowed ? 'block' : 'none';\n",
       "\n",
       "        async function convertToInteractive(key) {\n",
       "          const element = document.querySelector('#df-2dcf9b23-c0a0-4adb-a9b8-c5b89d9b9e65');\n",
       "          const dataTable =\n",
       "            await google.colab.kernel.invokeFunction('convertToInteractive',\n",
       "                                                     [key], {});\n",
       "          if (!dataTable) return;\n",
       "\n",
       "          const docLinkHtml = 'Like what you see? Visit the ' +\n",
       "            '<a target=\"_blank\" href=https://colab.research.google.com/notebooks/data_table.ipynb>data table notebook</a>'\n",
       "            + ' to learn more about interactive tables.';\n",
       "          element.innerHTML = '';\n",
       "          dataTable['output_type'] = 'display_data';\n",
       "          await google.colab.output.renderOutput(dataTable, element);\n",
       "          const docLink = document.createElement('div');\n",
       "          docLink.innerHTML = docLinkHtml;\n",
       "          element.appendChild(docLink);\n",
       "        }\n",
       "      </script>\n",
       "    </div>\n",
       "  </div>\n",
       "  "
      ],
      "text/plain": [
       "                 Feature names  frequency\n",
       "97                  Sandwiches        967\n",
       "55          Breakfast & Brunch        736\n",
       "80                Coffee & Tea        499\n",
       "136                      Delis        278\n",
       "95                       Cafes        259\n",
       "119      American (Traditional        254\n",
       "138              American (New        177\n",
       "2                        Salad        174\n",
       "50          Convenience Stores        157\n",
       "12                    Bakeries        142\n",
       "65   Event Planning & Services        124\n",
       "56                      Bagels        114\n",
       "98                    Caterers        106\n",
       "67                      Diners        103\n",
       "73                     Burgers        100\n",
       "84                     Italian         94\n",
       "113                   Desserts         85\n",
       "61                Cheesesteaks         81\n",
       "39      Juice Bars & Smoothies         81\n",
       "94                        Soup         78"
      ]
     },
     "execution_count": 55,
     "metadata": {},
     "output_type": "execute_result"
    }
   ],
   "source": [
    "cluster_4=dict_businesses['cluster_4'].drop('features','prediction')\n",
    "cluster_4_features = get_cluster_features(cluster_4, predictions_business)\n",
    "cluster_4_features.head(20)"
   ]
  },
  {
   "cell_type": "code",
   "execution_count": null,
   "metadata": {
    "colab": {
     "base_uri": "https://localhost:8080/",
     "height": 676
    },
    "id": "luhlErWwkiiz",
    "outputId": "ba99e2e5-e384-43dc-8c19-3553094bbf6f"
   },
   "outputs": [
    {
     "data": {
      "text/html": [
       "\n",
       "  <div id=\"df-c650bcce-a599-456c-97f4-c41f97ab486c\">\n",
       "    <div class=\"colab-df-container\">\n",
       "      <div>\n",
       "<style scoped>\n",
       "    .dataframe tbody tr th:only-of-type {\n",
       "        vertical-align: middle;\n",
       "    }\n",
       "\n",
       "    .dataframe tbody tr th {\n",
       "        vertical-align: top;\n",
       "    }\n",
       "\n",
       "    .dataframe thead th {\n",
       "        text-align: right;\n",
       "    }\n",
       "</style>\n",
       "<table border=\"1\" class=\"dataframe\">\n",
       "  <thead>\n",
       "    <tr style=\"text-align: right;\">\n",
       "      <th></th>\n",
       "      <th>Feature names</th>\n",
       "      <th>frequency</th>\n",
       "    </tr>\n",
       "  </thead>\n",
       "  <tbody>\n",
       "    <tr>\n",
       "      <th>68</th>\n",
       "      <td>Fast Food</td>\n",
       "      <td>615</td>\n",
       "    </tr>\n",
       "    <tr>\n",
       "      <th>73</th>\n",
       "      <td>Burgers</td>\n",
       "      <td>369</td>\n",
       "    </tr>\n",
       "    <tr>\n",
       "      <th>119</th>\n",
       "      <td>American (Traditional</td>\n",
       "      <td>120</td>\n",
       "    </tr>\n",
       "    <tr>\n",
       "      <th>80</th>\n",
       "      <td>Coffee &amp; Tea</td>\n",
       "      <td>111</td>\n",
       "    </tr>\n",
       "    <tr>\n",
       "      <th>7</th>\n",
       "      <td>Mexican</td>\n",
       "      <td>100</td>\n",
       "    </tr>\n",
       "    <tr>\n",
       "      <th>75</th>\n",
       "      <td>Chicken Wings</td>\n",
       "      <td>89</td>\n",
       "    </tr>\n",
       "    <tr>\n",
       "      <th>105</th>\n",
       "      <td>Ice Cream &amp; Frozen Yogurt</td>\n",
       "      <td>68</td>\n",
       "    </tr>\n",
       "    <tr>\n",
       "      <th>82</th>\n",
       "      <td>Chicken Shop</td>\n",
       "      <td>67</td>\n",
       "    </tr>\n",
       "    <tr>\n",
       "      <th>97</th>\n",
       "      <td>Sandwiches</td>\n",
       "      <td>62</td>\n",
       "    </tr>\n",
       "    <tr>\n",
       "      <th>65</th>\n",
       "      <td>Event Planning &amp; Services</td>\n",
       "      <td>58</td>\n",
       "    </tr>\n",
       "    <tr>\n",
       "      <th>98</th>\n",
       "      <td>Caterers</td>\n",
       "      <td>54</td>\n",
       "    </tr>\n",
       "    <tr>\n",
       "      <th>103</th>\n",
       "      <td>Hot Dogs</td>\n",
       "      <td>46</td>\n",
       "    </tr>\n",
       "    <tr>\n",
       "      <th>55</th>\n",
       "      <td>Breakfast &amp; Brunch</td>\n",
       "      <td>34</td>\n",
       "    </tr>\n",
       "    <tr>\n",
       "      <th>34</th>\n",
       "      <td>Tacos</td>\n",
       "      <td>33</td>\n",
       "    </tr>\n",
       "    <tr>\n",
       "      <th>154</th>\n",
       "      <td>Tex-Mex</td>\n",
       "      <td>30</td>\n",
       "    </tr>\n",
       "    <tr>\n",
       "      <th>2</th>\n",
       "      <td>Salad</td>\n",
       "      <td>27</td>\n",
       "    </tr>\n",
       "    <tr>\n",
       "      <th>138</th>\n",
       "      <td>American (New</td>\n",
       "      <td>25</td>\n",
       "    </tr>\n",
       "    <tr>\n",
       "      <th>28</th>\n",
       "      <td>Chinese</td>\n",
       "      <td>17</td>\n",
       "    </tr>\n",
       "    <tr>\n",
       "      <th>123</th>\n",
       "      <td>Seafood</td>\n",
       "      <td>17</td>\n",
       "    </tr>\n",
       "    <tr>\n",
       "      <th>12</th>\n",
       "      <td>Bakeries</td>\n",
       "      <td>15</td>\n",
       "    </tr>\n",
       "  </tbody>\n",
       "</table>\n",
       "</div>\n",
       "      <button class=\"colab-df-convert\" onclick=\"convertToInteractive('df-c650bcce-a599-456c-97f4-c41f97ab486c')\"\n",
       "              title=\"Convert this dataframe to an interactive table.\"\n",
       "              style=\"display:none;\">\n",
       "        \n",
       "  <svg xmlns=\"http://www.w3.org/2000/svg\" height=\"24px\"viewBox=\"0 0 24 24\"\n",
       "       width=\"24px\">\n",
       "    <path d=\"M0 0h24v24H0V0z\" fill=\"none\"/>\n",
       "    <path d=\"M18.56 5.44l.94 2.06.94-2.06 2.06-.94-2.06-.94-.94-2.06-.94 2.06-2.06.94zm-11 1L8.5 8.5l.94-2.06 2.06-.94-2.06-.94L8.5 2.5l-.94 2.06-2.06.94zm10 10l.94 2.06.94-2.06 2.06-.94-2.06-.94-.94-2.06-.94 2.06-2.06.94z\"/><path d=\"M17.41 7.96l-1.37-1.37c-.4-.4-.92-.59-1.43-.59-.52 0-1.04.2-1.43.59L10.3 9.45l-7.72 7.72c-.78.78-.78 2.05 0 2.83L4 21.41c.39.39.9.59 1.41.59.51 0 1.02-.2 1.41-.59l7.78-7.78 2.81-2.81c.8-.78.8-2.07 0-2.86zM5.41 20L4 18.59l7.72-7.72 1.47 1.35L5.41 20z\"/>\n",
       "  </svg>\n",
       "      </button>\n",
       "      \n",
       "  <style>\n",
       "    .colab-df-container {\n",
       "      display:flex;\n",
       "      flex-wrap:wrap;\n",
       "      gap: 12px;\n",
       "    }\n",
       "\n",
       "    .colab-df-convert {\n",
       "      background-color: #E8F0FE;\n",
       "      border: none;\n",
       "      border-radius: 50%;\n",
       "      cursor: pointer;\n",
       "      display: none;\n",
       "      fill: #1967D2;\n",
       "      height: 32px;\n",
       "      padding: 0 0 0 0;\n",
       "      width: 32px;\n",
       "    }\n",
       "\n",
       "    .colab-df-convert:hover {\n",
       "      background-color: #E2EBFA;\n",
       "      box-shadow: 0px 1px 2px rgba(60, 64, 67, 0.3), 0px 1px 3px 1px rgba(60, 64, 67, 0.15);\n",
       "      fill: #174EA6;\n",
       "    }\n",
       "\n",
       "    [theme=dark] .colab-df-convert {\n",
       "      background-color: #3B4455;\n",
       "      fill: #D2E3FC;\n",
       "    }\n",
       "\n",
       "    [theme=dark] .colab-df-convert:hover {\n",
       "      background-color: #434B5C;\n",
       "      box-shadow: 0px 1px 3px 1px rgba(0, 0, 0, 0.15);\n",
       "      filter: drop-shadow(0px 1px 2px rgba(0, 0, 0, 0.3));\n",
       "      fill: #FFFFFF;\n",
       "    }\n",
       "  </style>\n",
       "\n",
       "      <script>\n",
       "        const buttonEl =\n",
       "          document.querySelector('#df-c650bcce-a599-456c-97f4-c41f97ab486c button.colab-df-convert');\n",
       "        buttonEl.style.display =\n",
       "          google.colab.kernel.accessAllowed ? 'block' : 'none';\n",
       "\n",
       "        async function convertToInteractive(key) {\n",
       "          const element = document.querySelector('#df-c650bcce-a599-456c-97f4-c41f97ab486c');\n",
       "          const dataTable =\n",
       "            await google.colab.kernel.invokeFunction('convertToInteractive',\n",
       "                                                     [key], {});\n",
       "          if (!dataTable) return;\n",
       "\n",
       "          const docLinkHtml = 'Like what you see? Visit the ' +\n",
       "            '<a target=\"_blank\" href=https://colab.research.google.com/notebooks/data_table.ipynb>data table notebook</a>'\n",
       "            + ' to learn more about interactive tables.';\n",
       "          element.innerHTML = '';\n",
       "          dataTable['output_type'] = 'display_data';\n",
       "          await google.colab.output.renderOutput(dataTable, element);\n",
       "          const docLink = document.createElement('div');\n",
       "          docLink.innerHTML = docLinkHtml;\n",
       "          element.appendChild(docLink);\n",
       "        }\n",
       "      </script>\n",
       "    </div>\n",
       "  </div>\n",
       "  "
      ],
      "text/plain": [
       "                 Feature names  frequency\n",
       "68                   Fast Food        615\n",
       "73                     Burgers        369\n",
       "119      American (Traditional        120\n",
       "80                Coffee & Tea        111\n",
       "7                      Mexican        100\n",
       "75               Chicken Wings         89\n",
       "105  Ice Cream & Frozen Yogurt         68\n",
       "82                Chicken Shop         67\n",
       "97                  Sandwiches         62\n",
       "65   Event Planning & Services         58\n",
       "98                    Caterers         54\n",
       "103                   Hot Dogs         46\n",
       "55          Breakfast & Brunch         34\n",
       "34                       Tacos         33\n",
       "154                    Tex-Mex         30\n",
       "2                        Salad         27\n",
       "138              American (New         25\n",
       "28                     Chinese         17\n",
       "123                    Seafood         17\n",
       "12                    Bakeries         15"
      ]
     },
     "execution_count": 56,
     "metadata": {},
     "output_type": "execute_result"
    }
   ],
   "source": [
    "cluster_5=dict_businesses['cluster_5'].drop('features','prediction')\n",
    "cluster_5_features = get_cluster_features(cluster_5, predictions_business)\n",
    "cluster_5_features.head(20)"
   ]
  },
  {
   "cell_type": "code",
   "execution_count": null,
   "metadata": {
    "id": "lKf2h4dXPW8E"
   },
   "outputs": [],
   "source": [
    "def top_5_features_bar_graph(df,i):\n",
    "    df_sorted = df.sort_values(by='frequency', ascending=False)\n",
    "\n",
    "    top_5_features = df_sorted.head(5)\n",
    "\n",
    "    ax = top_5_features.plot(x='Feature names', y='frequency', kind='bar', legend=False)\n",
    "\n",
    "    ax.set_title('Top 5 Features in cluster {}'.format(i))\n",
    "    ax.set_xlabel('Feature')\n",
    "    ax.set_ylabel('Frequency')\n",
    "\n",
    "    return ax.get_figure()"
   ]
  },
  {
   "cell_type": "code",
   "execution_count": null,
   "metadata": {
    "colab": {
     "base_uri": "https://localhost:8080/",
     "height": 564
    },
    "id": "uHJatcPJlavW",
    "outputId": "dd3f3364-5a53-4336-bc8d-a289e59d1f97"
   },
   "outputs": [
    {
     "data": {
      "image/png": "[encoded data removed]",
      "text/plain": [
       "<Figure size 640x480 with 1 Axes>"
      ]
     },
     "metadata": {},
     "output_type": "display_data"
    }
   ],
   "source": [
    "fig0=top_5_features_bar_graph(cluster_0_features,0)"
   ]
  },
  {
   "cell_type": "code",
   "execution_count": null,
   "metadata": {
    "colab": {
     "base_uri": "https://localhost:8080/",
     "height": 559
    },
    "id": "oEhmmOhplhI7",
    "outputId": "a6071702-0bf6-4b86-ee4d-f07f78c94ac7"
   },
   "outputs": [
    {
     "data": {
      "image/png": "[encoded data removed]",
      "text/plain": [
       "<Figure size 640x480 with 1 Axes>"
      ]
     },
     "metadata": {},
     "output_type": "display_data"
    }
   ],
   "source": [
    "fig1=top_5_features_bar_graph(cluster_1_features,1)"
   ]
  },
  {
   "cell_type": "code",
   "execution_count": null,
   "metadata": {
    "colab": {
     "base_uri": "https://localhost:8080/",
     "height": 606
    },
    "id": "oQ6XKe6pllQa",
    "outputId": "d2629bd3-4b7e-41c7-f611-6c582ecb851b"
   },
   "outputs": [
    {
     "data": {
      "image/png": "[encoded data removed]",
      "text/plain": [
       "<Figure size 640x480 with 1 Axes>"
      ]
     },
     "metadata": {},
     "output_type": "display_data"
    }
   ],
   "source": [
    "fig2=top_5_features_bar_graph(cluster_2_features,2)"
   ]
  },
  {
   "cell_type": "code",
   "execution_count": null,
   "metadata": {
    "colab": {
     "base_uri": "https://localhost:8080/",
     "height": 564
    },
    "id": "vnMgxt58lq3o",
    "outputId": "93d1fe0d-785c-461d-eae9-2287f0fa90e7"
   },
   "outputs": [
    {
     "data": {
      "image/png": "[encoded data removed]",
      "text/plain": [
       "<Figure size 640x480 with 1 Axes>"
      ]
     },
     "metadata": {},
     "output_type": "display_data"
    }
   ],
   "source": [
    "fig3=top_5_features_bar_graph(cluster_3_features,3)"
   ]
  },
  {
   "cell_type": "code",
   "execution_count": null,
   "metadata": {
    "colab": {
     "base_uri": "https://localhost:8080/",
     "height": 593
    },
    "id": "BzfVFwazl0hr",
    "outputId": "f8831404-5309-4ab6-a1e8-f26848c30a3f"
   },
   "outputs": [
    {
     "data": {
      "image/png": "[encoded data removed]",
      "text/plain": [
       "<Figure size 640x480 with 1 Axes>"
      ]
     },
     "metadata": {},
     "output_type": "display_data"
    }
   ],
   "source": [
    "fig4=top_5_features_bar_graph(cluster_4_features,4)"
   ]
  },
  {
   "cell_type": "code",
   "execution_count": null,
   "metadata": {
    "colab": {
     "base_uri": "https://localhost:8080/",
     "height": 606
    },
    "id": "lgCS_0Jll59P",
    "outputId": "a4d79cb5-e212-4e20-a9c1-01fff02c9cd8"
   },
   "outputs": [
    {
     "data": {
      "image/png": "[encoded data removed]",
      "text/plain": [
       "<Figure size 640x480 with 1 Axes>"
      ]
     },
     "metadata": {},
     "output_type": "display_data"
    }
   ],
   "source": [
    "fig5=top_5_features_bar_graph(cluster_5_features,5)"
   ]
  }
 ],
 "metadata": {
  "colab": {
   "provenance": []
  },
  "gpuClass": "standard",
  "kernelspec": {
   "display_name": "Python 3 (ipykernel)",
   "language": "python",
   "name": "python3"
  },
  "language_info": {
   "codemirror_mode": {
    "name": "ipython",
    "version": 3
   },
   "file_extension": ".py",
   "mimetype": "text/x-python",
   "name": "python",
   "nbconvert_exporter": "python",
   "pygments_lexer": "ipython3",
   "version": "3.10.8"
  }
 },
 "nbformat": 4,
 "nbformat_minor": 1
}
